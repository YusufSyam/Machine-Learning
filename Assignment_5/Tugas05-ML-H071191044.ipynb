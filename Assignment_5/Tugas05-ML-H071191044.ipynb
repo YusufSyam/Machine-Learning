{
 "cells": [
  {
   "cell_type": "markdown",
   "id": "74a9b3be",
   "metadata": {},
   "source": [
    "## Tugas 05 Machine Learning"
   ]
  },
  {
   "cell_type": "markdown",
   "id": "7a6b105a",
   "metadata": {},
   "source": [
    "Nama: Muh. Yusuf Syam<br>\n",
    "NIM: H071191044"
   ]
  },
  {
   "cell_type": "markdown",
   "id": "4c7c0241",
   "metadata": {},
   "source": [
    "<h1 align=\"center\">SVM & SVR Classification</h1><br>"
   ]
  },
  {
   "cell_type": "code",
   "execution_count": 1,
   "id": "246fe216",
   "metadata": {},
   "outputs": [],
   "source": [
    "import pandas as pd\n",
    "from sklearn.preprocessing import LabelEncoder, StandardScaler\n",
    "from sklearn.model_selection import train_test_split\n",
    "from sklearn import svm\n",
    "from sklearn import metrics\n",
    "from sklearn.metrics import classification_report, cohen_kappa_score, fbeta_score, confusion_matrix, auc, roc_curve"
   ]
  },
  {
   "cell_type": "code",
   "execution_count": 2,
   "id": "044cbff6",
   "metadata": {},
   "outputs": [
    {
     "data": {
      "text/html": [
       "<div>\n",
       "<style scoped>\n",
       "    .dataframe tbody tr th:only-of-type {\n",
       "        vertical-align: middle;\n",
       "    }\n",
       "\n",
       "    .dataframe tbody tr th {\n",
       "        vertical-align: top;\n",
       "    }\n",
       "\n",
       "    .dataframe thead th {\n",
       "        text-align: right;\n",
       "    }\n",
       "</style>\n",
       "<table border=\"1\" class=\"dataframe\">\n",
       "  <thead>\n",
       "    <tr style=\"text-align: right;\">\n",
       "      <th></th>\n",
       "      <th>Sepal.Length</th>\n",
       "      <th>Sepal.Width</th>\n",
       "      <th>Petal.Length</th>\n",
       "      <th>Petal.Width</th>\n",
       "      <th>Species</th>\n",
       "    </tr>\n",
       "  </thead>\n",
       "  <tbody>\n",
       "    <tr>\n",
       "      <th>0</th>\n",
       "      <td>5.1</td>\n",
       "      <td>3.5</td>\n",
       "      <td>1.4</td>\n",
       "      <td>0.2</td>\n",
       "      <td>setosa</td>\n",
       "    </tr>\n",
       "    <tr>\n",
       "      <th>1</th>\n",
       "      <td>4.9</td>\n",
       "      <td>3.0</td>\n",
       "      <td>1.4</td>\n",
       "      <td>0.2</td>\n",
       "      <td>setosa</td>\n",
       "    </tr>\n",
       "    <tr>\n",
       "      <th>2</th>\n",
       "      <td>4.7</td>\n",
       "      <td>3.2</td>\n",
       "      <td>1.3</td>\n",
       "      <td>0.2</td>\n",
       "      <td>setosa</td>\n",
       "    </tr>\n",
       "    <tr>\n",
       "      <th>3</th>\n",
       "      <td>4.6</td>\n",
       "      <td>3.1</td>\n",
       "      <td>1.5</td>\n",
       "      <td>0.2</td>\n",
       "      <td>setosa</td>\n",
       "    </tr>\n",
       "    <tr>\n",
       "      <th>4</th>\n",
       "      <td>5.0</td>\n",
       "      <td>3.6</td>\n",
       "      <td>1.4</td>\n",
       "      <td>0.2</td>\n",
       "      <td>setosa</td>\n",
       "    </tr>\n",
       "  </tbody>\n",
       "</table>\n",
       "</div>"
      ],
      "text/plain": [
       "   Sepal.Length  Sepal.Width  Petal.Length  Petal.Width Species\n",
       "0           5.1          3.5           1.4          0.2  setosa\n",
       "1           4.9          3.0           1.4          0.2  setosa\n",
       "2           4.7          3.2           1.3          0.2  setosa\n",
       "3           4.6          3.1           1.5          0.2  setosa\n",
       "4           5.0          3.6           1.4          0.2  setosa"
      ]
     },
     "execution_count": 2,
     "metadata": {},
     "output_type": "execute_result"
    }
   ],
   "source": [
    "df= pd.read_csv('dataset_iris.csv')\n",
    "df.head()"
   ]
  },
  {
   "cell_type": "code",
   "execution_count": 3,
   "id": "4afd4157",
   "metadata": {},
   "outputs": [
    {
     "data": {
      "text/plain": [
       "(150, 5)"
      ]
     },
     "execution_count": 3,
     "metadata": {},
     "output_type": "execute_result"
    }
   ],
   "source": [
    "df.shape"
   ]
  },
  {
   "cell_type": "markdown",
   "id": "5110e1e1",
   "metadata": {},
   "source": [
    "## Preprocessing"
   ]
  },
  {
   "cell_type": "code",
   "execution_count": 4,
   "id": "3802063b",
   "metadata": {},
   "outputs": [
    {
     "data": {
      "text/html": [
       "<div>\n",
       "<style scoped>\n",
       "    .dataframe tbody tr th:only-of-type {\n",
       "        vertical-align: middle;\n",
       "    }\n",
       "\n",
       "    .dataframe tbody tr th {\n",
       "        vertical-align: top;\n",
       "    }\n",
       "\n",
       "    .dataframe thead th {\n",
       "        text-align: right;\n",
       "    }\n",
       "</style>\n",
       "<table border=\"1\" class=\"dataframe\">\n",
       "  <thead>\n",
       "    <tr style=\"text-align: right;\">\n",
       "      <th></th>\n",
       "      <th>Sepal.Length</th>\n",
       "      <th>Sepal.Width</th>\n",
       "      <th>Petal.Length</th>\n",
       "      <th>Petal.Width</th>\n",
       "      <th>Species</th>\n",
       "    </tr>\n",
       "  </thead>\n",
       "  <tbody>\n",
       "    <tr>\n",
       "      <th>0</th>\n",
       "      <td>5.1</td>\n",
       "      <td>3.5</td>\n",
       "      <td>1.4</td>\n",
       "      <td>0.2</td>\n",
       "      <td>setosa</td>\n",
       "    </tr>\n",
       "    <tr>\n",
       "      <th>1</th>\n",
       "      <td>4.9</td>\n",
       "      <td>3.0</td>\n",
       "      <td>1.4</td>\n",
       "      <td>0.2</td>\n",
       "      <td>setosa</td>\n",
       "    </tr>\n",
       "    <tr>\n",
       "      <th>2</th>\n",
       "      <td>4.7</td>\n",
       "      <td>3.2</td>\n",
       "      <td>1.3</td>\n",
       "      <td>0.2</td>\n",
       "      <td>setosa</td>\n",
       "    </tr>\n",
       "    <tr>\n",
       "      <th>3</th>\n",
       "      <td>4.6</td>\n",
       "      <td>3.1</td>\n",
       "      <td>1.5</td>\n",
       "      <td>0.2</td>\n",
       "      <td>setosa</td>\n",
       "    </tr>\n",
       "    <tr>\n",
       "      <th>4</th>\n",
       "      <td>5.0</td>\n",
       "      <td>3.6</td>\n",
       "      <td>1.4</td>\n",
       "      <td>0.2</td>\n",
       "      <td>setosa</td>\n",
       "    </tr>\n",
       "  </tbody>\n",
       "</table>\n",
       "</div>"
      ],
      "text/plain": [
       "   Sepal.Length  Sepal.Width  Petal.Length  Petal.Width Species\n",
       "0           5.1          3.5           1.4          0.2  setosa\n",
       "1           4.9          3.0           1.4          0.2  setosa\n",
       "2           4.7          3.2           1.3          0.2  setosa\n",
       "3           4.6          3.1           1.5          0.2  setosa\n",
       "4           5.0          3.6           1.4          0.2  setosa"
      ]
     },
     "execution_count": 4,
     "metadata": {},
     "output_type": "execute_result"
    }
   ],
   "source": [
    "df_out= df.copy()\n",
    "df_out.head()"
   ]
  },
  {
   "cell_type": "markdown",
   "id": "4353d6b8",
   "metadata": {},
   "source": [
    "Mengecek jika ada nilai NaN"
   ]
  },
  {
   "cell_type": "code",
   "execution_count": 5,
   "id": "88509991",
   "metadata": {},
   "outputs": [
    {
     "data": {
      "text/plain": [
       "Sepal.Length    0\n",
       "Sepal.Width     0\n",
       "Petal.Length    0\n",
       "Petal.Width     0\n",
       "Species         0\n",
       "dtype: int64"
      ]
     },
     "execution_count": 5,
     "metadata": {},
     "output_type": "execute_result"
    }
   ],
   "source": [
    "df_out.isnull().sum()"
   ]
  },
  {
   "cell_type": "markdown",
   "id": "64e51ecb",
   "metadata": {},
   "source": [
    "Normalisasi"
   ]
  },
  {
   "cell_type": "code",
   "execution_count": 6,
   "id": "54c33952",
   "metadata": {},
   "outputs": [
    {
     "data": {
      "text/html": [
       "<div>\n",
       "<style scoped>\n",
       "    .dataframe tbody tr th:only-of-type {\n",
       "        vertical-align: middle;\n",
       "    }\n",
       "\n",
       "    .dataframe tbody tr th {\n",
       "        vertical-align: top;\n",
       "    }\n",
       "\n",
       "    .dataframe thead th {\n",
       "        text-align: right;\n",
       "    }\n",
       "</style>\n",
       "<table border=\"1\" class=\"dataframe\">\n",
       "  <thead>\n",
       "    <tr style=\"text-align: right;\">\n",
       "      <th></th>\n",
       "      <th>Sepal.Length</th>\n",
       "      <th>Sepal.Width</th>\n",
       "      <th>Petal.Length</th>\n",
       "      <th>Petal.Width</th>\n",
       "      <th>Species</th>\n",
       "    </tr>\n",
       "  </thead>\n",
       "  <tbody>\n",
       "    <tr>\n",
       "      <th>0</th>\n",
       "      <td>-0.900681</td>\n",
       "      <td>1.019004</td>\n",
       "      <td>-1.340227</td>\n",
       "      <td>-1.315444</td>\n",
       "      <td>setosa</td>\n",
       "    </tr>\n",
       "    <tr>\n",
       "      <th>1</th>\n",
       "      <td>-1.143017</td>\n",
       "      <td>-0.131979</td>\n",
       "      <td>-1.340227</td>\n",
       "      <td>-1.315444</td>\n",
       "      <td>setosa</td>\n",
       "    </tr>\n",
       "    <tr>\n",
       "      <th>2</th>\n",
       "      <td>-1.385353</td>\n",
       "      <td>0.328414</td>\n",
       "      <td>-1.397064</td>\n",
       "      <td>-1.315444</td>\n",
       "      <td>setosa</td>\n",
       "    </tr>\n",
       "    <tr>\n",
       "      <th>3</th>\n",
       "      <td>-1.506521</td>\n",
       "      <td>0.098217</td>\n",
       "      <td>-1.283389</td>\n",
       "      <td>-1.315444</td>\n",
       "      <td>setosa</td>\n",
       "    </tr>\n",
       "    <tr>\n",
       "      <th>4</th>\n",
       "      <td>-1.021849</td>\n",
       "      <td>1.249201</td>\n",
       "      <td>-1.340227</td>\n",
       "      <td>-1.315444</td>\n",
       "      <td>setosa</td>\n",
       "    </tr>\n",
       "  </tbody>\n",
       "</table>\n",
       "</div>"
      ],
      "text/plain": [
       "   Sepal.Length  Sepal.Width  Petal.Length  Petal.Width Species\n",
       "0     -0.900681     1.019004     -1.340227    -1.315444  setosa\n",
       "1     -1.143017    -0.131979     -1.340227    -1.315444  setosa\n",
       "2     -1.385353     0.328414     -1.397064    -1.315444  setosa\n",
       "3     -1.506521     0.098217     -1.283389    -1.315444  setosa\n",
       "4     -1.021849     1.249201     -1.340227    -1.315444  setosa"
      ]
     },
     "execution_count": 6,
     "metadata": {},
     "output_type": "execute_result"
    }
   ],
   "source": [
    "scaler = StandardScaler()\n",
    "features= df_out.drop('Species', axis='columns')\n",
    "scaled_features= scaler.fit_transform(features)\n",
    "\n",
    "df_out= pd.concat([pd.DataFrame(data=scaled_features), df['Species']], axis='columns')\n",
    "df_out.columns= df.columns\n",
    "df_out.head()"
   ]
  },
  {
   "cell_type": "markdown",
   "id": "a8a3a7a5",
   "metadata": {},
   "source": [
    "Label Encoding"
   ]
  },
  {
   "cell_type": "code",
   "execution_count": 7,
   "id": "075ca0b3",
   "metadata": {},
   "outputs": [
    {
     "data": {
      "text/html": [
       "<div>\n",
       "<style scoped>\n",
       "    .dataframe tbody tr th:only-of-type {\n",
       "        vertical-align: middle;\n",
       "    }\n",
       "\n",
       "    .dataframe tbody tr th {\n",
       "        vertical-align: top;\n",
       "    }\n",
       "\n",
       "    .dataframe thead th {\n",
       "        text-align: right;\n",
       "    }\n",
       "</style>\n",
       "<table border=\"1\" class=\"dataframe\">\n",
       "  <thead>\n",
       "    <tr style=\"text-align: right;\">\n",
       "      <th></th>\n",
       "      <th>Sepal.Length</th>\n",
       "      <th>Sepal.Width</th>\n",
       "      <th>Petal.Length</th>\n",
       "      <th>Petal.Width</th>\n",
       "      <th>Species</th>\n",
       "    </tr>\n",
       "  </thead>\n",
       "  <tbody>\n",
       "    <tr>\n",
       "      <th>0</th>\n",
       "      <td>-0.900681</td>\n",
       "      <td>1.019004</td>\n",
       "      <td>-1.340227</td>\n",
       "      <td>-1.315444</td>\n",
       "      <td>0</td>\n",
       "    </tr>\n",
       "    <tr>\n",
       "      <th>1</th>\n",
       "      <td>-1.143017</td>\n",
       "      <td>-0.131979</td>\n",
       "      <td>-1.340227</td>\n",
       "      <td>-1.315444</td>\n",
       "      <td>0</td>\n",
       "    </tr>\n",
       "    <tr>\n",
       "      <th>2</th>\n",
       "      <td>-1.385353</td>\n",
       "      <td>0.328414</td>\n",
       "      <td>-1.397064</td>\n",
       "      <td>-1.315444</td>\n",
       "      <td>0</td>\n",
       "    </tr>\n",
       "    <tr>\n",
       "      <th>3</th>\n",
       "      <td>-1.506521</td>\n",
       "      <td>0.098217</td>\n",
       "      <td>-1.283389</td>\n",
       "      <td>-1.315444</td>\n",
       "      <td>0</td>\n",
       "    </tr>\n",
       "    <tr>\n",
       "      <th>4</th>\n",
       "      <td>-1.021849</td>\n",
       "      <td>1.249201</td>\n",
       "      <td>-1.340227</td>\n",
       "      <td>-1.315444</td>\n",
       "      <td>0</td>\n",
       "    </tr>\n",
       "  </tbody>\n",
       "</table>\n",
       "</div>"
      ],
      "text/plain": [
       "   Sepal.Length  Sepal.Width  Petal.Length  Petal.Width  Species\n",
       "0     -0.900681     1.019004     -1.340227    -1.315444        0\n",
       "1     -1.143017    -0.131979     -1.340227    -1.315444        0\n",
       "2     -1.385353     0.328414     -1.397064    -1.315444        0\n",
       "3     -1.506521     0.098217     -1.283389    -1.315444        0\n",
       "4     -1.021849     1.249201     -1.340227    -1.315444        0"
      ]
     },
     "execution_count": 7,
     "metadata": {},
     "output_type": "execute_result"
    }
   ],
   "source": [
    "df_out['Species']= LabelEncoder().fit_transform(df_out['Species'])\n",
    "df_out.head()"
   ]
  },
  {
   "cell_type": "markdown",
   "id": "06951658",
   "metadata": {},
   "source": [
    "Train Test Split"
   ]
  },
  {
   "cell_type": "code",
   "execution_count": 8,
   "id": "3c418a0b",
   "metadata": {},
   "outputs": [
    {
     "data": {
      "text/plain": [
       "(   Sepal.Length  Sepal.Width  Petal.Length  Petal.Width\n",
       " 0     -0.900681     1.019004     -1.340227    -1.315444\n",
       " 1     -1.143017    -0.131979     -1.340227    -1.315444\n",
       " 2     -1.385353     0.328414     -1.397064    -1.315444\n",
       " 3     -1.506521     0.098217     -1.283389    -1.315444\n",
       " 4     -1.021849     1.249201     -1.340227    -1.315444,\n",
       " 0    0\n",
       " 1    0\n",
       " 2    0\n",
       " 3    0\n",
       " 4    0\n",
       " Name: Species, dtype: int32)"
      ]
     },
     "execution_count": 8,
     "metadata": {},
     "output_type": "execute_result"
    }
   ],
   "source": [
    "x= df_out.drop('Species', axis='columns')\n",
    "y= df_out['Species']\n",
    "\n",
    "x.head(), y.head()"
   ]
  },
  {
   "cell_type": "code",
   "execution_count": 9,
   "id": "5ff4f84a",
   "metadata": {},
   "outputs": [
    {
     "name": "stdout",
     "output_type": "stream",
     "text": [
      "120 30\n"
     ]
    }
   ],
   "source": [
    "# Parameter stratify untuk membalance data\n",
    "x_train, x_test, y_train, y_test= train_test_split(x, y, test_size=0.2, stratify= y)\n",
    "\n",
    "print(len(x_train), len(x_test))"
   ]
  },
  {
   "cell_type": "markdown",
   "id": "e6c80cc8",
   "metadata": {},
   "source": [
    "## Klasifikasi SVM"
   ]
  },
  {
   "cell_type": "code",
   "execution_count": 10,
   "id": "48533b28",
   "metadata": {},
   "outputs": [
    {
     "name": "stdout",
     "output_type": "stream",
     "text": [
      "linear Accuracy: 0.9666666666666667\n",
      "rbf Accuracy: 0.9666666666666667\n",
      "poly Accuracy: 0.9666666666666667\n",
      "sigmoid Accuracy: 0.8666666666666667\n"
     ]
    }
   ],
   "source": [
    "# Jika bingung mau pake kernel apa, maka kita bisa menguji satu2 kernelnya\n",
    "list_kernel= ['linear', 'rbf', 'poly', 'sigmoid']\n",
    "\n",
    "for i in list_kernel:\n",
    "    temp_model= svm.SVC(kernel=i)\n",
    "    temp_model.fit(x_train, y_train)\n",
    "    \n",
    "    print(\"{} Accuracy: {}\".format(i, metrics.accuracy_score(y_test, temp_model.predict(x_test))))"
   ]
  },
  {
   "cell_type": "markdown",
   "id": "f3382fc9",
   "metadata": {},
   "source": [
    "Kita memilih kernel dengan accuraccy tertinggi"
   ]
  },
  {
   "cell_type": "code",
   "execution_count": 11,
   "id": "7aff4320",
   "metadata": {},
   "outputs": [
    {
     "data": {
      "text/plain": [
       "(array([2, 1, 2, 0, 1]),\n",
       " 109    2\n",
       " 98     1\n",
       " 139    2\n",
       " 14     0\n",
       " 85     1\n",
       " Name: Species, dtype: int32)"
      ]
     },
     "execution_count": 11,
     "metadata": {},
     "output_type": "execute_result"
    }
   ],
   "source": [
    "model_svm= svm.SVC(kernel='rbf') # Defaultnya juga rbf\n",
    "model_svm.fit(x_train, y_train)\n",
    "\n",
    "# Untuk model svr\n",
    "# model_svr= svm.SVR(kernel='rbf')\n",
    "# model_svr.fit(x_train, y_train)\n",
    "\n",
    "y_predict= model_svm.predict(x_test)\n",
    "y_predict[:5], y_test[:5]"
   ]
  },
  {
   "cell_type": "markdown",
   "id": "e0c87d33",
   "metadata": {},
   "source": [
    "* Accuraccy score"
   ]
  },
  {
   "cell_type": "code",
   "execution_count": 12,
   "id": "400df6a8",
   "metadata": {},
   "outputs": [
    {
     "name": "stdout",
     "output_type": "stream",
     "text": [
      "Accuraccy Score: 96.67%\n"
     ]
    }
   ],
   "source": [
    "accuraccy_score= metrics.accuracy_score(y_test, y_predict)\n",
    "print(\"Accuraccy Score: {:.2f}%\".format(accuraccy_score*100))"
   ]
  },
  {
   "cell_type": "markdown",
   "id": "444b4994",
   "metadata": {},
   "source": [
    "* Confusion matrix"
   ]
  },
  {
   "cell_type": "code",
   "execution_count": 13,
   "id": "910f520d",
   "metadata": {},
   "outputs": [
    {
     "name": "stdout",
     "output_type": "stream",
     "text": [
      "Confusion matrix: \n",
      "[[10  0  0]\n",
      " [ 0  9  1]\n",
      " [ 0  0 10]]\n"
     ]
    }
   ],
   "source": [
    "cm= confusion_matrix(y_test, y_predict, labels=df_out['Species'].unique())\n",
    "print(\"Confusion matrix: \\n{}\".format(cm))"
   ]
  },
  {
   "cell_type": "markdown",
   "id": "3c3dfcdb",
   "metadata": {},
   "source": [
    "Confusion matrix visualization"
   ]
  },
  {
   "cell_type": "code",
   "execution_count": 14,
   "id": "5789435e",
   "metadata": {},
   "outputs": [
    {
     "data": {
      "image/png": "[encoded data removed]",
      "text/plain": [
       "<Figure size 288x288 with 2 Axes>"
      ]
     },
     "metadata": {
      "needs_background": "light"
     },
     "output_type": "display_data"
    }
   ],
   "source": [
    "from matplotlib import pyplot as plt\n",
    "\n",
    "plt.matshow(cm, cmap='Greens')\n",
    "\n",
    "plt.colorbar().set_label('Count')\n",
    "\n",
    "plt.xticks(ticks=[0,1,2], labels=df['Species'].unique())\n",
    "plt.yticks(ticks=[0,1,2], labels=df['Species'].unique())\n",
    "\n",
    "plt.xlabel('Predicted')\n",
    "plt.ylabel('Expected')\n",
    "\n",
    "plt.title('Visualisasi Confusion Matrix SVM', size=15, pad=50)\n",
    "plt.show()"
   ]
  },
  {
   "cell_type": "markdown",
   "id": "b8019ed5",
   "metadata": {},
   "source": [
    "* Classification report"
   ]
  },
  {
   "cell_type": "code",
   "execution_count": 15,
   "id": "bdcacb06",
   "metadata": {},
   "outputs": [
    {
     "name": "stdout",
     "output_type": "stream",
     "text": [
      "Classification report: \n",
      "              precision    recall  f1-score   support\n",
      "\n",
      "           0       1.00      1.00      1.00        10\n",
      "           1       1.00      0.90      0.95        10\n",
      "           2       0.91      1.00      0.95        10\n",
      "\n",
      "    accuracy                           0.97        30\n",
      "   macro avg       0.97      0.97      0.97        30\n",
      "weighted avg       0.97      0.97      0.97        30\n",
      "\n"
     ]
    }
   ],
   "source": [
    "cr= classification_report(y_test, y_predict)\n",
    "print(\"Classification report: \\n{}\".format(cr))"
   ]
  },
  {
   "cell_type": "markdown",
   "id": "5eda4e82",
   "metadata": {},
   "source": [
    "* Skor metrics lain"
   ]
  },
  {
   "cell_type": "code",
   "execution_count": 16,
   "id": "4e6d0e86",
   "metadata": {},
   "outputs": [
    {
     "name": "stdout",
     "output_type": "stream",
     "text": [
      "Cohen kappa score: 95.00%\n",
      "Fbeta score: 96.67%\n",
      "AUC score: 52.50%\n"
     ]
    }
   ],
   "source": [
    "# cohen kappa score\n",
    "cks= cohen_kappa_score(y_test, y_predict)\n",
    "\n",
    "# fbeta score\n",
    "fbeta= fbeta_score(y_test, y_predict, beta=0.5, average='micro')\n",
    "\n",
    "# auc score\n",
    "fpr, tpr, thresholds = roc_curve(y_test, y_predict, pos_label = 1)\n",
    "auc_score= auc(fpr, tpr)\n",
    "\n",
    "print(\"Cohen kappa score: {:.2f}%\".format(cks*100))\n",
    "print(\"Fbeta score: {:.2f}%\".format(fbeta*100))\n",
    "print(\"AUC score: {:.2f}%\".format(auc_score*100))"
   ]
  },
  {
   "cell_type": "markdown",
   "id": "4e87ee41",
   "metadata": {},
   "source": [
    "## SVR"
   ]
  },
  {
   "cell_type": "code",
   "execution_count": 17,
   "id": "5232ee9a",
   "metadata": {},
   "outputs": [
    {
     "data": {
      "text/plain": [
       "(array([ 2.16723702,  0.87109467,  1.81006818, -0.23139621,  1.39440878]),\n",
       " 109    2\n",
       " 98     1\n",
       " 139    2\n",
       " 14     0\n",
       " 85     1\n",
       " Name: Species, dtype: int32)"
      ]
     },
     "execution_count": 17,
     "metadata": {},
     "output_type": "execute_result"
    }
   ],
   "source": [
    "model_svr= svm.SVR(kernel='linear')\n",
    "model_svr.fit(x_train, y_train)\n",
    "\n",
    "y_predict= model_svr.predict(x_test)\n",
    "y_predict[:5], y_test[:5]"
   ]
  },
  {
   "cell_type": "markdown",
   "id": "f03479e6",
   "metadata": {},
   "source": [
    "Karena y_predict dari konsep svr berupa float, maka untuk menghitung score dan confusion matrixnya, kita akan membulatkannya"
   ]
  },
  {
   "cell_type": "code",
   "execution_count": 18,
   "id": "db06881f",
   "metadata": {},
   "outputs": [
    {
     "data": {
      "text/plain": [
       "array([ 2.,  1.,  2., -0.,  1.,  0.,  1.,  1., -0.,  2.,  2.,  2.,  1.,\n",
       "        1.,  2.,  2.,  1.,  2.,  1.,  2.,  0.,  1., -0.,  2., -0.,  0.,\n",
       "       -0., -0.,  1., -0.])"
      ]
     },
     "execution_count": 18,
     "metadata": {},
     "output_type": "execute_result"
    }
   ],
   "source": [
    "y_predict_rounded= y_predict.round()\n",
    "y_predict_rounded"
   ]
  },
  {
   "cell_type": "markdown",
   "id": "dc423805",
   "metadata": {},
   "source": [
    "* Accuraccy score"
   ]
  },
  {
   "cell_type": "code",
   "execution_count": 19,
   "id": "3d4cd54b",
   "metadata": {},
   "outputs": [
    {
     "name": "stdout",
     "output_type": "stream",
     "text": [
      "Accuraccy Score: 93.96%\n"
     ]
    }
   ],
   "source": [
    "accuraccy_score= model_svr.score(x_test, y_test)\n",
    "print(\"Accuraccy Score: {:.2f}%\".format(accuraccy_score*100))"
   ]
  },
  {
   "cell_type": "markdown",
   "id": "26c416f7",
   "metadata": {},
   "source": [
    "* Confusion matrix"
   ]
  },
  {
   "cell_type": "code",
   "execution_count": 20,
   "id": "f32a9795",
   "metadata": {},
   "outputs": [
    {
     "name": "stdout",
     "output_type": "stream",
     "text": [
      "Confusion matrix: \n",
      "[[10  0  0]\n",
      " [ 0 10  0]\n",
      " [ 0  0 10]]\n"
     ]
    }
   ],
   "source": [
    "cm= confusion_matrix(y_test, y_predict_rounded, labels=df_out['Species'].unique())\n",
    "print(\"Confusion matrix: \\n{}\".format(cm))"
   ]
  },
  {
   "cell_type": "markdown",
   "id": "00030e3d",
   "metadata": {},
   "source": [
    "Confusion matrix visualization"
   ]
  },
  {
   "cell_type": "code",
   "execution_count": 21,
   "id": "69037145",
   "metadata": {},
   "outputs": [
    {
     "data": {
      "image/png": "[encoded data removed]",
      "text/plain": [
       "<Figure size 288x288 with 2 Axes>"
      ]
     },
     "metadata": {
      "needs_background": "light"
     },
     "output_type": "display_data"
    }
   ],
   "source": [
    "from matplotlib import pyplot as plt\n",
    "\n",
    "plt.matshow(cm, cmap='Greens')\n",
    "\n",
    "plt.colorbar().set_label('Count')\n",
    "\n",
    "plt.xticks(ticks=[0,1,2], labels=df['Species'].unique())\n",
    "plt.yticks(ticks=[0,1,2], labels=df['Species'].unique())\n",
    "\n",
    "plt.xlabel('Predicted')\n",
    "plt.ylabel('Expected')\n",
    "\n",
    "plt.title('Visualisasi Confusion Matrix SVR', size=15, pad=50)\n",
    "plt.show()"
   ]
  },
  {
   "cell_type": "markdown",
   "id": "e8f11ffb",
   "metadata": {},
   "source": [
    "* Skor metrics lain"
   ]
  },
  {
   "cell_type": "code",
   "execution_count": 22,
   "id": "35d75458",
   "metadata": {
    "scrolled": true
   },
   "outputs": [
    {
     "name": "stdout",
     "output_type": "stream",
     "text": [
      "Cohen kappa score: 100.00%\n",
      "Fbeta score: 100.00%\n",
      "AUC score: 50.00%\n"
     ]
    }
   ],
   "source": [
    "# cohen kappa score\n",
    "cks= cohen_kappa_score(y_test, y_predict_rounded)\n",
    "\n",
    "# fbeta score\n",
    "fbeta= fbeta_score(y_test, y_predict_rounded, beta=0.5, average='micro')\n",
    "\n",
    "# auc score\n",
    "fpr, tpr, thresholds = roc_curve(y_test, y_predict_rounded, pos_label = 1)\n",
    "auc_score= auc(fpr, tpr)\n",
    "\n",
    "print(\"Cohen kappa score: {:.2f}%\".format(cks*100))\n",
    "print(\"Fbeta score: {:.2f}%\".format(fbeta*100))\n",
    "print(\"AUC score: {:.2f}%\".format(auc_score*100))"
   ]
  }
 ],
 "metadata": {
  "kernelspec": {
   "display_name": "Python 3 (ipykernel)",
   "language": "python",
   "name": "python3"
  },
  "language_info": {
   "codemirror_mode": {
    "name": "ipython",
    "version": 3
   },
   "file_extension": ".py",
   "mimetype": "text/x-python",
   "name": "python",
   "nbconvert_exporter": "python",
   "pygments_lexer": "ipython3",
   "version": "3.7.7"
  }
 },
 "nbformat": 4,
 "nbformat_minor": 5
}
