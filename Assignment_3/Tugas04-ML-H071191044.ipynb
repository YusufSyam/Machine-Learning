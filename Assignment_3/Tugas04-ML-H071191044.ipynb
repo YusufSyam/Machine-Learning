{
 "cells": [
  {
   "cell_type": "markdown",
   "id": "2a67a2bc",
   "metadata": {},
   "source": [
    "## Tugas 04 - Naive Bayes & Bayessian Network\n",
    "<br>\n",
    "Nama : Muh. Yusuf Syam<br>\n",
    "NIM : H071191044"
   ]
  },
  {
   "cell_type": "code",
   "execution_count": 1,
   "id": "59f56ff4",
   "metadata": {},
   "outputs": [],
   "source": [
    "import pandas as pd\n",
    "import numpy as np\n",
    "from matplotlib import pyplot as plt"
   ]
  },
  {
   "cell_type": "markdown",
   "id": "bcae07a5",
   "metadata": {},
   "source": [
    "## Penjelasan Dataset"
   ]
  },
  {
   "cell_type": "markdown",
   "id": "44c3c111",
   "metadata": {},
   "source": [
    "Dataset dari penumpang titanic\n",
    "\n",
    "Terdiri dari:\n",
    "<br>\n",
    "* pclass: Kelas penumpang\n",
    "* sex: Jenis kelamin penumpang\n",
    "* age: umur penumpang\n",
    "* survived (target): apakah penumpang selamat atau tidak"
   ]
  },
  {
   "cell_type": "code",
   "execution_count": 2,
   "id": "ae97ae15",
   "metadata": {},
   "outputs": [
    {
     "data": {
      "text/html": [
       "<div>\n",
       "<style scoped>\n",
       "    .dataframe tbody tr th:only-of-type {\n",
       "        vertical-align: middle;\n",
       "    }\n",
       "\n",
       "    .dataframe tbody tr th {\n",
       "        vertical-align: top;\n",
       "    }\n",
       "\n",
       "    .dataframe thead th {\n",
       "        text-align: right;\n",
       "    }\n",
       "</style>\n",
       "<table border=\"1\" class=\"dataframe\">\n",
       "  <thead>\n",
       "    <tr style=\"text-align: right;\">\n",
       "      <th></th>\n",
       "      <th>pclass</th>\n",
       "      <th>sex</th>\n",
       "      <th>age</th>\n",
       "      <th>survived</th>\n",
       "    </tr>\n",
       "  </thead>\n",
       "  <tbody>\n",
       "    <tr>\n",
       "      <th>0</th>\n",
       "      <td>3</td>\n",
       "      <td>male</td>\n",
       "      <td>22.0</td>\n",
       "      <td>0</td>\n",
       "    </tr>\n",
       "    <tr>\n",
       "      <th>1</th>\n",
       "      <td>1</td>\n",
       "      <td>female</td>\n",
       "      <td>38.0</td>\n",
       "      <td>1</td>\n",
       "    </tr>\n",
       "    <tr>\n",
       "      <th>2</th>\n",
       "      <td>3</td>\n",
       "      <td>female</td>\n",
       "      <td>26.0</td>\n",
       "      <td>1</td>\n",
       "    </tr>\n",
       "    <tr>\n",
       "      <th>3</th>\n",
       "      <td>1</td>\n",
       "      <td>female</td>\n",
       "      <td>35.0</td>\n",
       "      <td>1</td>\n",
       "    </tr>\n",
       "    <tr>\n",
       "      <th>4</th>\n",
       "      <td>3</td>\n",
       "      <td>male</td>\n",
       "      <td>35.0</td>\n",
       "      <td>0</td>\n",
       "    </tr>\n",
       "  </tbody>\n",
       "</table>\n",
       "</div>"
      ],
      "text/plain": [
       "   pclass     sex   age  survived\n",
       "0       3    male  22.0         0\n",
       "1       1  female  38.0         1\n",
       "2       3  female  26.0         1\n",
       "3       1  female  35.0         1\n",
       "4       3    male  35.0         0"
      ]
     },
     "execution_count": 2,
     "metadata": {},
     "output_type": "execute_result"
    }
   ],
   "source": [
    "data= pd.read_csv('titanic_data_set.csv')[['pclass','sex','age','survived']]\n",
    "data.head()"
   ]
  },
  {
   "cell_type": "code",
   "execution_count": 3,
   "id": "5e69bdec",
   "metadata": {},
   "outputs": [
    {
     "data": {
      "text/plain": [
       "(891, 4)"
      ]
     },
     "execution_count": 3,
     "metadata": {},
     "output_type": "execute_result"
    }
   ],
   "source": [
    "data.shape"
   ]
  },
  {
   "cell_type": "code",
   "execution_count": 4,
   "id": "721b7488",
   "metadata": {},
   "outputs": [
    {
     "data": {
      "text/plain": [
       "<bound method DataFrame.info of      pclass     sex   age  survived\n",
       "0         3    male  22.0         0\n",
       "1         1  female  38.0         1\n",
       "2         3  female  26.0         1\n",
       "3         1  female  35.0         1\n",
       "4         3    male  35.0         0\n",
       "..      ...     ...   ...       ...\n",
       "886       2    male  27.0         0\n",
       "887       1  female  19.0         1\n",
       "888       3  female   NaN         0\n",
       "889       1    male  26.0         1\n",
       "890       3    male  32.0         0\n",
       "\n",
       "[891 rows x 4 columns]>"
      ]
     },
     "execution_count": 4,
     "metadata": {},
     "output_type": "execute_result"
    }
   ],
   "source": [
    "data.info"
   ]
  },
  {
   "cell_type": "code",
   "execution_count": 5,
   "id": "e93554de",
   "metadata": {},
   "outputs": [
    {
     "data": {
      "text/plain": [
       "0    549\n",
       "1    342\n",
       "Name: survived, dtype: int64"
      ]
     },
     "execution_count": 5,
     "metadata": {},
     "output_type": "execute_result"
    }
   ],
   "source": [
    "data['survived'].value_counts()"
   ]
  },
  {
   "cell_type": "markdown",
   "id": "97c52cb3",
   "metadata": {},
   "source": [
    "## Preprocessing"
   ]
  },
  {
   "cell_type": "markdown",
   "id": "c1b9f442",
   "metadata": {},
   "source": [
    "1. Handling Missing Value"
   ]
  },
  {
   "cell_type": "code",
   "execution_count": 6,
   "id": "b7af6a2d",
   "metadata": {},
   "outputs": [
    {
     "data": {
      "text/plain": [
       "pclass        0\n",
       "sex           0\n",
       "age         177\n",
       "survived      0\n",
       "dtype: int64"
      ]
     },
     "execution_count": 6,
     "metadata": {},
     "output_type": "execute_result"
    }
   ],
   "source": [
    "data.isnull().sum()"
   ]
  },
  {
   "cell_type": "code",
   "execution_count": 7,
   "id": "a2f0d10c",
   "metadata": {},
   "outputs": [
    {
     "data": {
      "text/plain": [
       "pclass      0\n",
       "sex         0\n",
       "age         0\n",
       "survived    0\n",
       "dtype: int64"
      ]
     },
     "execution_count": 7,
     "metadata": {},
     "output_type": "execute_result"
    }
   ],
   "source": [
    "data['age']= data['age'].fillna(data['age'].mean())\n",
    "data.isnull().sum()"
   ]
  },
  {
   "cell_type": "markdown",
   "id": "95b518a8",
   "metadata": {},
   "source": [
    "2. Categorical Encoding"
   ]
  },
  {
   "cell_type": "code",
   "execution_count": 8,
   "id": "c6a272cc",
   "metadata": {},
   "outputs": [
    {
     "data": {
      "text/html": [
       "<div>\n",
       "<style scoped>\n",
       "    .dataframe tbody tr th:only-of-type {\n",
       "        vertical-align: middle;\n",
       "    }\n",
       "\n",
       "    .dataframe tbody tr th {\n",
       "        vertical-align: top;\n",
       "    }\n",
       "\n",
       "    .dataframe thead th {\n",
       "        text-align: right;\n",
       "    }\n",
       "</style>\n",
       "<table border=\"1\" class=\"dataframe\">\n",
       "  <thead>\n",
       "    <tr style=\"text-align: right;\">\n",
       "      <th></th>\n",
       "      <th>pclass</th>\n",
       "      <th>sex</th>\n",
       "      <th>age</th>\n",
       "      <th>survived</th>\n",
       "    </tr>\n",
       "  </thead>\n",
       "  <tbody>\n",
       "    <tr>\n",
       "      <th>0</th>\n",
       "      <td>3</td>\n",
       "      <td>1</td>\n",
       "      <td>22.0</td>\n",
       "      <td>0</td>\n",
       "    </tr>\n",
       "    <tr>\n",
       "      <th>1</th>\n",
       "      <td>1</td>\n",
       "      <td>0</td>\n",
       "      <td>38.0</td>\n",
       "      <td>1</td>\n",
       "    </tr>\n",
       "    <tr>\n",
       "      <th>2</th>\n",
       "      <td>3</td>\n",
       "      <td>0</td>\n",
       "      <td>26.0</td>\n",
       "      <td>1</td>\n",
       "    </tr>\n",
       "    <tr>\n",
       "      <th>3</th>\n",
       "      <td>1</td>\n",
       "      <td>0</td>\n",
       "      <td>35.0</td>\n",
       "      <td>1</td>\n",
       "    </tr>\n",
       "    <tr>\n",
       "      <th>4</th>\n",
       "      <td>3</td>\n",
       "      <td>1</td>\n",
       "      <td>35.0</td>\n",
       "      <td>0</td>\n",
       "    </tr>\n",
       "  </tbody>\n",
       "</table>\n",
       "</div>"
      ],
      "text/plain": [
       "   pclass  sex   age  survived\n",
       "0       3    1  22.0         0\n",
       "1       1    0  38.0         1\n",
       "2       3    0  26.0         1\n",
       "3       1    0  35.0         1\n",
       "4       3    1  35.0         0"
      ]
     },
     "execution_count": 8,
     "metadata": {},
     "output_type": "execute_result"
    }
   ],
   "source": [
    "from sklearn.preprocessing import LabelEncoder\n",
    "\n",
    "data['sex']= LabelEncoder().fit_transform(data['sex'])\n",
    "\n",
    "data.head()"
   ]
  },
  {
   "cell_type": "markdown",
   "id": "feb22dc4",
   "metadata": {},
   "source": [
    "## Contoh visualisasi jumlah penumpang yang selamat berdasarkan kelas tiket"
   ]
  },
  {
   "cell_type": "code",
   "execution_count": 9,
   "id": "08018141",
   "metadata": {},
   "outputs": [
    {
     "data": {
      "image/png": "[encoded data removed]",
      "text/plain": [
       "<Figure size 432x288 with 1 Axes>"
      ]
     },
     "metadata": {
      "needs_background": "light"
     },
     "output_type": "display_data"
    }
   ],
   "source": [
    "x_indexes= np.arange(len(data['sex'].unique()))\n",
    "width= 0.25\n",
    "\n",
    "plt.style.use('seaborn-pastel')\n",
    "\n",
    "plt.bar(x_indexes-width, [(data[(data['survived']==1) & (data['sex']==i) & (data['pclass']==1)].count()[0]) for i in data['sex'].unique()], width=width, label='Pclass 1')\n",
    "plt.bar(x_indexes, [(data[(data['survived']==1) & (data['sex']==i) & (data['pclass']==2)].count()[0]) for i in data['sex'].unique()], width=width, label='Pclass 2')\n",
    "plt.bar(x_indexes+width, [(data[(data['survived']==1) & (data['sex']==i) & (data['pclass']==3)].count()[0]) for i in data['sex'].unique()], width=width, label='Pclass 3')\n",
    "\n",
    "plt.legend(loc='lower right')\n",
    "plt.xticks(ticks=x_indexes, labels=['male','female'])\n",
    "\n",
    "plt.xlabel('Jenis kelamin')\n",
    "plt.ylabel('Penumpang selamat')\n",
    "plt.title('Jumlah penumpang yang selamat berdasarkan kelas tiket')\n",
    "\n",
    "plt.show()"
   ]
  },
  {
   "cell_type": "markdown",
   "id": "f3bbc23b",
   "metadata": {},
   "source": [
    "## Train Test Split"
   ]
  },
  {
   "cell_type": "code",
   "execution_count": 10,
   "id": "89a41f2b",
   "metadata": {},
   "outputs": [
    {
     "data": {
      "text/plain": [
       "(179, 712)"
      ]
     },
     "execution_count": 10,
     "metadata": {},
     "output_type": "execute_result"
    }
   ],
   "source": [
    "from sklearn.model_selection import train_test_split\n",
    "\n",
    "x = data.drop([\"survived\"], axis = 1)\n",
    "y = data['survived']\n",
    "\n",
    "x_train, x_test, y_train, y_test = train_test_split(x, y, test_size=0.2, random_state=123)\n",
    "\n",
    "len(x_test), len(x_train)"
   ]
  },
  {
   "cell_type": "markdown",
   "id": "4f3b690b",
   "metadata": {},
   "source": [
    "## Klasifikasi Naive Bayes"
   ]
  },
  {
   "cell_type": "code",
   "execution_count": 11,
   "id": "351c6b8b",
   "metadata": {},
   "outputs": [
    {
     "data": {
      "text/plain": [
       "array([1, 0, 0, 0, 0, 0, 1, 1, 1, 1, 1, 1, 1, 0, 1, 1, 1, 0, 1, 0],\n",
       "      dtype=int64)"
      ]
     },
     "execution_count": 11,
     "metadata": {},
     "output_type": "execute_result"
    }
   ],
   "source": [
    "from sklearn.naive_bayes import GaussianNB\n",
    "\n",
    "gnb_model= GaussianNB()\n",
    "gnb_model.fit(x_train, y_train)\n",
    "\n",
    "y_pred = gnb_model.predict(x_test)\n",
    "y_pred[:20]"
   ]
  },
  {
   "cell_type": "markdown",
   "id": "69e9d14e",
   "metadata": {},
   "source": [
    "Melihat nilai sebenarnya sebelum diprediksi"
   ]
  },
  {
   "cell_type": "code",
   "execution_count": 12,
   "id": "d1891a97",
   "metadata": {},
   "outputs": [
    {
     "data": {
      "text/plain": [
       "array([1, 0, 0, 0, 0, 0, 1, 0, 0, 0, 0, 0, 1, 0, 0, 1, 1, 0, 0, 0],\n",
       "      dtype=int64)"
      ]
     },
     "execution_count": 12,
     "metadata": {},
     "output_type": "execute_result"
    }
   ],
   "source": [
    "y_actual = np.array(y_test)\n",
    "y_actual[:20]"
   ]
  },
  {
   "cell_type": "markdown",
   "id": "f1cfe7aa",
   "metadata": {},
   "source": [
    "Melihat berapa probabilitas hasil prediksi data testing"
   ]
  },
  {
   "cell_type": "code",
   "execution_count": 13,
   "id": "ea75a4df",
   "metadata": {
    "scrolled": true
   },
   "outputs": [
    {
     "data": {
      "text/plain": [
       "array([[0.12318705, 0.87681295],\n",
       "       [0.91775193, 0.08224807],\n",
       "       [0.58749526, 0.41250474],\n",
       "       [0.58479291, 0.41520709],\n",
       "       [0.91464481, 0.08535519],\n",
       "       [0.85353427, 0.14646573],\n",
       "       [0.13480733, 0.86519267],\n",
       "       [0.1198243 , 0.8801757 ],\n",
       "       [0.19453654, 0.80546346],\n",
       "       [0.23003793, 0.76996207],\n",
       "       [0.15770563, 0.84229437],\n",
       "       [0.22741646, 0.77258354],\n",
       "       [0.04007581, 0.95992419],\n",
       "       [0.91120271, 0.08879729],\n",
       "       [0.04048428, 0.95951572],\n",
       "       [0.12212194, 0.87787806],\n",
       "       [0.03807907, 0.96192093],\n",
       "       [0.58649944, 0.41350056],\n",
       "       [0.25122473, 0.74877527],\n",
       "       [0.83847808, 0.16152192],\n",
       "       [0.23178849, 0.76821151],\n",
       "       [0.0784535 , 0.9215465 ],\n",
       "       [0.85148668, 0.14851332],\n",
       "       [0.85349101, 0.14650899],\n",
       "       [0.84381204, 0.15618796],\n",
       "       [0.91193696, 0.08806304],\n",
       "       [0.90716568, 0.09283432],\n",
       "       [0.02908037, 0.97091963],\n",
       "       [0.90145013, 0.09854987],\n",
       "       [0.91775193, 0.08224807],\n",
       "       [0.12746538, 0.87253462],\n",
       "       [0.13480733, 0.86519267],\n",
       "       [0.84655321, 0.15344679],\n",
       "       [0.91333589, 0.08666411],\n",
       "       [0.81123571, 0.18876429],\n",
       "       [0.88057354, 0.11942646],\n",
       "       [0.92512041, 0.07487959],\n",
       "       [0.92433445, 0.07566555],\n",
       "       [0.11438294, 0.88561706],\n",
       "       [0.60921876, 0.39078124],\n",
       "       [0.02691793, 0.97308207],\n",
       "       [0.91775193, 0.08224807],\n",
       "       [0.23178849, 0.76821151],\n",
       "       [0.22521419, 0.77478581],\n",
       "       [0.89466636, 0.10533364],\n",
       "       [0.82950675, 0.17049325],\n",
       "       [0.04025591, 0.95974409],\n",
       "       [0.61096448, 0.38903552],\n",
       "       [0.90346742, 0.09653258],\n",
       "       [0.11438294, 0.88561706],\n",
       "       [0.23178849, 0.76821151],\n",
       "       [0.14475055, 0.85524945],\n",
       "       [0.90443316, 0.09556684],\n",
       "       [0.92220499, 0.07779501],\n",
       "       [0.82688283, 0.17311717],\n",
       "       [0.91775193, 0.08224807],\n",
       "       [0.89466636, 0.10533364],\n",
       "       [0.89931434, 0.10068566],\n",
       "       [0.58410687, 0.41589313],\n",
       "       [0.88947854, 0.11052146],\n",
       "       [0.03840951, 0.96159049],\n",
       "       [0.02978617, 0.97021383],\n",
       "       [0.48380524, 0.51619476],\n",
       "       [0.03693667, 0.96306333],\n",
       "       [0.9104447 , 0.0895553 ],\n",
       "       [0.92152152, 0.07847848],\n",
       "       [0.85310815, 0.14689185],\n",
       "       [0.8522306 , 0.1477694 ],\n",
       "       [0.58649944, 0.41350056],\n",
       "       [0.12415892, 0.87584108],\n",
       "       [0.04063763, 0.95936237],\n",
       "       [0.92467196, 0.07532804],\n",
       "       [0.58649944, 0.41350056],\n",
       "       [0.56914767, 0.43085233],\n",
       "       [0.90537108, 0.09462892],\n",
       "       [0.91586682, 0.08413318],\n",
       "       [0.92489693, 0.07510307],\n",
       "       [0.90537108, 0.09462892],\n",
       "       [0.03693667, 0.96306333],\n",
       "       [0.03693667, 0.96306333],\n",
       "       [0.22177312, 0.77822688],\n",
       "       [0.91644614, 0.08355386],\n",
       "       [0.87380487, 0.12619513],\n",
       "       [0.91775193, 0.08224807],\n",
       "       [0.9104447 , 0.0895553 ],\n",
       "       [0.84519949, 0.15480051],\n",
       "       [0.12318705, 0.87681295],\n",
       "       [0.92076727, 0.07923273],\n",
       "       [0.58649944, 0.41350056],\n",
       "       [0.91193696, 0.08806304],\n",
       "       [0.19453654, 0.80546346],\n",
       "       [0.83980862, 0.16019138],\n",
       "       [0.84909107, 0.15090893],\n",
       "       [0.84877259, 0.15122741],\n",
       "       [0.60499148, 0.39500852],\n",
       "       [0.90145013, 0.09854987],\n",
       "       [0.03376362, 0.96623638],\n",
       "       [0.03915025, 0.96084975],\n",
       "       [0.92076727, 0.07923273],\n",
       "       [0.11438294, 0.88561706],\n",
       "       [0.83859855, 0.16140145],\n",
       "       [0.59415273, 0.40584727],\n",
       "       [0.6119845 , 0.3880155 ],\n",
       "       [0.18278261, 0.81721739],\n",
       "       [0.91775193, 0.08224807],\n",
       "       [0.59065894, 0.40934106],\n",
       "       [0.91333589, 0.08666411],\n",
       "       [0.91644614, 0.08355386],\n",
       "       [0.92220499, 0.07779501],\n",
       "       [0.13186986, 0.86813014],\n",
       "       [0.70800829, 0.29199171],\n",
       "       [0.59065894, 0.40934106],\n",
       "       [0.03755259, 0.96244741],\n",
       "       [0.91994049, 0.08005951],\n",
       "       [0.91333589, 0.08666411],\n",
       "       [0.8535122 , 0.1464878 ],\n",
       "       [0.58813688, 0.41186312],\n",
       "       [0.84909107, 0.15090893],\n",
       "       [0.89931434, 0.10068566],\n",
       "       [0.53762067, 0.46237933],\n",
       "       [0.90145013, 0.09854987],\n",
       "       [0.92528141, 0.07471859],\n",
       "       [0.61096448, 0.38903552],\n",
       "       [0.91775193, 0.08224807],\n",
       "       [0.83428866, 0.16571134],\n",
       "       [0.81802138, 0.18197862],\n",
       "       [0.25085488, 0.74914512],\n",
       "       [0.58649944, 0.41350056],\n",
       "       [0.23178849, 0.76821151],\n",
       "       [0.90346742, 0.09653258],\n",
       "       [0.0408829 , 0.9591171 ],\n",
       "       [0.91700481, 0.08299519],\n",
       "       [0.91193696, 0.08806304],\n",
       "       [0.12460629, 0.87539371],\n",
       "       [0.04075651, 0.95924349],\n",
       "       [0.89931434, 0.10068566],\n",
       "       [0.04048428, 0.95951572],\n",
       "       [0.23252071, 0.76747929],\n",
       "       [0.91775193, 0.08224807],\n",
       "       [0.13528823, 0.86471177],\n",
       "       [0.91222011, 0.08777989],\n",
       "       [0.59359918, 0.40640082],\n",
       "       [0.8970549 , 0.1029451 ],\n",
       "       [0.70800829, 0.29199171],\n",
       "       [0.14041681, 0.85958319],\n",
       "       [0.91586682, 0.08413318],\n",
       "       [0.92426033, 0.07573967],\n",
       "       [0.91994049, 0.08005951],\n",
       "       [0.91464481, 0.08535519],\n",
       "       [0.03376362, 0.96623638],\n",
       "       [0.61036641, 0.38963359],\n",
       "       [0.88057354, 0.11942646],\n",
       "       [0.21237196, 0.78762804],\n",
       "       [0.89466636, 0.10533364],\n",
       "       [0.03249631, 0.96750369],\n",
       "       [0.91775193, 0.08224807],\n",
       "       [0.03807907, 0.96192093],\n",
       "       [0.14041681, 0.85958319],\n",
       "       [0.13566557, 0.86433443],\n",
       "       [0.04063763, 0.95936237],\n",
       "       [0.13480733, 0.86519267],\n",
       "       [0.60661602, 0.39338398],\n",
       "       [0.56828161, 0.43171839],\n",
       "       [0.03437044, 0.96562956],\n",
       "       [0.58649944, 0.41350056],\n",
       "       [0.03249631, 0.96750369],\n",
       "       [0.13205187, 0.86794813],\n",
       "       [0.90346742, 0.09653258],\n",
       "       [0.23178849, 0.76821151],\n",
       "       [0.92461045, 0.07538955],\n",
       "       [0.90885554, 0.09114446],\n",
       "       [0.58649944, 0.41350056],\n",
       "       [0.23178849, 0.76821151],\n",
       "       [0.8364554 , 0.1635446 ],\n",
       "       [0.91775193, 0.08224807],\n",
       "       [0.92541729, 0.07458271],\n",
       "       [0.70939652, 0.29060348],\n",
       "       [0.91775193, 0.08224807],\n",
       "       [0.83428866, 0.16571134]])"
      ]
     },
     "execution_count": 13,
     "metadata": {},
     "output_type": "execute_result"
    }
   ],
   "source": [
    "gnb_model.predict_proba(x_test)"
   ]
  },
  {
   "cell_type": "markdown",
   "id": "5007052b",
   "metadata": {},
   "source": [
    "## Nilai Akurasi"
   ]
  },
  {
   "cell_type": "code",
   "execution_count": 14,
   "id": "e62ef479",
   "metadata": {},
   "outputs": [
    {
     "name": "stdout",
     "output_type": "stream",
     "text": [
      "Accuracy: 0.8044692737430168\n"
     ]
    }
   ],
   "source": [
    "from sklearn import metrics\n",
    "\n",
    "print(\"Accuracy:\", metrics.accuracy_score(y_test, y_pred))"
   ]
  },
  {
   "cell_type": "markdown",
   "id": "097d5ed0",
   "metadata": {},
   "source": [
    "## Confusion Matrix"
   ]
  },
  {
   "cell_type": "code",
   "execution_count": 15,
   "id": "8f7b3883",
   "metadata": {},
   "outputs": [
    {
     "data": {
      "text/plain": [
       "array([[97, 18],\n",
       "       [17, 47]], dtype=int64)"
      ]
     },
     "execution_count": 15,
     "metadata": {},
     "output_type": "execute_result"
    }
   ],
   "source": [
    "from sklearn.metrics import confusion_matrix\n",
    "\n",
    "cm= confusion_matrix(y_pred, y_test)\n",
    "cm"
   ]
  },
  {
   "cell_type": "markdown",
   "id": "0d1b317f",
   "metadata": {},
   "source": [
    "Visualisasi confusion matrix"
   ]
  },
  {
   "cell_type": "code",
   "execution_count": 16,
   "id": "e6df5c5b",
   "metadata": {},
   "outputs": [
    {
     "data": {
      "image/png": "[encoded data removed]",
      "text/plain": [
       "<Figure size 288x288 with 2 Axes>"
      ]
     },
     "metadata": {
      "needs_background": "light"
     },
     "output_type": "display_data"
    }
   ],
   "source": [
    "plt.matshow(cm, cmap='Greens')\n",
    "\n",
    "plt.colorbar().set_label('Count')\n",
    "\n",
    "plt.xlabel('Predicted')\n",
    "plt.ylabel('Expected')\n",
    "\n",
    "plt.xticks(ticks=[0,1], labels=['Survived','Not Survived'])\n",
    "plt.yticks(ticks=[0,1], labels=['Survived','Not Survived'])\n",
    "\n",
    "plt.title('Visualisasi Confusion Matrix', size=15, pad=50)\n",
    "plt.show()"
   ]
  },
  {
   "cell_type": "markdown",
   "id": "d6ffd3a4",
   "metadata": {},
   "source": [
    "## Bayesian Network"
   ]
  },
  {
   "cell_type": "code",
   "execution_count": 17,
   "id": "da580ad8",
   "metadata": {},
   "outputs": [],
   "source": [
    "import networkx as nx\n",
    "from pybbn.graph.dag import Bbn\n",
    "from pybbn.graph.edge import Edge, EdgeType\n",
    "from pybbn.graph.jointree import EvidenceBuilder\n",
    "from pybbn.graph.node import BbnNode\n",
    "from pybbn.graph.variable import Variable\n",
    "from pybbn.pptc.inferencecontroller import InferenceController"
   ]
  },
  {
   "cell_type": "code",
   "execution_count": 18,
   "id": "e0f24327",
   "metadata": {},
   "outputs": [
    {
     "data": {
      "text/html": [
       "<div>\n",
       "<style scoped>\n",
       "    .dataframe tbody tr th:only-of-type {\n",
       "        vertical-align: middle;\n",
       "    }\n",
       "\n",
       "    .dataframe tbody tr th {\n",
       "        vertical-align: top;\n",
       "    }\n",
       "\n",
       "    .dataframe thead th {\n",
       "        text-align: right;\n",
       "    }\n",
       "</style>\n",
       "<table border=\"1\" class=\"dataframe\">\n",
       "  <thead>\n",
       "    <tr style=\"text-align: right;\">\n",
       "      <th></th>\n",
       "      <th>pclass</th>\n",
       "      <th>sex</th>\n",
       "      <th>age</th>\n",
       "      <th>survived</th>\n",
       "    </tr>\n",
       "  </thead>\n",
       "  <tbody>\n",
       "    <tr>\n",
       "      <th>0</th>\n",
       "      <td>3</td>\n",
       "      <td>1</td>\n",
       "      <td>22.0</td>\n",
       "      <td>0</td>\n",
       "    </tr>\n",
       "    <tr>\n",
       "      <th>1</th>\n",
       "      <td>1</td>\n",
       "      <td>0</td>\n",
       "      <td>38.0</td>\n",
       "      <td>1</td>\n",
       "    </tr>\n",
       "    <tr>\n",
       "      <th>2</th>\n",
       "      <td>3</td>\n",
       "      <td>0</td>\n",
       "      <td>26.0</td>\n",
       "      <td>1</td>\n",
       "    </tr>\n",
       "  </tbody>\n",
       "</table>\n",
       "</div>"
      ],
      "text/plain": [
       "   pclass  sex   age  survived\n",
       "0       3    1  22.0         0\n",
       "1       1    0  38.0         1\n",
       "2       3    0  26.0         1"
      ]
     },
     "execution_count": 18,
     "metadata": {},
     "output_type": "execute_result"
    }
   ],
   "source": [
    "data.head(3)"
   ]
  },
  {
   "cell_type": "code",
   "execution_count": 19,
   "id": "efb4c25f",
   "metadata": {},
   "outputs": [
    {
     "data": {
      "text/html": [
       "<div>\n",
       "<style scoped>\n",
       "    .dataframe tbody tr th:only-of-type {\n",
       "        vertical-align: middle;\n",
       "    }\n",
       "\n",
       "    .dataframe tbody tr th {\n",
       "        vertical-align: top;\n",
       "    }\n",
       "\n",
       "    .dataframe thead th {\n",
       "        text-align: right;\n",
       "    }\n",
       "</style>\n",
       "<table border=\"1\" class=\"dataframe\">\n",
       "  <thead>\n",
       "    <tr style=\"text-align: right;\">\n",
       "      <th></th>\n",
       "      <th>pclass</th>\n",
       "      <th>sex</th>\n",
       "      <th>age</th>\n",
       "      <th>survived</th>\n",
       "    </tr>\n",
       "  </thead>\n",
       "  <tbody>\n",
       "    <tr>\n",
       "      <th>count</th>\n",
       "      <td>891.000000</td>\n",
       "      <td>891.000000</td>\n",
       "      <td>891.000000</td>\n",
       "      <td>891.000000</td>\n",
       "    </tr>\n",
       "    <tr>\n",
       "      <th>mean</th>\n",
       "      <td>2.308642</td>\n",
       "      <td>0.647587</td>\n",
       "      <td>29.699118</td>\n",
       "      <td>0.383838</td>\n",
       "    </tr>\n",
       "    <tr>\n",
       "      <th>std</th>\n",
       "      <td>0.836071</td>\n",
       "      <td>0.477990</td>\n",
       "      <td>13.002015</td>\n",
       "      <td>0.486592</td>\n",
       "    </tr>\n",
       "    <tr>\n",
       "      <th>min</th>\n",
       "      <td>1.000000</td>\n",
       "      <td>0.000000</td>\n",
       "      <td>0.420000</td>\n",
       "      <td>0.000000</td>\n",
       "    </tr>\n",
       "    <tr>\n",
       "      <th>25%</th>\n",
       "      <td>2.000000</td>\n",
       "      <td>0.000000</td>\n",
       "      <td>22.000000</td>\n",
       "      <td>0.000000</td>\n",
       "    </tr>\n",
       "    <tr>\n",
       "      <th>50%</th>\n",
       "      <td>3.000000</td>\n",
       "      <td>1.000000</td>\n",
       "      <td>29.699118</td>\n",
       "      <td>0.000000</td>\n",
       "    </tr>\n",
       "    <tr>\n",
       "      <th>75%</th>\n",
       "      <td>3.000000</td>\n",
       "      <td>1.000000</td>\n",
       "      <td>35.000000</td>\n",
       "      <td>1.000000</td>\n",
       "    </tr>\n",
       "    <tr>\n",
       "      <th>max</th>\n",
       "      <td>3.000000</td>\n",
       "      <td>1.000000</td>\n",
       "      <td>80.000000</td>\n",
       "      <td>1.000000</td>\n",
       "    </tr>\n",
       "  </tbody>\n",
       "</table>\n",
       "</div>"
      ],
      "text/plain": [
       "           pclass         sex         age    survived\n",
       "count  891.000000  891.000000  891.000000  891.000000\n",
       "mean     2.308642    0.647587   29.699118    0.383838\n",
       "std      0.836071    0.477990   13.002015    0.486592\n",
       "min      1.000000    0.000000    0.420000    0.000000\n",
       "25%      2.000000    0.000000   22.000000    0.000000\n",
       "50%      3.000000    1.000000   29.699118    0.000000\n",
       "75%      3.000000    1.000000   35.000000    1.000000\n",
       "max      3.000000    1.000000   80.000000    1.000000"
      ]
     },
     "execution_count": 19,
     "metadata": {},
     "output_type": "execute_result"
    }
   ],
   "source": [
    "data.describe()"
   ]
  },
  {
   "cell_type": "markdown",
   "id": "1610f392",
   "metadata": {},
   "source": [
    "Umur memengaruhi jenis kelamin dalam hal selamat atau tidaknya penumpang <br>\n",
    "Kelas penumpang juga memengaruhi selamat atau tidaknya seorang penumpang"
   ]
  },
  {
   "cell_type": "code",
   "execution_count": 20,
   "id": "ff06151c",
   "metadata": {},
   "outputs": [
    {
     "data": {
      "text/plain": [
       "adult    782\n",
       "child     83\n",
       "old       26\n",
       "Name: ageCat, dtype: int64"
      ]
     },
     "execution_count": 20,
     "metadata": {},
     "output_type": "execute_result"
    }
   ],
   "source": [
    "data[\"ageCat\"] = data[\"age\"].apply(lambda x: 'child' if x<=15 else 'adult' if 15<x<60 else 'old')\n",
    "data[\"sexCat\"] = data[\"sex\"].apply(lambda x: 'female' if x==0 else 'male')\n",
    "data[\"pclassCat\"] = data[\"pclass\"].apply(str)\n",
    "\n",
    "data[\"ageCat\"].value_counts().sort_index()"
   ]
  },
  {
   "cell_type": "code",
   "execution_count": 21,
   "id": "44ffff07",
   "metadata": {},
   "outputs": [],
   "source": [
    "def probs(data, child, parent1=None, parent2=None):\n",
    "    if parent1==None:\n",
    "        prob = pd.crosstab(data[child], 'Empty', margins=False, normalize='columns').sort_index().to_numpy().reshape(-1).tolist()\n",
    "    elif parent1!=None:\n",
    "        if parent2==None:\n",
    "            prob=pd.crosstab(data[parent1], data[child], margins=False, normalize='index').sort_index().to_numpy().reshape(-1).tolist()\n",
    "        else:\n",
    "            prob=pd.crosstab([data[parent1], data[parent2]], data[child], margins=False, normalize='index').sort_index().to_numpy().reshape(-1).tolist()\n",
    "    else: print(\"Error menghitung frekuensi probabilitas\")\n",
    "    return prob"
   ]
  },
  {
   "cell_type": "code",
   "execution_count": 22,
   "id": "06a2dd56",
   "metadata": {},
   "outputs": [],
   "source": [
    "age = BbnNode(Variable(0, 'age', ['child','adult','old']), probs(data, child=\"ageCat\"))\n",
    "sex = BbnNode(Variable(1, 'sex', ['male','female']), probs(data, child=\"sexCat\", parent1=\"ageCat\"))\n",
    "pclass = BbnNode(Variable(2, 'pclass', ['1','2' '3']), probs(data, child=\"pclassCat\"))\n",
    "survived = BbnNode(Variable(3, 'Survived', ['No', 'Yes']), probs(data, child=\"survived\", parent1=\"sexCat\", parent2=\"pclassCat\"))"
   ]
  },
  {
   "cell_type": "code",
   "execution_count": 23,
   "id": "7441ea76",
   "metadata": {},
   "outputs": [],
   "source": [
    "bbn = Bbn() \\\n",
    "      .add_node(age) \\\n",
    "      .add_node(sex) \\\n",
    "      .add_node(pclass) \\\n",
    "      .add_node(survived) \\\n",
    "      .add_edge(Edge(age, sex, EdgeType.DIRECTED)) \\\n",
    "      .add_edge(Edge(sex, survived, EdgeType.DIRECTED)) \\\n",
    "      .add_edge(Edge(pclass, survived, EdgeType.DIRECTED))\n",
    "\n",
    "# Convert BBN to Join Tree\n",
    "join_tree = InferenceController.apply(bbn)"
   ]
  },
  {
   "cell_type": "code",
   "execution_count": 38,
   "id": "bbfeb9c9",
   "metadata": {},
   "outputs": [
    {
     "data": {
      "text/plain": [
       "(-1.32, 1.32, -1.48, 2.48)"
      ]
     },
     "execution_count": 38,
     "metadata": {},
     "output_type": "execute_result"
    },
    {
     "data": {
      "image/png": "[encoded data removed]",
      "text/plain": [
       "<Figure size 432x288 with 1 Axes>"
      ]
     },
     "metadata": {},
     "output_type": "display_data"
    }
   ],
   "source": [
    "# Set node position\n",
    "pos = {0: (-1, 2), 2:(1,0.5), 1:(-1,0.5), 3:(0,-1)}\n",
    "\n",
    "# Set Options for graph looks\n",
    "options = {\n",
    "    \"font_size\": 16,\n",
    "    \"node_size\": 4000, \n",
    "    \"node_color\": \"black\",\n",
    "    \"edgecolors\": \"black\",\n",
    "    \"edge_color\": \"red\",\n",
    "    \"font_color\": \"white\",\n",
    "    \"linewidths\": 5,\n",
    "    \"width\": 5}\n",
    "\n",
    "# Generate Graph\n",
    "n, d = bbn.to_nx_graph()\n",
    "nx.draw(n, with_labels=True, labels=d, pos=pos, **options)\n",
    "\n",
    "# Update margins and print the graph\n",
    "ax = plt.gca()\n",
    "ax.margins(0.10)\n",
    "plt.axis(\"off\")"
   ]
  },
  {
   "cell_type": "markdown",
   "id": "b6c2e91a",
   "metadata": {},
   "source": [
    "Plot probabilitas keselamatan penumpang"
   ]
  },
  {
   "cell_type": "code",
   "execution_count": 25,
   "id": "88a4f35a",
   "metadata": {},
   "outputs": [
    {
     "name": "stdout",
     "output_type": "stream",
     "text": [
      "Node: 1|sex|male,female\n",
      "Values:\n",
      "1=male|0.35241\n",
      "1=female|0.64759\n",
      "----------------\n",
      "Node: 0|age|child,adult,old\n",
      "Values:\n",
      "0=child|0.87767\n",
      "0=adult|0.09315\n",
      "0=old|0.02918\n",
      "----------------\n",
      "Node: 2|pclass|1,23\n",
      "Values:\n",
      "2=1|0.54000\n",
      "2=23|0.46000\n",
      "----------------\n",
      "Node: 3|Survived|No,Yes\n",
      "Values:\n",
      "3=No|0.38173\n",
      "3=Yes|0.61827\n",
      "----------------\n"
     ]
    }
   ],
   "source": [
    "def print_probs():\n",
    "    for node in join_tree.get_bbn_nodes():\n",
    "        potential = join_tree.get_bbn_potential(node)\n",
    "        print(\"Node:\", node)\n",
    "        print(\"Values:\")\n",
    "        print(potential)\n",
    "        print('----------------')\n",
    "        \n",
    "print_probs()"
   ]
  }
 ],
 "metadata": {
  "kernelspec": {
   "display_name": "Python 3 (ipykernel)",
   "language": "python",
   "name": "python3"
  },
  "language_info": {
   "codemirror_mode": {
    "name": "ipython",
    "version": 3
   },
   "file_extension": ".py",
   "mimetype": "text/x-python",
   "name": "python",
   "nbconvert_exporter": "python",
   "pygments_lexer": "ipython3",
   "version": "3.7.7"
  }
 },
 "nbformat": 4,
 "nbformat_minor": 5
}
