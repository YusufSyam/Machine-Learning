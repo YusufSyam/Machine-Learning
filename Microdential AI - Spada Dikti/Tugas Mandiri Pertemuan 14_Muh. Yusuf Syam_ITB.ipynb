{
 "cells": [
  {
   "cell_type": "markdown",
   "metadata": {
    "id": "cpca4T_-yyzj"
   },
   "source": [
    "# Hands-On\n",
    "---\n",
    "\n",
    "Hands-On ini digunakan pada kegiatan Microcredential Associate Data Scientist 2021"
   ]
  },
  {
   "cell_type": "markdown",
   "metadata": {
    "id": "9aNJ-aHtyyzl"
   },
   "source": [
    "# Tugas Mandiri Pertemuan 14\n",
    "---\n",
    "Pertemuan 14 (empatbelas) pada Microcredential Associate Data Scientist 2021 menyampaikan materi mengenai Membangun Model (RNN dan LSTM). silakan Anda kerjakan Latihan 1 s/d 5. Output yang anda lihat merupakan panduan yang dapat Anda ikuti dalam penulisan code :)"
   ]
  },
  {
   "cell_type": "markdown",
   "metadata": {
    "id": "Ym4w35mKyyzm"
   },
   "source": [
    "# RNN\n",
    "\n",
    "Jaringan saraf berulang atau recurrent neural network (RNN) adalah jenis arsitektur jaringan saraf tiruan yang pemrosesannya dipanggil berulang-ulang untuk memroses masukan yang biasanya adalah data sekuensial. RNN masuk dalam kategori deep learning karena data diproses melalui banyak lapis (layer). RNN telah mengalami kemajuan yang pesat dan telah merevolusi bidang-bidang seperti pemrosesan bahasa alami (NLP), pengenalan suara, sintesa musik, pemrosesan data finansial seri waktu, analisa deret DNA, analisa video, dan sebagainya.\n",
    "\n",
    "\n",
    "RNN memroses input secara sekuensial, sampel per sampel. Dalam tiap pemrosesan, output yang dihasilkan tidak hanya merupakan fungsi dari sampel itu saja, tapi juga berdasarkan state internal yang merupakan hasil dari pemrosesan sampel-sampel sebelumnya (atau setelahnya, pada bidirectional RNN).\n",
    "\n",
    "Berikut adalah ilustrasi bagaimana RNN bekerja. Misalnya kita membuat RNN untuk menerjemahkan bahasa Indonesia ke bahasa Inggris\n",
    "\n",
    "Ilustrasi di atas kelihatan rumit, tapi sebenarnya cukup mudah dipahami.\n",
    "\n",
    "* sumbu horizontal adalah waktu, direpresentasikan dengan simbol t. Dapat kita bayangkan pemrosesan berjalan dari kiri ke kanan. Selanjutnya kita sebut t adalah langkah waktu (time step).\n",
    "\n",
    "* Keseluruhan input adalah kalimat, dalam hal ini:\n",
    "        Budi pergi ke sekolah.\n",
    "\n",
    "* Pemrosean input oleh RNN adalah kata demi kata. Input kata-kata ini disimbolkan dengan x1 ,x2 , … ,x5 , atau secara umum xt.\n",
    "\n",
    "* Output adalah kalimat, dalam hal ini:\n",
    "        Budi goes to school.\n",
    " \n",
    "* RNN memberikan output kata demi kata, dan ini kita simbolkan dengan ŷ1, ŷ2,  …, ŷ5 , atau secara umum ŷt .\n",
    "* Dalam tiap pemrosesan, RNN akan menyimpan state internal yaitu st, yang  diberikan dari satu langkah waktu ke langkah waktu berikutnya. Inilah “memori” dari RNN.\n",
    "\n",
    "Dengan contoh di atas, kita bisa generalisasikan arsitektur RNN sebagai berikut:\n",
    "\n",
    "\n",
    "Tambahan yang tidak terdapat di diagram sebelumnya adalah U, V, dan W, yang merupakan parameter-parameter yang dimiliki RNN. Kita akan bahas pemakaian parameter-parameter ini nanti.\n",
    "\n",
    "Penting untuk dipahami bahwa walaupun ada empat kotak RNN di gambar di atas, empat kotak itu mencerminkan satu modul RNN yang sama (satu instans model dengan parameter-parameter U, V, dan W yang sama). Penggambaran di atas hanya agar aspek sekuensialnya lebih tergambar.\n",
    "\n",
    "Alternatif representasinya adalah seperti ini, agar lebih jelas bahwa hanya ada satu modul RNN:\n",
    "\n",
    "Inilah sebabnya kenapa arsitektur ini disebut RNN. Kata recurrent (berulang) dalam RNN timbul karena RNN melakukan perhitungan yang sama secara berulang-ulang atas input yang kita berikan.\n",
    "\n",
    "Sering juga kedua ilustrasi di atas digabungkan jadi satu sbb:\n",
    "\n",
    "Sesuai dengan gambar di atas, ilustrasi di sebelah kanan adalah penjabaran (unrolled) dari versi berulang di sebelah kiri."
   ]
  },
  {
   "cell_type": "markdown",
   "metadata": {
    "id": "RQwTG6r5yyzp"
   },
   "source": [
    "# Latihan (1)\n",
    "\n",
    "### Melakukan import library yang dibutuhkan"
   ]
  },
  {
   "cell_type": "code",
   "execution_count": 258,
   "metadata": {
    "_cell_guid": "b1076dfc-b9ad-4769-8c92-a6c4dae69d19",
    "_uuid": "8f2839f25d086af736a60e9eeb907d3b93b6e0e5",
    "executionInfo": {
     "elapsed": 431,
     "status": "ok",
     "timestamp": 1638963597948,
     "user": {
      "displayName": "Richard Enrico",
      "photoUrl": "https://lh3.googleusercontent.com/a-/AOh14Gimgm4FbT6Wtue2-dVzWOFlRCjsbUl_rJJVm4X5BQ=s64",
      "userId": "17517833725718032826"
     },
     "user_tz": -480
    },
    "id": "GUeVfKy2yyzr"
   },
   "outputs": [],
   "source": [
    "# import library pandas\n",
    "import pandas as pd\n",
    "\n",
    "# Import library numpy\n",
    "import numpy as np\n",
    "\n",
    "# Import library matplotlib untuk visualisasi\n",
    "import matplotlib.pyplot as plt\n",
    "\n",
    "# import library for build model \n",
    "from keras.models import Sequential\n",
    "from keras.layers import Dense\n",
    "from keras.layers import LSTM, SimpleRNN\n",
    "from keras.layers import Dropout\n",
    "\n",
    "# import library untuk data preprocessing\n",
    "from sklearn.preprocessing import MinMaxScaler\n",
    "from sklearn.metrics import r2_score"
   ]
  },
  {
   "cell_type": "markdown",
   "metadata": {
    "id": "eH3nxXp1yyzu"
   },
   "source": [
    "### Load Dataset"
   ]
  },
  {
   "cell_type": "code",
   "execution_count": 259,
   "metadata": {
    "executionInfo": {
     "elapsed": 24,
     "status": "ok",
     "timestamp": 1638963598421,
     "user": {
      "displayName": "Richard Enrico",
      "photoUrl": "https://lh3.googleusercontent.com/a-/AOh14Gimgm4FbT6Wtue2-dVzWOFlRCjsbUl_rJJVm4X5BQ=s64",
      "userId": "17517833725718032826"
     },
     "user_tz": -480
    },
    "id": "q6Sl6FBOyyzv"
   },
   "outputs": [],
   "source": [
    "#Panggil file (load file bernama Stock.csv) dan simpan dalam dataframe\n",
    "dataset =\"Stock.csv\"\n",
    "data = pd.read_csv(dataset)"
   ]
  },
  {
   "cell_type": "code",
   "execution_count": 260,
   "metadata": {
    "colab": {
     "base_uri": "https://localhost:8080/",
     "height": 206
    },
    "executionInfo": {
     "elapsed": 1187,
     "status": "ok",
     "timestamp": 1638963599585,
     "user": {
      "displayName": "Richard Enrico",
      "photoUrl": "https://lh3.googleusercontent.com/a-/AOh14Gimgm4FbT6Wtue2-dVzWOFlRCjsbUl_rJJVm4X5BQ=s64",
      "userId": "17517833725718032826"
     },
     "user_tz": -480
    },
    "id": "ybL4rlxFyyzx",
    "outputId": "b2309518-d922-48bb-ad52-b5c3146047ea"
   },
   "outputs": [
    {
     "data": {
      "text/html": [
       "<div>\n",
       "<style scoped>\n",
       "    .dataframe tbody tr th:only-of-type {\n",
       "        vertical-align: middle;\n",
       "    }\n",
       "\n",
       "    .dataframe tbody tr th {\n",
       "        vertical-align: top;\n",
       "    }\n",
       "\n",
       "    .dataframe thead th {\n",
       "        text-align: right;\n",
       "    }\n",
       "</style>\n",
       "<table border=\"1\" class=\"dataframe\">\n",
       "  <thead>\n",
       "    <tr style=\"text-align: right;\">\n",
       "      <th></th>\n",
       "      <th>Date</th>\n",
       "      <th>Open</th>\n",
       "      <th>High</th>\n",
       "      <th>Low</th>\n",
       "      <th>Close</th>\n",
       "      <th>Volume</th>\n",
       "      <th>Name</th>\n",
       "    </tr>\n",
       "  </thead>\n",
       "  <tbody>\n",
       "    <tr>\n",
       "      <th>0</th>\n",
       "      <td>2006-01-03</td>\n",
       "      <td>56.45</td>\n",
       "      <td>56.66</td>\n",
       "      <td>55.46</td>\n",
       "      <td>56.53</td>\n",
       "      <td>3716500</td>\n",
       "      <td>UTX</td>\n",
       "    </tr>\n",
       "    <tr>\n",
       "      <th>1</th>\n",
       "      <td>2006-01-04</td>\n",
       "      <td>56.80</td>\n",
       "      <td>56.80</td>\n",
       "      <td>55.84</td>\n",
       "      <td>56.19</td>\n",
       "      <td>3114500</td>\n",
       "      <td>UTX</td>\n",
       "    </tr>\n",
       "    <tr>\n",
       "      <th>2</th>\n",
       "      <td>2006-01-05</td>\n",
       "      <td>56.30</td>\n",
       "      <td>56.49</td>\n",
       "      <td>55.63</td>\n",
       "      <td>55.98</td>\n",
       "      <td>3118900</td>\n",
       "      <td>UTX</td>\n",
       "    </tr>\n",
       "    <tr>\n",
       "      <th>3</th>\n",
       "      <td>2006-01-06</td>\n",
       "      <td>56.45</td>\n",
       "      <td>56.67</td>\n",
       "      <td>56.10</td>\n",
       "      <td>56.16</td>\n",
       "      <td>2874300</td>\n",
       "      <td>UTX</td>\n",
       "    </tr>\n",
       "    <tr>\n",
       "      <th>4</th>\n",
       "      <td>2006-01-09</td>\n",
       "      <td>56.37</td>\n",
       "      <td>56.90</td>\n",
       "      <td>56.16</td>\n",
       "      <td>56.80</td>\n",
       "      <td>2467200</td>\n",
       "      <td>UTX</td>\n",
       "    </tr>\n",
       "  </tbody>\n",
       "</table>\n",
       "</div>"
      ],
      "text/plain": [
       "         Date   Open   High    Low  Close   Volume Name\n",
       "0  2006-01-03  56.45  56.66  55.46  56.53  3716500  UTX\n",
       "1  2006-01-04  56.80  56.80  55.84  56.19  3114500  UTX\n",
       "2  2006-01-05  56.30  56.49  55.63  55.98  3118900  UTX\n",
       "3  2006-01-06  56.45  56.67  56.10  56.16  2874300  UTX\n",
       "4  2006-01-09  56.37  56.90  56.16  56.80  2467200  UTX"
      ]
     },
     "execution_count": 260,
     "metadata": {},
     "output_type": "execute_result"
    }
   ],
   "source": [
    "# tampilkan 5 baris data \n",
    "data.head()"
   ]
  },
  {
   "cell_type": "markdown",
   "metadata": {
    "id": "gPjq3TDeyyzz"
   },
   "source": [
    "### Review Data"
   ]
  },
  {
   "cell_type": "code",
   "execution_count": 261,
   "metadata": {
    "_uuid": "f7be14868f30eaa55193cb7ad2674c72c447fa59",
    "colab": {
     "base_uri": "https://localhost:8080/"
    },
    "executionInfo": {
     "elapsed": 87,
     "status": "ok",
     "timestamp": 1638963599589,
     "user": {
      "displayName": "Richard Enrico",
      "photoUrl": "https://lh3.googleusercontent.com/a-/AOh14Gimgm4FbT6Wtue2-dVzWOFlRCjsbUl_rJJVm4X5BQ=s64",
      "userId": "17517833725718032826"
     },
     "user_tz": -480
    },
    "id": "xDkWddTeyyz1",
    "outputId": "b8d77c10-3c3f-4200-fc45-94ca635f5b57"
   },
   "outputs": [
    {
     "name": "stdout",
     "output_type": "stream",
     "text": [
      "<class 'pandas.core.frame.DataFrame'>\n",
      "RangeIndex: 3020 entries, 0 to 3019\n",
      "Data columns (total 7 columns):\n",
      " #   Column  Non-Null Count  Dtype  \n",
      "---  ------  --------------  -----  \n",
      " 0   Date    3020 non-null   object \n",
      " 1   Open    3019 non-null   float64\n",
      " 2   High    3020 non-null   float64\n",
      " 3   Low     3020 non-null   float64\n",
      " 4   Close   3020 non-null   float64\n",
      " 5   Volume  3020 non-null   int64  \n",
      " 6   Name    3020 non-null   object \n",
      "dtypes: float64(4), int64(1), object(2)\n",
      "memory usage: 165.3+ KB\n"
     ]
    }
   ],
   "source": [
    "# Melihat Informasi lebih detail mengenai struktur DataFrame dapat dilihat menggunakan fungsi info()\n",
    "data.info()"
   ]
  },
  {
   "cell_type": "code",
   "execution_count": 262,
   "metadata": {
    "_uuid": "d1c7f3ee1eabccd4186e8046252a379ef7b5cefa",
    "executionInfo": {
     "elapsed": 84,
     "status": "ok",
     "timestamp": 1638963599600,
     "user": {
      "displayName": "Richard Enrico",
      "photoUrl": "https://lh3.googleusercontent.com/a-/AOh14Gimgm4FbT6Wtue2-dVzWOFlRCjsbUl_rJJVm4X5BQ=s64",
      "userId": "17517833725718032826"
     },
     "user_tz": -480
    },
    "id": "YfIFVrQyyyz2"
   },
   "outputs": [],
   "source": [
    "# Kolom 'low' yang akan kita gunakan dalam membangun model\n",
    "# Slice kolom 'low' \n",
    "\n",
    "Low_data = data.iloc[:,3:4].values"
   ]
  },
  {
   "cell_type": "code",
   "execution_count": 263,
   "metadata": {
    "_uuid": "3022aa336271cc887b9f29b142f7351c6840a123",
    "colab": {
     "base_uri": "https://localhost:8080/"
    },
    "executionInfo": {
     "elapsed": 88,
     "status": "ok",
     "timestamp": 1638963599605,
     "user": {
      "displayName": "Richard Enrico",
      "photoUrl": "https://lh3.googleusercontent.com/a-/AOh14Gimgm4FbT6Wtue2-dVzWOFlRCjsbUl_rJJVm4X5BQ=s64",
      "userId": "17517833725718032826"
     },
     "user_tz": -480
    },
    "id": "IZwrd1FRyyz3",
    "outputId": "b16a9c70-f6bf-4c17-fec5-1747a39d28bc"
   },
   "outputs": [
    {
     "data": {
      "text/plain": [
       "array([[ 55.46],\n",
       "       [ 55.84],\n",
       "       [ 55.63],\n",
       "       ...,\n",
       "       [126.92],\n",
       "       [127.29],\n",
       "       [127.57]])"
      ]
     },
     "execution_count": 263,
     "metadata": {},
     "output_type": "execute_result"
    }
   ],
   "source": [
    "# cek output low_data\n",
    "Low_data           "
   ]
  },
  {
   "cell_type": "code",
   "execution_count": 264,
   "metadata": {
    "_uuid": "0fba437dbe916d38aa29f7e3b8d3c0058e72cd6f",
    "colab": {
     "base_uri": "https://localhost:8080/",
     "height": 628
    },
    "executionInfo": {
     "elapsed": 90,
     "status": "ok",
     "timestamp": 1638963599614,
     "user": {
      "displayName": "Richard Enrico",
      "photoUrl": "https://lh3.googleusercontent.com/a-/AOh14Gimgm4FbT6Wtue2-dVzWOFlRCjsbUl_rJJVm4X5BQ=s64",
      "userId": "17517833725718032826"
     },
     "user_tz": -480
    },
    "id": "B9HD00nEyyz4",
    "outputId": "48b99548-5c45-4316-e257-45518c03e18f"
   },
   "outputs": [
    {
     "data": {
      "image/png": "[encoded data removed]",
      "text/plain": [
       "<Figure size 1008x720 with 1 Axes>"
      ]
     },
     "metadata": {
      "needs_background": "light"
     },
     "output_type": "display_data"
    }
   ],
   "source": [
    "# Visualizing low_data\n",
    "\n",
    "plt.figure(figsize=(14,10))                 \n",
    "plt.plot(Low_data,c=\"red\")\n",
    "plt.title(\"Microsoft Stock Prices\",fontsize=16)\n",
    "plt.xlabel(\"Days\",fontsize=16)\n",
    "plt.ylabel(\"Scaled Price\",fontsize=16)\n",
    "plt.grid()\n",
    "plt.show()"
   ]
  },
  {
   "cell_type": "markdown",
   "metadata": {
    "_uuid": "0ed6338b04615f1c9b8aee0c017a21c5f6c9f44e",
    "id": "rLNEfUBbyyz5"
   },
   "source": [
    "# Latihan (2)\n",
    "\n",
    "###  Data Preprocessing"
   ]
  },
  {
   "cell_type": "code",
   "execution_count": 265,
   "metadata": {
    "_uuid": "77340783a8ce9d6b1a7bd66eb0adf38fb8dea48b",
    "executionInfo": {
     "elapsed": 89,
     "status": "ok",
     "timestamp": 1638963599620,
     "user": {
      "displayName": "Richard Enrico",
      "photoUrl": "https://lh3.googleusercontent.com/a-/AOh14Gimgm4FbT6Wtue2-dVzWOFlRCjsbUl_rJJVm4X5BQ=s64",
      "userId": "17517833725718032826"
     },
     "user_tz": -480
    },
    "id": "TEuZr6HJyyz5"
   },
   "outputs": [],
   "source": [
    "# Menskalakan data antara 1 dan 0 (scaling) pada low data\n",
    "\n",
    "scaler = MinMaxScaler()         \n",
    "data_scaled = scaler.fit_transform(Low_data)"
   ]
  },
  {
   "cell_type": "code",
   "execution_count": 266,
   "metadata": {
    "_uuid": "47988513e859e73a34e041fa5131518451fac658",
    "executionInfo": {
     "elapsed": 97,
     "status": "ok",
     "timestamp": 1638963599630,
     "user": {
      "displayName": "Richard Enrico",
      "photoUrl": "https://lh3.googleusercontent.com/a-/AOh14Gimgm4FbT6Wtue2-dVzWOFlRCjsbUl_rJJVm4X5BQ=s64",
      "userId": "17517833725718032826"
     },
     "user_tz": -480
    },
    "id": "MuWFYsjWyyz6"
   },
   "outputs": [],
   "source": [
    "# definisikan variabel step dan train \n",
    "\n",
    "step = 21                \n",
    "\n",
    "X = []\n",
    "y = []"
   ]
  },
  {
   "cell_type": "code",
   "execution_count": 267,
   "metadata": {
    "_uuid": "5b23b8ae7d949d774e89d3c9c4115a941737b5ea",
    "executionInfo": {
     "elapsed": 100,
     "status": "ok",
     "timestamp": 1638963599634,
     "user": {
      "displayName": "Richard Enrico",
      "photoUrl": "https://lh3.googleusercontent.com/a-/AOh14Gimgm4FbT6Wtue2-dVzWOFlRCjsbUl_rJJVm4X5BQ=s64",
      "userId": "17517833725718032826"
     },
     "user_tz": -480
    },
    "id": "QgEWdX-Fyyz6"
   },
   "outputs": [],
   "source": [
    "# membuat fitur dan lists label\n",
    "\n",
    "for i in range(step, len(Low_data) - 1):               \n",
    "    X.append(data_scaled[i-step:i, 0])\n",
    "    y.append(data_scaled[i, 0])"
   ]
  },
  {
   "cell_type": "code",
   "execution_count": 268,
   "metadata": {
    "_uuid": "7afe032f495d63420e151b189c323b91e6fe76d4",
    "executionInfo": {
     "elapsed": 101,
     "status": "ok",
     "timestamp": 1638963599636,
     "user": {
      "displayName": "Richard Enrico",
      "photoUrl": "https://lh3.googleusercontent.com/a-/AOh14Gimgm4FbT6Wtue2-dVzWOFlRCjsbUl_rJJVm4X5BQ=s64",
      "userId": "17517833725718032826"
     },
     "user_tz": -480
    },
    "id": "e2mq6bLhyyz7"
   },
   "outputs": [],
   "source": [
    "# mengonversi list yang telah dibuat sebelumnya ke array\n",
    "\n",
    "X = np.array(X)\n",
    "y = np.array(y)"
   ]
  },
  {
   "cell_type": "code",
   "execution_count": 269,
   "metadata": {
    "_uuid": "c5c05709eb62cd77d0b023ce9c2d4cc9d69bcdcf",
    "colab": {
     "base_uri": "https://localhost:8080/"
    },
    "executionInfo": {
     "elapsed": 103,
     "status": "ok",
     "timestamp": 1638963599638,
     "user": {
      "displayName": "Richard Enrico",
      "photoUrl": "https://lh3.googleusercontent.com/a-/AOh14Gimgm4FbT6Wtue2-dVzWOFlRCjsbUl_rJJVm4X5BQ=s64",
      "userId": "17517833725718032826"
     },
     "user_tz": -480
    },
    "id": "q3pVDHNzyyz7",
    "outputId": "910cbce2-7139-4732-fd43-7092c5456481"
   },
   "outputs": [
    {
     "data": {
      "text/plain": [
       "(2998, 21)"
      ]
     },
     "execution_count": 269,
     "metadata": {},
     "output_type": "execute_result"
    }
   ],
   "source": [
    "# cek dimensi data dengan function .shape\n",
    "\n",
    "X.shape                           "
   ]
  },
  {
   "cell_type": "code",
   "execution_count": 270,
   "metadata": {
    "_uuid": "dfcc9188e7c1329d9f2c10e5d72ea40f4e168802",
    "executionInfo": {
     "elapsed": 97,
     "status": "ok",
     "timestamp": 1638963599640,
     "user": {
      "displayName": "Richard Enrico",
      "photoUrl": "https://lh3.googleusercontent.com/a-/AOh14Gimgm4FbT6Wtue2-dVzWOFlRCjsbUl_rJJVm4X5BQ=s64",
      "userId": "17517833725718032826"
     },
     "user_tz": -480
    },
    "id": "gTIdDNzvyyz8"
   },
   "outputs": [],
   "source": [
    "# 498 hari terakhir akan digunakan dalam pengujian\n",
    "# 2500 hari pertama akan digunakan dalam pelatihan\n",
    "\n",
    "X_train = X[:2500] \n",
    "y_train = y[:2500]\n",
    "X_test = X[2500:]\n",
    "y_test = y[2500:]"
   ]
  },
  {
   "cell_type": "code",
   "execution_count": 271,
   "metadata": {
    "_uuid": "75911a4fb246652ef811a6bc967e2de45ec56bbb",
    "executionInfo": {
     "elapsed": 99,
     "status": "ok",
     "timestamp": 1638963599643,
     "user": {
      "displayName": "Richard Enrico",
      "photoUrl": "https://lh3.googleusercontent.com/a-/AOh14Gimgm4FbT6Wtue2-dVzWOFlRCjsbUl_rJJVm4X5BQ=s64",
      "userId": "17517833725718032826"
     },
     "user_tz": -480
    },
    "id": "xLRQ0xR2yyz9"
   },
   "outputs": [],
   "source": [
    "# reshape data untuk dimasukkan kedalam Keras model\n",
    "\n",
    "X_train = np.reshape(X_train, (X_train.shape[0], X_train.shape[1], 1))\n",
    "X_test = np.reshape(X_test, (X_test.shape[0], X_test.shape[1], 1))"
   ]
  },
  {
   "cell_type": "code",
   "execution_count": 272,
   "metadata": {
    "_uuid": "39807a2261f198b8ad0e1b15f7d277bac14fbe79",
    "colab": {
     "base_uri": "https://localhost:8080/"
    },
    "executionInfo": {
     "elapsed": 102,
     "status": "ok",
     "timestamp": 1638963599646,
     "user": {
      "displayName": "Richard Enrico",
      "photoUrl": "https://lh3.googleusercontent.com/a-/AOh14Gimgm4FbT6Wtue2-dVzWOFlRCjsbUl_rJJVm4X5BQ=s64",
      "userId": "17517833725718032826"
     },
     "user_tz": -480
    },
    "id": "spud20DEyyz9",
    "outputId": "2219e4ee-adc0-445b-8fc3-52edca3fe62b"
   },
   "outputs": [
    {
     "name": "stdout",
     "output_type": "stream",
     "text": [
      "(2500, 21, 1) \n",
      " (498, 21, 1)\n"
     ]
    }
   ],
   "source": [
    "# cek kembali dimensi data yang telah di reshape dengan function .shape\n",
    "\n",
    "print(X_train.shape, '\\n', X_test.shape)"
   ]
  },
  {
   "cell_type": "markdown",
   "metadata": {
    "_uuid": "36ce211bae2ce73bb74f9c68bebd8341bfa4dcaa",
    "id": "v919rfHKyyz-"
   },
   "source": [
    "Sekarang kita bisa mulai membuat model kita, dimulai dengan RNN"
   ]
  },
  {
   "cell_type": "markdown",
   "metadata": {
    "_uuid": "0ed6338b04615f1c9b8aee0c017a21c5f6c9f44e",
    "id": "gKPTbTxtyyz-"
   },
   "source": [
    "# Latihan (3)\n",
    "\n",
    "###  Build Model - RNN"
   ]
  },
  {
   "cell_type": "code",
   "execution_count": 273,
   "metadata": {
    "_uuid": "7c537bd5662768a89af0ca153cc873dffe3c357f",
    "executionInfo": {
     "elapsed": 100,
     "status": "ok",
     "timestamp": 1638963599652,
     "user": {
      "displayName": "Richard Enrico",
      "photoUrl": "https://lh3.googleusercontent.com/a-/AOh14Gimgm4FbT6Wtue2-dVzWOFlRCjsbUl_rJJVm4X5BQ=s64",
      "userId": "17517833725718032826"
     },
     "user_tz": -480
    },
    "id": "DsLMVIYDyyz_"
   },
   "outputs": [],
   "source": [
    "# buat varibel penampung model RNN\n",
    "model_rnn = Sequential()"
   ]
  },
  {
   "cell_type": "code",
   "execution_count": 274,
   "metadata": {
    "_uuid": "b8d82124786360d2839b63165fb242921d93f8a1",
    "executionInfo": {
     "elapsed": 671,
     "status": "ok",
     "timestamp": 1638963600224,
     "user": {
      "displayName": "Richard Enrico",
      "photoUrl": "https://lh3.googleusercontent.com/a-/AOh14Gimgm4FbT6Wtue2-dVzWOFlRCjsbUl_rJJVm4X5BQ=s64",
      "userId": "17517833725718032826"
     },
     "user_tz": -480
    },
    "id": "hWRc6K2qyyz_"
   },
   "outputs": [],
   "source": [
    "# Output dari SimpleRNN akan menjadi bentuk tensor 2D (batch_size, 40) dengan Dropout sebesar 0.15\n",
    "\n",
    "model_rnn.add(SimpleRNN(units = 40, return_sequences = True, input_shape = (X_train.shape[1], 1)))\n",
    "model_rnn.add(Dropout(0.15))\n",
    "\n",
    "model_rnn.add(SimpleRNN(units = 40, return_sequences = True))\n",
    "model_rnn.add(Dropout(0.15))\n",
    "\n",
    "model_rnn.add(SimpleRNN(units = 40))\n",
    "model_rnn.add(Dropout(0.15))\n",
    "\n",
    "# Add a Dense layer with 1 units.\n",
    "model_rnn.add(Dense(units=1))"
   ]
  },
  {
   "cell_type": "code",
   "execution_count": 275,
   "metadata": {
    "_uuid": "e6bfdf03b0efa3c44f001b9f3861de965c8461a8",
    "executionInfo": {
     "elapsed": 23,
     "status": "ok",
     "timestamp": 1638963600228,
     "user": {
      "displayName": "Richard Enrico",
      "photoUrl": "https://lh3.googleusercontent.com/a-/AOh14Gimgm4FbT6Wtue2-dVzWOFlRCjsbUl_rJJVm4X5BQ=s64",
      "userId": "17517833725718032826"
     },
     "user_tz": -480
    },
    "id": "RnJQ73Nlyy0A"
   },
   "outputs": [],
   "source": [
    "# menambahkan loss function kedalam model RNN dengan tipe MSE\n",
    "\n",
    "model_rnn.compile(loss = 'mse')"
   ]
  },
  {
   "cell_type": "code",
   "execution_count": 276,
   "metadata": {
    "_uuid": "44d96eb8a0fa58ecfa5d17df71306006b254ad12",
    "colab": {
     "base_uri": "https://localhost:8080/"
    },
    "executionInfo": {
     "elapsed": 33156,
     "status": "ok",
     "timestamp": 1638963633362,
     "user": {
      "displayName": "Richard Enrico",
      "photoUrl": "https://lh3.googleusercontent.com/a-/AOh14Gimgm4FbT6Wtue2-dVzWOFlRCjsbUl_rJJVm4X5BQ=s64",
      "userId": "17517833725718032826"
     },
     "user_tz": -480
    },
    "id": "jhd4t-1myy0A",
    "outputId": "6d98e7e7-0249-4b3e-ffd4-f8194803d48c"
   },
   "outputs": [
    {
     "name": "stdout",
     "output_type": "stream",
     "text": [
      "Epoch 1/20\n",
      "100/100 [==============================] - 4s 15ms/step - loss: 0.1805\n",
      "Epoch 2/20\n",
      "100/100 [==============================] - 2s 16ms/step - loss: 0.0505\n",
      "Epoch 3/20\n",
      "100/100 [==============================] - 2s 15ms/step - loss: 0.0219\n",
      "Epoch 4/20\n",
      "100/100 [==============================] - 2s 15ms/step - loss: 0.0114\n",
      "Epoch 5/20\n",
      "100/100 [==============================] - 2s 16ms/step - loss: 0.0072\n",
      "Epoch 6/20\n",
      "100/100 [==============================] - 2s 15ms/step - loss: 0.0052\n",
      "Epoch 7/20\n",
      "100/100 [==============================] - 2s 16ms/step - loss: 0.0041\n",
      "Epoch 8/20\n",
      "100/100 [==============================] - 2s 16ms/step - loss: 0.0037\n",
      "Epoch 9/20\n",
      "100/100 [==============================] - 2s 16ms/step - loss: 0.0032\n",
      "Epoch 10/20\n",
      "100/100 [==============================] - 2s 16ms/step - loss: 0.0028\n",
      "Epoch 11/20\n",
      "100/100 [==============================] - 2s 16ms/step - loss: 0.0024\n",
      "Epoch 12/20\n",
      "100/100 [==============================] - 2s 15ms/step - loss: 0.0024\n",
      "Epoch 13/20\n",
      "100/100 [==============================] - 2s 16ms/step - loss: 0.0022\n",
      "Epoch 14/20\n",
      "100/100 [==============================] - 2s 15ms/step - loss: 0.0022\n",
      "Epoch 15/20\n",
      "100/100 [==============================] - 2s 16ms/step - loss: 0.0020\n",
      "Epoch 16/20\n",
      "100/100 [==============================] - 2s 15ms/step - loss: 0.0018\n",
      "Epoch 17/20\n",
      "100/100 [==============================] - 2s 15ms/step - loss: 0.0018\n",
      "Epoch 18/20\n",
      "100/100 [==============================] - 2s 16ms/step - loss: 0.0016\n",
      "Epoch 19/20\n",
      "100/100 [==============================] - 2s 16ms/step - loss: 0.0015\n",
      "Epoch 20/20\n",
      "100/100 [==============================] - 2s 16ms/step - loss: 0.0015\n"
     ]
    },
    {
     "data": {
      "text/plain": [
       "<keras.callbacks.History at 0x7fed617436d0>"
      ]
     },
     "execution_count": 276,
     "metadata": {},
     "output_type": "execute_result"
    }
   ],
   "source": [
    "# fit the model RNN, dengan epoch 20 dan batch size 25\n",
    "\n",
    "model_rnn.fit(X_train, y_train, epochs = 20, batch_size = 25)"
   ]
  },
  {
   "cell_type": "code",
   "execution_count": 277,
   "metadata": {
    "_uuid": "da7338ba384e18f235cd083bd9602c848e7ec8cb",
    "executionInfo": {
     "elapsed": 455,
     "status": "ok",
     "timestamp": 1638963633803,
     "user": {
      "displayName": "Richard Enrico",
      "photoUrl": "https://lh3.googleusercontent.com/a-/AOh14Gimgm4FbT6Wtue2-dVzWOFlRCjsbUl_rJJVm4X5BQ=s64",
      "userId": "17517833725718032826"
     },
     "user_tz": -480
    },
    "id": "BIuhmoJ_yy0B"
   },
   "outputs": [],
   "source": [
    "# Prediksi Model RNN\n",
    "rnn_predictions = model_rnn.predict(X_test)\n",
    "  \n",
    "rnn_score = r2_score(y_test, rnn_predictions)"
   ]
  },
  {
   "cell_type": "code",
   "execution_count": 278,
   "metadata": {
    "colab": {
     "base_uri": "https://localhost:8080/"
    },
    "executionInfo": {
     "elapsed": 10,
     "status": "ok",
     "timestamp": 1638963633804,
     "user": {
      "displayName": "Richard Enrico",
      "photoUrl": "https://lh3.googleusercontent.com/a-/AOh14Gimgm4FbT6Wtue2-dVzWOFlRCjsbUl_rJJVm4X5BQ=s64",
      "userId": "17517833725718032826"
     },
     "user_tz": -480
    },
    "id": "DTNdMdzryy0B",
    "outputId": "a30e70d5-3a2a-442f-ec6a-fd1bc881209b",
    "scrolled": true
   },
   "outputs": [
    {
     "data": {
      "text/plain": [
       "0.9519356057880821"
      ]
     },
     "execution_count": 278,
     "metadata": {},
     "output_type": "execute_result"
    }
   ],
   "source": [
    "rnn_score"
   ]
  },
  {
   "cell_type": "markdown",
   "metadata": {
    "_uuid": "0ed6338b04615f1c9b8aee0c017a21c5f6c9f44e",
    "id": "V10bhWgWyy0C"
   },
   "source": [
    "# Latihan (4)\n",
    "\n",
    "###  Build Model - LSTM"
   ]
  },
  {
   "cell_type": "code",
   "execution_count": 279,
   "metadata": {
    "_uuid": "b0281b303bd5e032c2115cdf9d6c184908f9bd03",
    "executionInfo": {
     "elapsed": 8,
     "status": "ok",
     "timestamp": 1638963633805,
     "user": {
      "displayName": "Richard Enrico",
      "photoUrl": "https://lh3.googleusercontent.com/a-/AOh14Gimgm4FbT6Wtue2-dVzWOFlRCjsbUl_rJJVm4X5BQ=s64",
      "userId": "17517833725718032826"
     },
     "user_tz": -480
    },
    "id": "QR1z8v2Kyy0C"
   },
   "outputs": [],
   "source": [
    "# buat varibel penampung model LSTM\n",
    "model_lstm = Sequential()"
   ]
  },
  {
   "cell_type": "code",
   "execution_count": 280,
   "metadata": {
    "_uuid": "fcb29b0dffb87ef05bc4b1c7ce2c03e9fc166770",
    "executionInfo": {
     "elapsed": 1250,
     "status": "ok",
     "timestamp": 1638963635048,
     "user": {
      "displayName": "Richard Enrico",
      "photoUrl": "https://lh3.googleusercontent.com/a-/AOh14Gimgm4FbT6Wtue2-dVzWOFlRCjsbUl_rJJVm4X5BQ=s64",
      "userId": "17517833725718032826"
     },
     "user_tz": -480
    },
    "id": "7UrpGy70yy0D"
   },
   "outputs": [],
   "source": [
    "# Add a LSTM layer with 40 internal units. dengan Dropout sebesar 0.15\n",
    "\n",
    "model_lstm.add(LSTM(units = 40, return_sequences = True, input_shape = (X_train.shape[1], 1)))\n",
    "model_lstm.add(Dropout(0.15))\n",
    "\n",
    "model_lstm.add(LSTM(units = 40, return_sequences = True))\n",
    "model_lstm.add(Dropout(0.15))\n",
    "\n",
    "model_lstm.add(LSTM(units = 40))\n",
    "model_lstm.add(Dropout(0.15))\n",
    "\n",
    "# Add a Dense layer with 1 units.\n",
    "model_lstm.add(Dense(units=1))"
   ]
  },
  {
   "cell_type": "code",
   "execution_count": 281,
   "metadata": {
    "_uuid": "d9db1d5c8f05a80cedc9b603b518760266ce6776",
    "executionInfo": {
     "elapsed": 22,
     "status": "ok",
     "timestamp": 1638963635050,
     "user": {
      "displayName": "Richard Enrico",
      "photoUrl": "https://lh3.googleusercontent.com/a-/AOh14Gimgm4FbT6Wtue2-dVzWOFlRCjsbUl_rJJVm4X5BQ=s64",
      "userId": "17517833725718032826"
     },
     "user_tz": -480
    },
    "id": "4cjQRZ7syy0D"
   },
   "outputs": [],
   "source": [
    "# menambahkan loss function kedalam model lstm dengan tipe MSE\n",
    "\n",
    "model_lstm.compile(loss = 'mse')"
   ]
  },
  {
   "cell_type": "code",
   "execution_count": 282,
   "metadata": {
    "_uuid": "605f71e78831cbef65aef8638670a4fa95b77e85",
    "colab": {
     "base_uri": "https://localhost:8080/"
    },
    "executionInfo": {
     "elapsed": 86630,
     "status": "ok",
     "timestamp": 1638963721660,
     "user": {
      "displayName": "Richard Enrico",
      "photoUrl": "https://lh3.googleusercontent.com/a-/AOh14Gimgm4FbT6Wtue2-dVzWOFlRCjsbUl_rJJVm4X5BQ=s64",
      "userId": "17517833725718032826"
     },
     "user_tz": -480
    },
    "id": "oclNXOb9yy0D",
    "outputId": "38f43c66-b79f-41cc-95d9-733a1f9a3285"
   },
   "outputs": [
    {
     "name": "stdout",
     "output_type": "stream",
     "text": [
      "Epoch 1/20\n",
      "100/100 [==============================] - 8s 27ms/step - loss: 0.0121\n",
      "Epoch 2/20\n",
      "100/100 [==============================] - 3s 28ms/step - loss: 0.0059\n",
      "Epoch 3/20\n",
      "100/100 [==============================] - 3s 27ms/step - loss: 0.0049\n",
      "Epoch 4/20\n",
      "100/100 [==============================] - 3s 27ms/step - loss: 0.0046\n",
      "Epoch 5/20\n",
      "100/100 [==============================] - 3s 27ms/step - loss: 0.0039\n",
      "Epoch 6/20\n",
      "100/100 [==============================] - 3s 27ms/step - loss: 0.0035\n",
      "Epoch 7/20\n",
      "100/100 [==============================] - 3s 26ms/step - loss: 0.0032\n",
      "Epoch 8/20\n",
      "100/100 [==============================] - 3s 27ms/step - loss: 0.0030\n",
      "Epoch 9/20\n",
      "100/100 [==============================] - 3s 27ms/step - loss: 0.0027\n",
      "Epoch 10/20\n",
      "100/100 [==============================] - 3s 27ms/step - loss: 0.0027\n",
      "Epoch 11/20\n",
      "100/100 [==============================] - 3s 27ms/step - loss: 0.0024\n",
      "Epoch 12/20\n",
      "100/100 [==============================] - 3s 27ms/step - loss: 0.0024\n",
      "Epoch 13/20\n",
      "100/100 [==============================] - 3s 27ms/step - loss: 0.0020\n",
      "Epoch 14/20\n",
      "100/100 [==============================] - 3s 26ms/step - loss: 0.0020\n",
      "Epoch 15/20\n",
      "100/100 [==============================] - 3s 27ms/step - loss: 0.0019\n",
      "Epoch 16/20\n",
      "100/100 [==============================] - 3s 27ms/step - loss: 0.0018\n",
      "Epoch 17/20\n",
      "100/100 [==============================] - 3s 27ms/step - loss: 0.0017\n",
      "Epoch 18/20\n",
      "100/100 [==============================] - 3s 27ms/step - loss: 0.0016\n",
      "Epoch 19/20\n",
      "100/100 [==============================] - 3s 27ms/step - loss: 0.0015\n",
      "Epoch 20/20\n",
      "100/100 [==============================] - 3s 27ms/step - loss: 0.0015\n"
     ]
    },
    {
     "data": {
      "text/plain": [
       "<keras.callbacks.History at 0x7fed5c5750d0>"
      ]
     },
     "execution_count": 282,
     "metadata": {},
     "output_type": "execute_result"
    }
   ],
   "source": [
    "# fit lstm model, dengan epoch 20 dan batch size 25\n",
    "\n",
    "model_lstm.fit(X_train, y_train, epochs = 20, batch_size = 25)"
   ]
  },
  {
   "cell_type": "code",
   "execution_count": 283,
   "metadata": {
    "_uuid": "411eafbf6eb7f155f10461be59d6ab371893e62f",
    "executionInfo": {
     "elapsed": 2444,
     "status": "ok",
     "timestamp": 1638963724075,
     "user": {
      "displayName": "Richard Enrico",
      "photoUrl": "https://lh3.googleusercontent.com/a-/AOh14Gimgm4FbT6Wtue2-dVzWOFlRCjsbUl_rJJVm4X5BQ=s64",
      "userId": "17517833725718032826"
     },
     "user_tz": -480
    },
    "id": "XIk7LNJkyy0F"
   },
   "outputs": [],
   "source": [
    "# Prediksi Model LSTM\n",
    "lstm_predictions = model_lstm.predict(X_test)\n",
    "\n",
    "lstm_score = r2_score(y_test, lstm_predictions)"
   ]
  },
  {
   "cell_type": "code",
   "execution_count": 284,
   "metadata": {
    "_uuid": "6940c2d59c0762be788df610509d5b73373e38a0",
    "colab": {
     "base_uri": "https://localhost:8080/"
    },
    "executionInfo": {
     "elapsed": 40,
     "status": "ok",
     "timestamp": 1638963724081,
     "user": {
      "displayName": "Richard Enrico",
      "photoUrl": "https://lh3.googleusercontent.com/a-/AOh14Gimgm4FbT6Wtue2-dVzWOFlRCjsbUl_rJJVm4X5BQ=s64",
      "userId": "17517833725718032826"
     },
     "user_tz": -480
    },
    "id": "IJyZlfX4yy0L",
    "outputId": "c5631b9b-5707-436c-adeb-4327b75e88cc",
    "scrolled": true
   },
   "outputs": [
    {
     "data": {
      "text/plain": [
       "0.7857489472004024"
      ]
     },
     "execution_count": 284,
     "metadata": {},
     "output_type": "execute_result"
    }
   ],
   "source": [
    "lstm_score"
   ]
  },
  {
   "cell_type": "markdown",
   "metadata": {
    "_uuid": "0ed6338b04615f1c9b8aee0c017a21c5f6c9f44e",
    "id": "mYXlc2IIyy0M"
   },
   "source": [
    "# Latihan (5)\n",
    "\n",
    "### Evaluation"
   ]
  },
  {
   "cell_type": "code",
   "execution_count": 285,
   "metadata": {
    "_uuid": "1e2dcc7ce554b96eeefe27b7a34e1194351b54f3",
    "colab": {
     "base_uri": "https://localhost:8080/"
    },
    "executionInfo": {
     "elapsed": 42,
     "status": "ok",
     "timestamp": 1638963724088,
     "user": {
      "displayName": "Richard Enrico",
      "photoUrl": "https://lh3.googleusercontent.com/a-/AOh14Gimgm4FbT6Wtue2-dVzWOFlRCjsbUl_rJJVm4X5BQ=s64",
      "userId": "17517833725718032826"
     },
     "user_tz": -480
    },
    "id": "jtHcTaL9yy0M",
    "outputId": "aa9fc115-a967-4d38-d0c1-b13c68cd02c5"
   },
   "outputs": [
    {
     "name": "stdout",
     "output_type": "stream",
     "text": [
      "R^2 Score dari model RNN  0.9519356057880821\n",
      "R^2 Score dari model LSTM  0.7857489472004024\n"
     ]
    }
   ],
   "source": [
    "# Cetak nilai prediksi masing-masing model dengan menggunakan r^2 square\n",
    "\n",
    "print('R^2 Score dari model RNN ', rnn_score)\n",
    "print('R^2 Score dari model LSTM ', lstm_score)"
   ]
  },
  {
   "cell_type": "markdown",
   "metadata": {
    "id": "RlBvpdCuyy0N"
   },
   "source": [
    "### Visualisasi Perbandingan Hasil Model prediksi dengan data original "
   ]
  },
  {
   "cell_type": "code",
   "execution_count": 286,
   "metadata": {
    "_uuid": "feeb5905d3e1767d3d4cd93e4ce834d6f89e98fc",
    "executionInfo": {
     "elapsed": 41,
     "status": "ok",
     "timestamp": 1638963724093,
     "user": {
      "displayName": "Richard Enrico",
      "photoUrl": "https://lh3.googleusercontent.com/a-/AOh14Gimgm4FbT6Wtue2-dVzWOFlRCjsbUl_rJJVm4X5BQ=s64",
      "userId": "17517833725718032826"
     },
     "user_tz": -480
    },
    "id": "fI7rwkD3yy0N"
   },
   "outputs": [],
   "source": [
    "lstm_predictions = scaler.inverse_transform(lstm_predictions)\n",
    "rnn_predictions = scaler.inverse_transform(rnn_predictions)\n",
    "y_test = scaler.inverse_transform(y_test.reshape(-1,1))"
   ]
  },
  {
   "cell_type": "code",
   "execution_count": 287,
   "metadata": {
    "_uuid": "e9cf7c92445b1ec84e7597139cf49770b8282924",
    "colab": {
     "base_uri": "https://localhost:8080/",
     "height": 721
    },
    "executionInfo": {
     "elapsed": 42,
     "status": "ok",
     "timestamp": 1638963724096,
     "user": {
      "displayName": "Richard Enrico",
      "photoUrl": "https://lh3.googleusercontent.com/a-/AOh14Gimgm4FbT6Wtue2-dVzWOFlRCjsbUl_rJJVm4X5BQ=s64",
      "userId": "17517833725718032826"
     },
     "user_tz": -480
    },
    "id": "2lHNMxLCyy0N",
    "outputId": "f6079d14-7729-4139-db03-3d6089424836"
   },
   "outputs": [
    {
     "data": {
      "image/png": "[encoded data removed]",
      "text/plain": [
       "<Figure size 1152x864 with 1 Axes>"
      ]
     },
     "metadata": {
      "needs_background": "light"
     },
     "output_type": "display_data"
    }
   ],
   "source": [
    "plt.figure(figsize=(16,12))\n",
    "\n",
    "plt.plot(y_test, c=\"blue\",linewidth=2, label=\"original\")\n",
    "plt.plot(lstm_predictions, c=\"green\",linewidth=2, label=\"LSTM\")\n",
    "plt.plot(rnn_predictions, c=\"red\",linewidth=2, label=\"RNN\")\n",
    "plt.legend()\n",
    "plt.title(\"PERBANDINGAN\",fontsize=20)\n",
    "plt.grid()\n",
    "plt.show()"
   ]
  },
  {
   "cell_type": "markdown",
   "metadata": {
    "_uuid": "4d17d70b478ab4281e931edfdf258db7f727efa5",
    "id": "av-ninVkyy0O"
   },
   "source": [
    "## Berikan Kesimpulan Anda!"
   ]
  },
  {
   "cell_type": "code",
   "execution_count": 288,
   "metadata": {
    "_uuid": "80048aaf1eba053202fd8972548c3f0ce57bd360",
    "executionInfo": {
     "elapsed": 40,
     "status": "ok",
     "timestamp": 1638963724099,
     "user": {
      "displayName": "Richard Enrico",
      "photoUrl": "https://lh3.googleusercontent.com/a-/AOh14Gimgm4FbT6Wtue2-dVzWOFlRCjsbUl_rJJVm4X5BQ=s64",
      "userId": "17517833725718032826"
     },
     "user_tz": -480
    },
    "id": "8uDtuuJ1yy0O"
   },
   "outputs": [],
   "source": [
    "# Dapat kita lihat dari hasil akurasi menggunakan r2_score, algoritma SimpleRNN memiliki performa \n",
    "# akurasi yang lebih baik dari algoritma LSTM.\n",
    "# Dari visualisasi perbandingan hasil model prediksi dengan data original dapat kita lihat model \n",
    "# prediksi mampu mengikuti pergerakan dari data original"
   ]
  }
 ],
 "metadata": {
  "colab": {
   "collapsed_sections": [
    "RlBvpdCuyy0N"
   ],
   "name": "Tugas Mandiri Pertemuan 14_Richard Enrico Sulieanto_Universitas Hasanuddin.ipynb",
   "provenance": [
    {
     "file_id": "1qJVsgiN5Kf7Cj2if9YYqBZcQf6DOHSXG",
     "timestamp": 1638795012042
    }
   ]
  },
  "kernelspec": {
   "display_name": "Python 3 (ipykernel)",
   "language": "python",
   "name": "python3"
  },
  "language_info": {
   "codemirror_mode": {
    "name": "ipython",
    "version": 3
   },
   "file_extension": ".py",
   "mimetype": "text/x-python",
   "name": "python",
   "nbconvert_exporter": "python",
   "pygments_lexer": "ipython3",
   "version": "3.7.7"
  }
 },
 "nbformat": 4,
 "nbformat_minor": 1
}
