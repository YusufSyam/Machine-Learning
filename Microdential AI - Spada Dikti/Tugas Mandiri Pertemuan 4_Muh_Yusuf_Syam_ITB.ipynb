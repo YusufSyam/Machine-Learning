{
 "cells": [
  {
   "cell_type": "markdown",
   "metadata": {
    "id": "MWmuPQrpBQrI"
   },
   "source": [
    "# Hands-On\n",
    "\n",
    "Hands-On ini digunakan pada kegiatan Microcredential Associate Data Scientist 2021"
   ]
  },
  {
   "cell_type": "markdown",
   "metadata": {
    "id": "15mHFDt6BQrI"
   },
   "source": [
    "# Definisi Matriks\n",
    "\n",
    "Matriks dalam dunia metematika merupakan suatu bilangan, simbol, ataupun ekspresi yang disusun dalam baris dan kolom yang membentuk suatu bidang persegi/persegi panjang. Matriks memiliki ukuran/orde. Pada Python, matriks dapat dibuat sesuai kebutuhan dengan menentukan ukuran/orde dari matriks. Bentuk umum ukuran/orde matriks adalah mxn, m adalah banyak baris dan n adalah banyak kolom."
   ]
  },
  {
   "cell_type": "markdown",
   "metadata": {
    "id": "wqHtlqb8BQrJ"
   },
   "source": [
    "# Contoh Membuat Matriks Orde 2x2\n",
    "Berikut ini adalah syntax untuk membuat sebuah matriks yang diberi nama matriksA dengan ukuran/orde 2x2. Matriks orde 2x2 merupakan matriks yang memiliki nilai pada 2 baris dan 2 kolom. \n",
    "Pada contoh: \n",
    "matriksA memiliki:\n",
    "Baris 1 Kolom 1, nilai = 1\n",
    "Baris 1 Kolom 2, nilai = 0\n",
    "Baris 2 Kolom 1, nilai = 0\n",
    "Baris 2 Kolom 2, nilai = 1"
   ]
  },
  {
   "cell_type": "code",
   "execution_count": null,
   "metadata": {
    "colab": {
     "base_uri": "https://localhost:8080/"
    },
    "id": "9Iq7b4mgBQrK",
    "outputId": "f01d7c3f-cab5-40a3-8e6b-f05ec334de79"
   },
   "outputs": [
    {
     "name": "stdout",
     "output_type": "stream",
     "text": [
      "[[1, 0], [0, 1]]\n"
     ]
    }
   ],
   "source": [
    "#Matriks dengan ukuran 2x2\n",
    "matriksA = [ [1,0],[0,1] ]\n",
    "#Menampilkan matriks dengan nama matriksA\n",
    "print (matriksA)"
   ]
  },
  {
   "cell_type": "markdown",
   "metadata": {
    "id": "deih8hrmBQrL"
   },
   "source": [
    "# Contoh Membuat Matriks Orde 3x3\n",
    "Berikut ini adalah syntax untuk membuat sebuah matriks yang diberi nama matriksB dengan ukuran/orde 3x3. Matriks orde 3x3 merupakan matriks yang memiliki nilai pada 3 baris dan 3 kolom. \n",
    "Pada contoh: \n",
    "matriksB memiliki:\n",
    "Baris 1 Kolom 1, nilai = 1\n",
    "Baris 1 Kolom 2, nilai = 0\n",
    "Baris 1 Kolom 3, nilai = 1\n",
    "Baris 2 Kolom 1, nilai = 0\n",
    "Baris 2 Kolom 2, nilai = 1\n",
    "Baris 2 Kolom 3, nilai = 0\n",
    "Baris 3 Kolom 1, nilai = 1\n",
    "Baris 3 Kolom 2, nilai = 0\n",
    "Baris 3 Kolom 3, nilai = 1"
   ]
  },
  {
   "cell_type": "code",
   "execution_count": null,
   "metadata": {
    "colab": {
     "base_uri": "https://localhost:8080/"
    },
    "id": "ocGRdWYbBQrM",
    "outputId": "8175a25f-5e76-4235-d2b6-648bf001d74e"
   },
   "outputs": [
    {
     "name": "stdout",
     "output_type": "stream",
     "text": [
      "[[1, 0, 1], [0, 1, 0], [1, 0, 1]]\n"
     ]
    }
   ],
   "source": [
    "#Matriks dengan ukuran 3x3\n",
    "matriksB = [ [1,0,1],[0,1,0],[1,0,1] ]\n",
    "#Menampilkan matriks dengan nama MatriksB\n",
    "print (matriksB)"
   ]
  },
  {
   "cell_type": "markdown",
   "metadata": {
    "id": "RgmqfIO_BQrN"
   },
   "source": [
    "# Latihan (1)\n",
    "Buatlah matriksC dengan orde 2x3, dan nilai yang diberikan pada matriksC adalah sebagai berikut:\n",
    "Baris 1 Kolom 1, nilai = 1\n",
    "Baris 1 Kolom 2, nilai = 2\n",
    "Baris 1 Kolom 3, nilai = 3\n",
    "Baris 2 Kolom 1, nilai = 4\n",
    "Baris 2 Kolom 2, nilai = 5\n",
    "Baris 2 Kolom 3, nilai = 6"
   ]
  },
  {
   "cell_type": "code",
   "execution_count": null,
   "metadata": {
    "colab": {
     "base_uri": "https://localhost:8080/"
    },
    "id": "cSAX9kPcBQrO",
    "outputId": "6d4b7b81-4497-44dd-bed3-5f4c61cc911a"
   },
   "outputs": [
    {
     "name": "stdout",
     "output_type": "stream",
     "text": [
      "[[1, 2, 3], [4, 5, 6]]\n"
     ]
    }
   ],
   "source": [
    "#Latihan(1)\n",
    "#Matriks dengan ukuran 2x3\n",
    "matriksC = [[1,2,3],[4,5,6]]\n",
    "\n",
    "#Menampilkan matriks dengan nama MatriksC\n",
    "print(matriksC)"
   ]
  },
  {
   "cell_type": "markdown",
   "metadata": {
    "id": "SZwMfKRPBQrP"
   },
   "source": [
    "# Membuat Matriks dengan Menggunakan Perulangan\n",
    "Matriks dapat juga dibuat dengan menggunakan fungsi perulangan.\n",
    "Fungsi perulangan atau biasa disebut looping atau iterasi memerlukan tes kondisi. Bila hasil tes kondisi True, maka blok kode kembali dieksekusi. Tapi jika False, maka keluar dari perulangan.\n",
    "Di python, perulangan bisa dilakukan dengan dua cara atau metode, yaitu: menggunakan For atau menggunakan While."
   ]
  },
  {
   "cell_type": "markdown",
   "metadata": {
    "id": "rYRHH3IsBQrP"
   },
   "source": [
    "# Contoh Membuat Matriks dengan Perulangan FOR\n",
    "Pada contoh berikut ini, dibuat matriks dengan menggunakan perulangan for. Matriks mempunyai orde mxn, yaitu: orde 2x3, dan nilai yang diberikan adalah:\n",
    "Baris 1 Kolom 1, nilai = 1\n",
    "Baris 1 Kolom 2, nilai = 1\n",
    "Baris 1 Kolom 3, nilai = 1\n",
    "Baris 2 Kolom 1, nilai = 1\n",
    "Baris 2 Kolom 2, nilai = 1\n",
    "Baris 2 Kolom 3, nilai = 1"
   ]
  },
  {
   "cell_type": "code",
   "execution_count": null,
   "metadata": {
    "colab": {
     "base_uri": "https://localhost:8080/"
    },
    "id": "IoAmWKcEBQrQ",
    "outputId": "2be906f5-b40f-4641-f408-ecc1e48f4c84"
   },
   "outputs": [
    {
     "name": "stdout",
     "output_type": "stream",
     "text": [
      "[[1, 1, 1], [1, 1, 1]]\n"
     ]
    }
   ],
   "source": [
    "#Matriks dengan menggunakan fungsi perulangan\n",
    "m = 2\n",
    "n = 3 \n",
    "x = [0]*m\n",
    "#Fungsi perulangan dengan menggunakan for\n",
    "for i in range(m): \n",
    "    x[i] = [1]*n \n",
    "#Menampilkan matriks\n",
    "print (x)"
   ]
  },
  {
   "cell_type": "markdown",
   "metadata": {
    "id": "oU-sTtLeBQrQ"
   },
   "source": [
    "# Latihan (2)\n",
    "Buatlah matriks dengan orde 3x2, dengan nilai adalah:\n",
    "Baris 1 Kolom 1, nilai = 2\n",
    "Baris 1 Kolom 2, nilai = 2\n",
    "Baris 2 Kolom 1, nilai = 2\n",
    "Baris 2 Kolom 2, nilai = 2\n",
    "Baris 3 Kolom 1, nilai = 2\n",
    "Baris 3 Kolom 2, nilai = 2"
   ]
  },
  {
   "cell_type": "code",
   "execution_count": null,
   "metadata": {
    "colab": {
     "base_uri": "https://localhost:8080/"
    },
    "id": "pSJg1qUTBQrR",
    "outputId": "f58df2cc-96be-4cec-e035-f1f0838e88bd"
   },
   "outputs": [
    {
     "name": "stdout",
     "output_type": "stream",
     "text": [
      "[[2, 2], [2, 2], [2, 2]]\n"
     ]
    }
   ],
   "source": [
    "#Latihan(2)\n",
    "#Matriks dengan menggunakan fungsi perulangan\n",
    "m = 3\n",
    "n = 2\n",
    "x = [0]*m\n",
    "#Fungsi perulangan dengan menggunakan for\n",
    "for i in range(m):\n",
    "  x[i] = [2]*n\n",
    "#Menampilkan matriks\n",
    "print(x)"
   ]
  },
  {
   "cell_type": "markdown",
   "metadata": {
    "id": "u6B2ULCJBQrR"
   },
   "source": [
    "# Membuat Matriks dengan Menggunakan Library Numpy\n",
    "Library pada Python merupakan sebutan untuk kode program tambahan yang digunakan dalam kebutuhan tertentu. Python mempunyai lebih dari 140.000 library yang dikembangkan melalui open source project.\n",
    "\n",
    "Library Numpy memiliki kegunaan untuk operasi vektor dan matriks. Fiturnya hampir sama dengan MATLAB dalam mengelola array dan array multidimensi. Numpy merupakan salah satu library yang digunakan oleh library lain seperti Scikit-Learn untuk keperluan analisis data."
   ]
  },
  {
   "cell_type": "markdown",
   "metadata": {
    "id": "wd7Qq84HBQrS"
   },
   "source": [
    "# Contoh Membuat Matriks dengan Numpy\n",
    "Pada contoh berikut dibuat matriks dengan panjang elemen sebanyak 12 dengan nilai elemen dimulai dari indeks 0 sampai 11, dengan ukuran/orde matriks adalah 4x3."
   ]
  },
  {
   "cell_type": "code",
   "execution_count": null,
   "metadata": {
    "colab": {
     "base_uri": "https://localhost:8080/"
    },
    "id": "4F__SVBZBQrS",
    "outputId": "be957ff8-7a39-489e-ebfe-3580c8e0896d"
   },
   "outputs": [
    {
     "name": "stdout",
     "output_type": "stream",
     "text": [
      "[[ 0  1  2]\n",
      " [ 3  4  5]\n",
      " [ 6  7  8]\n",
      " [ 9 10 11]]\n"
     ]
    }
   ],
   "source": [
    "#Panggil Library Numpy\n",
    "from numpy import * \n",
    "#Menentukan panjang elemen sebanyak 12\n",
    "matriks = range(12) \n",
    "#Matriks orde adalah 4x3\n",
    "matriks = reshape(matriks,(4,3)) \n",
    "#Menampilkan matriks\n",
    "print (matriks)"
   ]
  },
  {
   "cell_type": "markdown",
   "metadata": {
    "id": "P-2po_CuBQrS"
   },
   "source": [
    "# Latihan (3)\n",
    "Buatlah matriks dengan menggunakan Library Numpy dengan panjang elemen adalah 32 dan matriks memiliki orde 4x8"
   ]
  },
  {
   "cell_type": "code",
   "execution_count": null,
   "metadata": {
    "colab": {
     "base_uri": "https://localhost:8080/"
    },
    "id": "rEaCpjWJBQrT",
    "outputId": "aa9b0e70-6df8-459c-f06b-f7ccb88b9f3a"
   },
   "outputs": [
    {
     "name": "stdout",
     "output_type": "stream",
     "text": [
      "[[ 0  1  2  3  4  5  6  7]\n",
      " [ 8  9 10 11 12 13 14 15]\n",
      " [16 17 18 19 20 21 22 23]\n",
      " [24 25 26 27 28 29 30 31]]\n"
     ]
    }
   ],
   "source": [
    "#Latihan(3)\n",
    "#Panggil Library Numpy\n",
    "from numpy import *\n",
    "\n",
    "#Menentukan panjang elemen sebanyak 30\n",
    "matriks = range(32)\n",
    "\n",
    "#Matriks orde adalah 4x8\n",
    "matriks = reshape(matriks,(4,8))\n",
    "\n",
    "#Menampilkan matriks\n",
    "print(matriks)"
   ]
  },
  {
   "cell_type": "markdown",
   "metadata": {
    "id": "LxGiOqA6BQrT"
   },
   "source": [
    "# Membuat Matriks dengan Nilai Random\n",
    "Jika ingin elemen pada matriks bernilai random, dapat menggunakan fungsi random yang tersedia pada numpy."
   ]
  },
  {
   "cell_type": "markdown",
   "metadata": {
    "id": "3v_aBrqjBQrT"
   },
   "source": [
    "# Contoh Membuat Matriks Random dengan Numpy\n",
    "Pada contoh berikut ini dibuat matriks dengan ukuran/orde 3x4 dengan nilai elemen dimulai dari indeks 1 sampai 4 secara random. "
   ]
  },
  {
   "cell_type": "code",
   "execution_count": null,
   "metadata": {
    "colab": {
     "base_uri": "https://localhost:8080/"
    },
    "id": "Da9yaPuaBQrU",
    "outputId": "088472d3-8013-45ec-bd6a-9c4c314d8fab"
   },
   "outputs": [
    {
     "name": "stdout",
     "output_type": "stream",
     "text": [
      "[[2 1 3 3]\n",
      " [2 1 2 2]\n",
      " [3 3 2 1]]\n"
     ]
    }
   ],
   "source": [
    "#Memanggil Library numpy dan diberikan nama alias np\n",
    "import numpy as np\n",
    "#Membuat matriks ukuran 3x4 dengan random\n",
    "\n",
    "matriks = np.random.randint(1,4,(3,4))\n",
    "#Menampilkan matriks\n",
    "print (matriks)"
   ]
  },
  {
   "cell_type": "markdown",
   "metadata": {
    "id": "umL9plSxBQrU"
   },
   "source": [
    "# Latihan (4)\n",
    "Buatlah matriks dengan menggunakan Library Numpy dengan orde 3x30, dan nilai elemen dimulai dari indeks 1 sampai dengan 5 secara random."
   ]
  },
  {
   "cell_type": "code",
   "execution_count": null,
   "metadata": {
    "colab": {
     "base_uri": "https://localhost:8080/"
    },
    "id": "BD9fzApEBQrU",
    "outputId": "eefb162f-51ab-4646-ce02-e11880376107"
   },
   "outputs": [
    {
     "name": "stdout",
     "output_type": "stream",
     "text": [
      "[[1 2 4 4 1 4 2 2 1 2 2 1 3 3 1 1 4 2 2 3 2 3 1 4 3 2 2 2 1 3]\n",
      " [3 2 1 2 3 2 1 2 1 4 1 1 2 3 2 4 3 1 1 4 3 3 2 3 4 2 1 1 3 3]\n",
      " [4 3 1 1 2 3 2 4 2 2 1 3 2 4 2 4 4 4 3 2 1 3 1 1 3 2 2 2 4 2]]\n"
     ]
    }
   ],
   "source": [
    "#Latihan(4)\n",
    "#Memanggil Library numpy dan diberikan nama alias np\n",
    "import numpy as np\n",
    "\n",
    "#Membuat matriks ukuran 3x30 dengan random\n",
    "matriks = np.random.randint(1,5,(3,30))\n",
    "\n",
    "#Menampilkan matriks\n",
    "print(matriks)"
   ]
  },
  {
   "cell_type": "markdown",
   "metadata": {
    "id": "cSNU_SlIBQrU"
   },
   "source": [
    "# Penjumlahan Matriks\n",
    "\n",
    "Penjumlahan matriks dilakukan dengan menjumlahkan setiap elemen, menggunakan tanda plus (+). Hasil penjumlahan tersebut akan menjadi elemen baru. Masing - masing matriks diakses setiap elemennya pada koordinat yang sama kemudian dijumlahkan untuk mendapatkan elemen baru. Penjumlahan matriks dilakukan pada dua buah matriks yang memiliki orde sama."
   ]
  },
  {
   "cell_type": "code",
   "execution_count": null,
   "metadata": {
    "colab": {
     "base_uri": "https://localhost:8080/"
    },
    "id": "fMAOgbLkBQrV",
    "outputId": "eb68412a-8318-41e9-aa24-6777cefb1403"
   },
   "outputs": [
    {
     "name": "stdout",
     "output_type": "stream",
     "text": [
      "6 0 6 8 "
     ]
    }
   ],
   "source": [
    "#Penjumlahan Matriks\n",
    "#Contoh 1\n",
    "mat1 = [\n",
    "    [5, 0],\n",
    "    [2, 6],\n",
    "]\n",
    "\n",
    "mat2 = [\n",
    "    [1, 0],\n",
    "    [4, 2],\n",
    "]\n",
    "\n",
    "\n",
    "for x in range(0, len(mat1)):\n",
    "    for y in range(0, len(mat1[0])):\n",
    "        print (mat1[x][y] + mat2[x][y], end=' '),\n",
    "    print"
   ]
  },
  {
   "cell_type": "code",
   "execution_count": null,
   "metadata": {
    "colab": {
     "base_uri": "https://localhost:8080/"
    },
    "id": "mqvA1KuFBQrV",
    "outputId": "2152ecab-8c55-4ec6-b8af-41017d368a87"
   },
   "outputs": [
    {
     "name": "stdout",
     "output_type": "stream",
     "text": [
      "[[1 2 1 1]\n",
      " [1 2 3 1]\n",
      " [2 2 1 1]]\n",
      "\n",
      "[[2 2 1 1]\n",
      " [2 2 1 1]\n",
      " [1 2 1 2]]\n",
      "\n",
      "Hasil Penjumlahan matriksA dan matriksB Baris ke- 1\n",
      "\n",
      "3 4 2 2 \n",
      "Hasil Penjumlahan matriksA dan matriksB Baris ke- 2\n",
      "\n",
      "3 4 4 2 \n",
      "Hasil Penjumlahan matriksA dan matriksB Baris ke- 3\n",
      "\n",
      "3 4 2 3 \n"
     ]
    }
   ],
   "source": [
    "#Penjumlahan Matriks\n",
    "#Contoh 2\n",
    "import numpy as np\n",
    "matriksA = np.random.randint(1, 4,(3, 4))\n",
    "matriksB = np.random.randint(1, 3,(3, 4))\n",
    "print (matriksA)\n",
    "print () #memberikan spasi baris pada matriks yang tercetak\n",
    "print (matriksB)\n",
    "print ()\n",
    "\n",
    "#penjumlahan matriksA dan matriks B\n",
    "for x in range(0, len(matriksA)):\n",
    "    print ('Hasil Penjumlahan matriksA dan matriksB', 'Baris ke-', x+1)\n",
    "    print ()\n",
    "    for y in range(0, len(matriksA[0])):\n",
    "        print (matriksA[x][y] + matriksB[x][y], end=' '),\n",
    "    print ()"
   ]
  },
  {
   "cell_type": "code",
   "execution_count": null,
   "metadata": {
    "colab": {
     "base_uri": "https://localhost:8080/"
    },
    "id": "PqqBcvKZBQrV",
    "outputId": "d8c9d11f-53ed-4b3d-86bc-661b8dd09a4c"
   },
   "outputs": [
    {
     "name": "stdout",
     "output_type": "stream",
     "text": [
      "[[1 3 3 2 1 2 2 1 3 3]\n",
      " [1 1 2 2 3 3 2 3 1 1]\n",
      " [1 2 1 1 2 2 3 1 2 3]\n",
      " [2 1 3 1 1 2 3 2 1 1]\n",
      " [2 2 1 2 2 3 2 1 1 3]\n",
      " [1 2 2 1 3 1 2 2 3 2]]\n",
      "\n",
      "[[2 1 2 1 1 1 2 2 1 2]\n",
      " [2 2 2 2 2 2 1 2 2 1]\n",
      " [2 1 1 2 2 2 2 2 1 2]\n",
      " [2 2 1 2 2 2 2 1 1 2]\n",
      " [2 2 1 1 1 2 1 2 2 1]\n",
      " [1 2 1 2 2 2 1 2 2 2]]\n",
      "\n",
      "\n",
      "3 4 5 3 2 3 4 3 4 5 \n",
      "\n",
      "3 3 4 4 5 5 3 5 3 2 \n",
      "\n",
      "3 3 2 3 4 4 5 3 3 5 \n",
      "\n",
      "4 3 4 3 3 4 5 3 2 3 \n",
      "\n",
      "4 4 2 3 3 5 3 3 3 4 \n",
      "\n",
      "2 4 3 3 5 3 3 4 5 4 \n"
     ]
    }
   ],
   "source": [
    "#Penjumlahan Matriks\n",
    "#Contoh 3\n",
    "import numpy as np\n",
    "matriksA = np.random.randint(1, 4,(6, 10))\n",
    "matriksB = np.random.randint(1, 3,(6, 10))\n",
    "print (matriksA)\n",
    "print () #memberikan spasi baris pada matriks yang tercetak\n",
    "print (matriksB)\n",
    "print ()\n",
    "\n",
    "#penjumlahan matriksA dan matriks B\n",
    "for x in range(0, len(matriksA)):\n",
    "    print ()\n",
    "    for y in range(0, len(matriksA[0])):\n",
    "        print (matriksA[x][y] + matriksB[x][y], end=' '),\n",
    "    print ()"
   ]
  },
  {
   "cell_type": "markdown",
   "metadata": {
    "id": "vo_Ab310BQrV"
   },
   "source": [
    "# Latihan (5)\n",
    "\n",
    "Buatlah penjumlahan dua matriks dengan menggunakan library Numpy, dengan matriks berukuran 7x9 yang nilainya didapatkan secara random."
   ]
  },
  {
   "cell_type": "code",
   "execution_count": null,
   "metadata": {
    "colab": {
     "base_uri": "https://localhost:8080/"
    },
    "id": "jBWwbrgXBQrW",
    "outputId": "9f135faa-2180-4c05-f8a4-903350547a14"
   },
   "outputs": [
    {
     "name": "stdout",
     "output_type": "stream",
     "text": [
      "[[1 1 3 2 1 2 1 1 3]\n",
      " [3 2 3 2 2 1 3 1 1]\n",
      " [3 3 2 1 3 2 2 3 1]\n",
      " [2 1 3 1 3 2 3 3 3]\n",
      " [2 2 2 3 1 1 1 2 1]\n",
      " [1 2 3 1 3 2 3 2 1]\n",
      " [3 1 2 1 2 3 2 1 3]]\n",
      "\n",
      "[[2 2 1 2 1 2 1 2 2]\n",
      " [2 1 2 1 1 2 2 2 2]\n",
      " [2 2 1 1 1 2 1 2 2]\n",
      " [2 2 1 1 2 1 2 2 2]\n",
      " [1 2 2 2 1 1 1 1 1]\n",
      " [2 2 2 1 2 2 2 2 2]\n",
      " [2 2 1 2 1 2 1 1 1]]\n",
      "\n",
      "\n",
      "3 3 4 4 2 4 2 3 5 \n",
      "\n",
      "5 3 5 3 3 3 5 3 3 \n",
      "\n",
      "5 5 3 2 4 4 3 5 3 \n",
      "\n",
      "4 3 4 2 5 3 5 5 5 \n",
      "\n",
      "3 4 4 5 2 2 2 3 2 \n",
      "\n",
      "3 4 5 2 5 4 5 4 3 \n",
      "\n",
      "5 3 3 3 3 5 3 2 4 \n"
     ]
    }
   ],
   "source": [
    "#Latihan(5)\n",
    "#Penjumlahan Matriks\n",
    "matriksA = np.random.randint(1, 4,(7, 9))\n",
    "matriksB = np.random.randint(1, 3,(7, 9))\n",
    "print (matriksA)\n",
    "print () \n",
    "print (matriksB)\n",
    "print ()\n",
    "\n",
    "#penjumlahan matriksA dan matriks B\n",
    "for x in range(0, len(matriksA)):\n",
    "    print ()\n",
    "    for y in range(0, len(matriksA[0])):\n",
    "        print (matriksA[x][y] + matriksB[x][y], end=' '),\n",
    "    print ()"
   ]
  },
  {
   "cell_type": "markdown",
   "metadata": {
    "id": "3s5D4uJKBQrW"
   },
   "source": [
    "# Pengurangan Matriks\n",
    "\n",
    "Pengurangan matriks menggunakan operator dengan tanda kurang (-). Matriks baru akan terbentuk sebagai hasil dari pengurangan setiap kedua elemen matriks. Pengurangan matriks dilakukan pada dua matriks yang memiliki orde yang sama."
   ]
  },
  {
   "cell_type": "code",
   "execution_count": null,
   "metadata": {
    "colab": {
     "base_uri": "https://localhost:8080/"
    },
    "id": "QIQPXkMGBQrW",
    "outputId": "8e37d9c5-ef67-4fd9-d641-d74d4200f5e0"
   },
   "outputs": [
    {
     "name": "stdout",
     "output_type": "stream",
     "text": [
      "4 0 -2 4 "
     ]
    }
   ],
   "source": [
    "#Pengurangan Matriks\n",
    "#Contoh 1\n",
    "mat1 = [\n",
    "    [5, 0],\n",
    "    [2, 6],\n",
    "]\n",
    "\n",
    "mat2 = [\n",
    "    [1, 0],\n",
    "    [4, 2],\n",
    "]\n",
    "\n",
    "\n",
    "for x in range(0, len(mat1)):\n",
    "    for y in range(0, len(mat1[0])):\n",
    "        print (mat1[x][y] - mat2[x][y], end=' '),\n",
    "    print"
   ]
  },
  {
   "cell_type": "code",
   "execution_count": null,
   "metadata": {
    "colab": {
     "base_uri": "https://localhost:8080/"
    },
    "id": "m26nQnOTBQrW",
    "outputId": "a6e26908-7809-4dc8-e820-284ca35788c6"
   },
   "outputs": [
    {
     "name": "stdout",
     "output_type": "stream",
     "text": [
      "4 0 \n",
      "-2 4 \n"
     ]
    }
   ],
   "source": [
    "#Pengurangan Matriks\n",
    "#Contoh 2\n",
    "mat1 = [\n",
    "    [5, 0],\n",
    "    [2, 6],\n",
    "]\n",
    "\n",
    "mat2 = [\n",
    "    [1, 0],\n",
    "    [4, 2],\n",
    "]\n",
    "\n",
    "\n",
    "for x in range(0, len(mat1)):\n",
    "    for y in range(0, len(mat1[0])):\n",
    "        print (mat1[x][y] - mat2[x][y], end=' '),\n",
    "    print ()"
   ]
  },
  {
   "cell_type": "code",
   "execution_count": null,
   "metadata": {
    "colab": {
     "base_uri": "https://localhost:8080/"
    },
    "id": "1IbMtGZ1BQrX",
    "outputId": "da006a30-4ae2-4fb4-ac88-0202698260ff"
   },
   "outputs": [
    {
     "name": "stdout",
     "output_type": "stream",
     "text": [
      "[[3 3 2 2]\n",
      " [2 3 1 2]\n",
      " [1 3 3 1]]\n",
      "\n",
      "[[1 1 2 1]\n",
      " [1 1 1 1]\n",
      " [2 1 2 2]]\n",
      "\n",
      "Hasil Pengurangan matriksA dan matriksB Baris ke- 1\n",
      "\n",
      "2 2 0 1 \n",
      "Hasil Pengurangan matriksA dan matriksB Baris ke- 2\n",
      "\n",
      "1 2 0 1 \n",
      "Hasil Pengurangan matriksA dan matriksB Baris ke- 3\n",
      "\n",
      "-1 2 1 -1 \n"
     ]
    }
   ],
   "source": [
    "#Pengurangan Matriks\n",
    "#Contoh 3\n",
    "import numpy as np\n",
    "matriksA = np.random.randint(1, 4,(3, 4))\n",
    "matriksB = np.random.randint(1, 3,(3, 4))\n",
    "print (matriksA)\n",
    "print () #memberikan spasi baris pada matriks yang tercetak\n",
    "print (matriksB)\n",
    "print ()\n",
    "\n",
    "#pengurangan matriksA dengan matriks B\n",
    "for x in range(0, len(matriksA)):\n",
    "    print ('Hasil Pengurangan matriksA dan matriksB', 'Baris ke-', x+1)\n",
    "    print ()\n",
    "    for y in range(0, len(matriksA[0])):\n",
    "        print (matriksA[x][y] - matriksB[x][y], end=' '),\n",
    "    print ()"
   ]
  },
  {
   "cell_type": "code",
   "execution_count": null,
   "metadata": {
    "colab": {
     "base_uri": "https://localhost:8080/"
    },
    "id": "k48vwvXwBQrX",
    "outputId": "3923ad99-61eb-4410-a991-75ec51a9ad50"
   },
   "outputs": [
    {
     "name": "stdout",
     "output_type": "stream",
     "text": [
      "[[2 3 3 1 1 2 3 2 3 1]\n",
      " [3 3 2 3 3 2 2 1 2 3]\n",
      " [1 3 1 1 3 2 2 1 1 2]\n",
      " [2 1 2 1 1 3 2 2 1 1]\n",
      " [3 3 3 2 3 3 1 3 3 3]\n",
      " [1 3 2 1 2 2 1 1 3 1]]\n",
      "\n",
      "[[1 2 1 1 1 1 2 1 2 1]\n",
      " [1 1 2 2 1 1 2 1 1 2]\n",
      " [2 1 2 2 2 1 1 2 2 1]\n",
      " [2 1 2 1 1 1 2 2 2 2]\n",
      " [2 1 1 2 1 1 2 1 2 1]\n",
      " [2 1 1 2 1 2 2 2 1 1]]\n",
      "\n",
      "\n",
      "1 1 2 0 0 1 1 1 1 0 \n",
      "\n",
      "2 2 0 1 2 1 0 0 1 1 \n",
      "\n",
      "-1 2 -1 -1 1 1 1 -1 -1 1 \n",
      "\n",
      "0 0 0 0 0 2 0 0 -1 -1 \n",
      "\n",
      "1 2 2 0 2 2 -1 2 1 2 \n",
      "\n",
      "-1 2 1 -1 1 0 -1 -1 2 0 \n"
     ]
    }
   ],
   "source": [
    "#Pengurangan Matriks\n",
    "#Contoh 4\n",
    "import numpy as np\n",
    "matriksA = np.random.randint(1, 4,(6, 10))\n",
    "matriksB = np.random.randint(1, 3,(6, 10))\n",
    "print (matriksA)\n",
    "print () #memberikan spasi baris pada matriks yang tercetak\n",
    "print (matriksB)\n",
    "print ()\n",
    "\n",
    "#pengurangan matriksA dengan matriks B\n",
    "for x in range(0, len(matriksA)):\n",
    "    print ()\n",
    "    for y in range(0, len(matriksA[0])):\n",
    "        print (matriksA[x][y] - matriksB[x][y], end=' '),\n",
    "    print ()"
   ]
  },
  {
   "cell_type": "markdown",
   "metadata": {
    "id": "jD60W7TRBQrX"
   },
   "source": [
    "# Latihan (6)\n",
    "\n",
    "Buatlah pengurangan dua matriks dengan menggunakan library Numpy, dengan matriks berukuran 7x9 yang nilainya didapatkan secara random."
   ]
  },
  {
   "cell_type": "code",
   "execution_count": null,
   "metadata": {
    "colab": {
     "base_uri": "https://localhost:8080/"
    },
    "id": "utXaztO6BQrX",
    "outputId": "ea28f556-ec22-4c82-8f48-2f323511ecd9"
   },
   "outputs": [
    {
     "name": "stdout",
     "output_type": "stream",
     "text": [
      "[[2 3 3 2 1 1 2 1 3]\n",
      " [1 3 1 2 1 2 3 1 2]\n",
      " [2 3 2 1 2 2 1 3 2]\n",
      " [2 1 2 2 3 3 1 3 1]\n",
      " [2 1 1 1 2 2 1 2 1]\n",
      " [3 1 3 1 3 1 3 3 2]\n",
      " [3 3 1 3 1 3 3 3 1]]\n",
      "\n",
      "[[1 2 1 1 1 1 2 2 2]\n",
      " [1 1 2 2 2 1 1 2 1]\n",
      " [2 1 2 2 2 2 1 1 2]\n",
      " [1 1 1 2 1 1 1 1 2]\n",
      " [2 2 2 2 1 1 1 1 1]\n",
      " [2 1 1 1 1 1 1 2 2]\n",
      " [1 2 1 1 2 2 2 1 2]]\n",
      "\n",
      "\n",
      "1 1 2 1 0 0 0 -1 1 \n",
      "\n",
      "0 2 -1 0 -1 1 2 -1 1 \n",
      "\n",
      "0 2 0 -1 0 0 0 2 0 \n",
      "\n",
      "1 0 1 0 2 2 0 2 -1 \n",
      "\n",
      "0 -1 -1 -1 1 1 0 1 0 \n",
      "\n",
      "1 0 2 0 2 0 2 1 0 \n",
      "\n",
      "2 1 0 2 -1 1 1 2 -1 \n"
     ]
    }
   ],
   "source": [
    "#Latihan(6)\n",
    "#Pengurangan Matriks\n",
    "matriksA = np.random.randint(1, 4,(7, 9))\n",
    "matriksB = np.random.randint(1, 3,(7, 9))\n",
    "print (matriksA)\n",
    "print () \n",
    "print (matriksB)\n",
    "print ()\n",
    "\n",
    "#penjumlahan matriksA dan matriks B\n",
    "for x in range(0, len(matriksA)):\n",
    "    print ()\n",
    "    for y in range(0, len(matriksA[0])):\n",
    "        print (matriksA[x][y] - matriksB[x][y], end=' '),\n",
    "    print ()"
   ]
  },
  {
   "cell_type": "markdown",
   "metadata": {
    "id": "9FF2x369BQrX"
   },
   "source": [
    "# Penggunaan Library Pandas"
   ]
  },
  {
   "cell_type": "markdown",
   "metadata": {
    "id": "SEMasNJCBQrY"
   },
   "source": [
    "# Latihan (7)\n",
    "\n",
    "Lakukan import Library Pandas"
   ]
  },
  {
   "cell_type": "code",
   "execution_count": null,
   "metadata": {
    "id": "pTINu8OlBQrY"
   },
   "outputs": [],
   "source": [
    "#Latihan(7)\n",
    "#Import Library Pandas\n",
    "\n",
    "import pandas as pd"
   ]
  },
  {
   "cell_type": "markdown",
   "metadata": {
    "id": "L0Xg37gPBQrY"
   },
   "source": [
    "# Latihan (8)\n",
    "\n",
    "Panggil file dengan format .csv yang bernama \"cloth_data\""
   ]
  },
  {
   "cell_type": "code",
   "execution_count": null,
   "metadata": {
    "id": "0WdD61PHBQrY"
   },
   "outputs": [],
   "source": [
    "#latihan(8)\n",
    "#Panggil file bernama cloth_data.csv\n",
    "\n",
    "df = pd.read_csv(\"cloth_data.csv\")"
   ]
  },
  {
   "cell_type": "markdown",
   "metadata": {
    "id": "9Aaa9VTCBQrY"
   },
   "source": [
    "# Latihan (9)\n",
    "\n",
    "Tampilkan data dari \"cloth_data\" "
   ]
  },
  {
   "cell_type": "code",
   "execution_count": null,
   "metadata": {
    "colab": {
     "base_uri": "https://localhost:8080/",
     "height": 1000
    },
    "id": "bXhOSpFBBQrZ",
    "outputId": "a67c6a8a-c0b3-4de9-9065-3921676575ba"
   },
   "outputs": [
    {
     "data": {
      "text/html": [
       "<div>\n",
       "<style scoped>\n",
       "    .dataframe tbody tr th:only-of-type {\n",
       "        vertical-align: middle;\n",
       "    }\n",
       "\n",
       "    .dataframe tbody tr th {\n",
       "        vertical-align: top;\n",
       "    }\n",
       "\n",
       "    .dataframe thead th {\n",
       "        text-align: right;\n",
       "    }\n",
       "</style>\n",
       "<table border=\"1\" class=\"dataframe\">\n",
       "  <thead>\n",
       "    <tr style=\"text-align: right;\">\n",
       "      <th></th>\n",
       "      <th>weight</th>\n",
       "      <th>age</th>\n",
       "      <th>height</th>\n",
       "      <th>size</th>\n",
       "    </tr>\n",
       "  </thead>\n",
       "  <tbody>\n",
       "    <tr>\n",
       "      <th>0</th>\n",
       "      <td>62</td>\n",
       "      <td>28.0</td>\n",
       "      <td>172.72</td>\n",
       "      <td>XL</td>\n",
       "    </tr>\n",
       "    <tr>\n",
       "      <th>1</th>\n",
       "      <td>59</td>\n",
       "      <td>36.0</td>\n",
       "      <td>167.64</td>\n",
       "      <td>L</td>\n",
       "    </tr>\n",
       "    <tr>\n",
       "      <th>2</th>\n",
       "      <td>61</td>\n",
       "      <td>34.0</td>\n",
       "      <td>165.10</td>\n",
       "      <td>M</td>\n",
       "    </tr>\n",
       "    <tr>\n",
       "      <th>3</th>\n",
       "      <td>65</td>\n",
       "      <td>27.0</td>\n",
       "      <td>175.26</td>\n",
       "      <td>L</td>\n",
       "    </tr>\n",
       "    <tr>\n",
       "      <th>4</th>\n",
       "      <td>62</td>\n",
       "      <td>45.0</td>\n",
       "      <td>172.72</td>\n",
       "      <td>M</td>\n",
       "    </tr>\n",
       "    <tr>\n",
       "      <th>5</th>\n",
       "      <td>50</td>\n",
       "      <td>27.0</td>\n",
       "      <td>160.02</td>\n",
       "      <td>S</td>\n",
       "    </tr>\n",
       "    <tr>\n",
       "      <th>6</th>\n",
       "      <td>53</td>\n",
       "      <td>65.0</td>\n",
       "      <td>160.02</td>\n",
       "      <td>M</td>\n",
       "    </tr>\n",
       "    <tr>\n",
       "      <th>7</th>\n",
       "      <td>51</td>\n",
       "      <td>33.0</td>\n",
       "      <td>160.02</td>\n",
       "      <td>XXS</td>\n",
       "    </tr>\n",
       "    <tr>\n",
       "      <th>8</th>\n",
       "      <td>54</td>\n",
       "      <td>26.0</td>\n",
       "      <td>167.64</td>\n",
       "      <td>M</td>\n",
       "    </tr>\n",
       "    <tr>\n",
       "      <th>9</th>\n",
       "      <td>53</td>\n",
       "      <td>32.0</td>\n",
       "      <td>165.10</td>\n",
       "      <td>S</td>\n",
       "    </tr>\n",
       "    <tr>\n",
       "      <th>10</th>\n",
       "      <td>63</td>\n",
       "      <td>30.0</td>\n",
       "      <td>170.18</td>\n",
       "      <td>XXXL</td>\n",
       "    </tr>\n",
       "    <tr>\n",
       "      <th>11</th>\n",
       "      <td>77</td>\n",
       "      <td>35.0</td>\n",
       "      <td>172.72</td>\n",
       "      <td>XXXL</td>\n",
       "    </tr>\n",
       "    <tr>\n",
       "      <th>12</th>\n",
       "      <td>64</td>\n",
       "      <td>26.0</td>\n",
       "      <td>165.10</td>\n",
       "      <td>L</td>\n",
       "    </tr>\n",
       "    <tr>\n",
       "      <th>13</th>\n",
       "      <td>52</td>\n",
       "      <td>28.0</td>\n",
       "      <td>160.02</td>\n",
       "      <td>M</td>\n",
       "    </tr>\n",
       "    <tr>\n",
       "      <th>14</th>\n",
       "      <td>65</td>\n",
       "      <td>33.0</td>\n",
       "      <td>165.10</td>\n",
       "      <td>L</td>\n",
       "    </tr>\n",
       "    <tr>\n",
       "      <th>15</th>\n",
       "      <td>63</td>\n",
       "      <td>30.0</td>\n",
       "      <td>167.64</td>\n",
       "      <td>L</td>\n",
       "    </tr>\n",
       "    <tr>\n",
       "      <th>16</th>\n",
       "      <td>54</td>\n",
       "      <td>21.0</td>\n",
       "      <td>167.64</td>\n",
       "      <td>XXS</td>\n",
       "    </tr>\n",
       "    <tr>\n",
       "      <th>17</th>\n",
       "      <td>63</td>\n",
       "      <td>27.0</td>\n",
       "      <td>172.72</td>\n",
       "      <td>M</td>\n",
       "    </tr>\n",
       "    <tr>\n",
       "      <th>18</th>\n",
       "      <td>63</td>\n",
       "      <td>30.0</td>\n",
       "      <td>167.64</td>\n",
       "      <td>M</td>\n",
       "    </tr>\n",
       "    <tr>\n",
       "      <th>19</th>\n",
       "      <td>54</td>\n",
       "      <td>20.0</td>\n",
       "      <td>167.64</td>\n",
       "      <td>S</td>\n",
       "    </tr>\n",
       "    <tr>\n",
       "      <th>20</th>\n",
       "      <td>55</td>\n",
       "      <td>32.0</td>\n",
       "      <td>154.94</td>\n",
       "      <td>S</td>\n",
       "    </tr>\n",
       "    <tr>\n",
       "      <th>21</th>\n",
       "      <td>55</td>\n",
       "      <td>37.0</td>\n",
       "      <td>160.02</td>\n",
       "      <td>M</td>\n",
       "    </tr>\n",
       "    <tr>\n",
       "      <th>22</th>\n",
       "      <td>55</td>\n",
       "      <td>50.0</td>\n",
       "      <td>165.10</td>\n",
       "      <td>S</td>\n",
       "    </tr>\n",
       "    <tr>\n",
       "      <th>23</th>\n",
       "      <td>50</td>\n",
       "      <td>43.0</td>\n",
       "      <td>160.02</td>\n",
       "      <td>M</td>\n",
       "    </tr>\n",
       "    <tr>\n",
       "      <th>24</th>\n",
       "      <td>74</td>\n",
       "      <td>29.0</td>\n",
       "      <td>177.80</td>\n",
       "      <td>XL</td>\n",
       "    </tr>\n",
       "    <tr>\n",
       "      <th>25</th>\n",
       "      <td>64</td>\n",
       "      <td>32.0</td>\n",
       "      <td>160.02</td>\n",
       "      <td>XL</td>\n",
       "    </tr>\n",
       "    <tr>\n",
       "      <th>26</th>\n",
       "      <td>58</td>\n",
       "      <td>29.0</td>\n",
       "      <td>167.64</td>\n",
       "      <td>XXS</td>\n",
       "    </tr>\n",
       "    <tr>\n",
       "      <th>27</th>\n",
       "      <td>54</td>\n",
       "      <td>47.0</td>\n",
       "      <td>165.10</td>\n",
       "      <td>M</td>\n",
       "    </tr>\n",
       "    <tr>\n",
       "      <th>28</th>\n",
       "      <td>58</td>\n",
       "      <td>31.0</td>\n",
       "      <td>154.94</td>\n",
       "      <td>XL</td>\n",
       "    </tr>\n",
       "    <tr>\n",
       "      <th>29</th>\n",
       "      <td>65</td>\n",
       "      <td>27.0</td>\n",
       "      <td>172.72</td>\n",
       "      <td>L</td>\n",
       "    </tr>\n",
       "    <tr>\n",
       "      <th>30</th>\n",
       "      <td>47</td>\n",
       "      <td>43.0</td>\n",
       "      <td>157.48</td>\n",
       "      <td>S</td>\n",
       "    </tr>\n",
       "    <tr>\n",
       "      <th>31</th>\n",
       "      <td>61</td>\n",
       "      <td>27.0</td>\n",
       "      <td>165.10</td>\n",
       "      <td>M</td>\n",
       "    </tr>\n",
       "    <tr>\n",
       "      <th>32</th>\n",
       "      <td>58</td>\n",
       "      <td>29.0</td>\n",
       "      <td>172.72</td>\n",
       "      <td>M</td>\n",
       "    </tr>\n",
       "    <tr>\n",
       "      <th>33</th>\n",
       "      <td>86</td>\n",
       "      <td>48.0</td>\n",
       "      <td>172.72</td>\n",
       "      <td>XXXL</td>\n",
       "    </tr>\n",
       "    <tr>\n",
       "      <th>34</th>\n",
       "      <td>68</td>\n",
       "      <td>36.0</td>\n",
       "      <td>162.56</td>\n",
       "      <td>XL</td>\n",
       "    </tr>\n",
       "    <tr>\n",
       "      <th>35</th>\n",
       "      <td>65</td>\n",
       "      <td>27.0</td>\n",
       "      <td>170.18</td>\n",
       "      <td>L</td>\n",
       "    </tr>\n",
       "    <tr>\n",
       "      <th>36</th>\n",
       "      <td>65</td>\n",
       "      <td>34.0</td>\n",
       "      <td>170.18</td>\n",
       "      <td>L</td>\n",
       "    </tr>\n",
       "    <tr>\n",
       "      <th>37</th>\n",
       "      <td>54</td>\n",
       "      <td>40.0</td>\n",
       "      <td>157.48</td>\n",
       "      <td>M</td>\n",
       "    </tr>\n",
       "    <tr>\n",
       "      <th>38</th>\n",
       "      <td>52</td>\n",
       "      <td>45.0</td>\n",
       "      <td>154.94</td>\n",
       "      <td>M</td>\n",
       "    </tr>\n",
       "    <tr>\n",
       "      <th>39</th>\n",
       "      <td>52</td>\n",
       "      <td>30.0</td>\n",
       "      <td>170.18</td>\n",
       "      <td>S</td>\n",
       "    </tr>\n",
       "    <tr>\n",
       "      <th>40</th>\n",
       "      <td>58</td>\n",
       "      <td>52.0</td>\n",
       "      <td>162.56</td>\n",
       "      <td>XXXL</td>\n",
       "    </tr>\n",
       "    <tr>\n",
       "      <th>41</th>\n",
       "      <td>78</td>\n",
       "      <td>37.0</td>\n",
       "      <td>175.26</td>\n",
       "      <td>XXXL</td>\n",
       "    </tr>\n",
       "    <tr>\n",
       "      <th>42</th>\n",
       "      <td>61</td>\n",
       "      <td>34.0</td>\n",
       "      <td>172.72</td>\n",
       "      <td>L</td>\n",
       "    </tr>\n",
       "    <tr>\n",
       "      <th>43</th>\n",
       "      <td>49</td>\n",
       "      <td>24.0</td>\n",
       "      <td>167.64</td>\n",
       "      <td>S</td>\n",
       "    </tr>\n",
       "    <tr>\n",
       "      <th>44</th>\n",
       "      <td>61</td>\n",
       "      <td>28.0</td>\n",
       "      <td>162.56</td>\n",
       "      <td>M</td>\n",
       "    </tr>\n",
       "    <tr>\n",
       "      <th>45</th>\n",
       "      <td>64</td>\n",
       "      <td>34.0</td>\n",
       "      <td>162.56</td>\n",
       "      <td>XXXL</td>\n",
       "    </tr>\n",
       "    <tr>\n",
       "      <th>46</th>\n",
       "      <td>63</td>\n",
       "      <td>25.0</td>\n",
       "      <td>167.64</td>\n",
       "      <td>S</td>\n",
       "    </tr>\n",
       "    <tr>\n",
       "      <th>47</th>\n",
       "      <td>56</td>\n",
       "      <td>32.0</td>\n",
       "      <td>157.48</td>\n",
       "      <td>M</td>\n",
       "    </tr>\n",
       "    <tr>\n",
       "      <th>48</th>\n",
       "      <td>50</td>\n",
       "      <td>27.0</td>\n",
       "      <td>170.18</td>\n",
       "      <td>S</td>\n",
       "    </tr>\n",
       "    <tr>\n",
       "      <th>49</th>\n",
       "      <td>77</td>\n",
       "      <td>29.0</td>\n",
       "      <td>172.72</td>\n",
       "      <td>XXXL</td>\n",
       "    </tr>\n",
       "  </tbody>\n",
       "</table>\n",
       "</div>"
      ],
      "text/plain": [
       "    weight   age  height  size\n",
       "0       62  28.0  172.72    XL\n",
       "1       59  36.0  167.64     L\n",
       "2       61  34.0  165.10     M\n",
       "3       65  27.0  175.26     L\n",
       "4       62  45.0  172.72     M\n",
       "5       50  27.0  160.02     S\n",
       "6       53  65.0  160.02     M\n",
       "7       51  33.0  160.02   XXS\n",
       "8       54  26.0  167.64     M\n",
       "9       53  32.0  165.10     S\n",
       "10      63  30.0  170.18  XXXL\n",
       "11      77  35.0  172.72  XXXL\n",
       "12      64  26.0  165.10     L\n",
       "13      52  28.0  160.02     M\n",
       "14      65  33.0  165.10     L\n",
       "15      63  30.0  167.64     L\n",
       "16      54  21.0  167.64   XXS\n",
       "17      63  27.0  172.72     M\n",
       "18      63  30.0  167.64     M\n",
       "19      54  20.0  167.64     S\n",
       "20      55  32.0  154.94     S\n",
       "21      55  37.0  160.02     M\n",
       "22      55  50.0  165.10     S\n",
       "23      50  43.0  160.02     M\n",
       "24      74  29.0  177.80    XL\n",
       "25      64  32.0  160.02    XL\n",
       "26      58  29.0  167.64   XXS\n",
       "27      54  47.0  165.10     M\n",
       "28      58  31.0  154.94    XL\n",
       "29      65  27.0  172.72     L\n",
       "30      47  43.0  157.48     S\n",
       "31      61  27.0  165.10     M\n",
       "32      58  29.0  172.72     M\n",
       "33      86  48.0  172.72  XXXL\n",
       "34      68  36.0  162.56    XL\n",
       "35      65  27.0  170.18     L\n",
       "36      65  34.0  170.18     L\n",
       "37      54  40.0  157.48     M\n",
       "38      52  45.0  154.94     M\n",
       "39      52  30.0  170.18     S\n",
       "40      58  52.0  162.56  XXXL\n",
       "41      78  37.0  175.26  XXXL\n",
       "42      61  34.0  172.72     L\n",
       "43      49  24.0  167.64     S\n",
       "44      61  28.0  162.56     M\n",
       "45      64  34.0  162.56  XXXL\n",
       "46      63  25.0  167.64     S\n",
       "47      56  32.0  157.48     M\n",
       "48      50  27.0  170.18     S\n",
       "49      77  29.0  172.72  XXXL"
      ]
     },
     "execution_count": 21,
     "metadata": {},
     "output_type": "execute_result"
    }
   ],
   "source": [
    "#latihan(9)\n",
    "#Tampilkan data dari dataset cloth_data \n",
    "\n",
    "df"
   ]
  },
  {
   "cell_type": "markdown",
   "metadata": {
    "id": "ZNqwZOF4BQrZ"
   },
   "source": [
    "# Latihan (10)\n",
    "\n",
    "Tampilkan data dari \"cloth_data\" mulai dari indeks 0 (nol) sampai dengan indeks 10 (sepuluh)"
   ]
  },
  {
   "cell_type": "code",
   "execution_count": null,
   "metadata": {
    "colab": {
     "base_uri": "https://localhost:8080/",
     "height": 388
    },
    "id": "NqNErdxEBQrZ",
    "outputId": "842b9224-1497-430c-b055-0771ec077383"
   },
   "outputs": [
    {
     "data": {
      "text/html": [
       "<div>\n",
       "<style scoped>\n",
       "    .dataframe tbody tr th:only-of-type {\n",
       "        vertical-align: middle;\n",
       "    }\n",
       "\n",
       "    .dataframe tbody tr th {\n",
       "        vertical-align: top;\n",
       "    }\n",
       "\n",
       "    .dataframe thead th {\n",
       "        text-align: right;\n",
       "    }\n",
       "</style>\n",
       "<table border=\"1\" class=\"dataframe\">\n",
       "  <thead>\n",
       "    <tr style=\"text-align: right;\">\n",
       "      <th></th>\n",
       "      <th>weight</th>\n",
       "      <th>age</th>\n",
       "      <th>height</th>\n",
       "      <th>size</th>\n",
       "    </tr>\n",
       "  </thead>\n",
       "  <tbody>\n",
       "    <tr>\n",
       "      <th>0</th>\n",
       "      <td>62</td>\n",
       "      <td>28.0</td>\n",
       "      <td>172.72</td>\n",
       "      <td>XL</td>\n",
       "    </tr>\n",
       "    <tr>\n",
       "      <th>1</th>\n",
       "      <td>59</td>\n",
       "      <td>36.0</td>\n",
       "      <td>167.64</td>\n",
       "      <td>L</td>\n",
       "    </tr>\n",
       "    <tr>\n",
       "      <th>2</th>\n",
       "      <td>61</td>\n",
       "      <td>34.0</td>\n",
       "      <td>165.10</td>\n",
       "      <td>M</td>\n",
       "    </tr>\n",
       "    <tr>\n",
       "      <th>3</th>\n",
       "      <td>65</td>\n",
       "      <td>27.0</td>\n",
       "      <td>175.26</td>\n",
       "      <td>L</td>\n",
       "    </tr>\n",
       "    <tr>\n",
       "      <th>4</th>\n",
       "      <td>62</td>\n",
       "      <td>45.0</td>\n",
       "      <td>172.72</td>\n",
       "      <td>M</td>\n",
       "    </tr>\n",
       "    <tr>\n",
       "      <th>5</th>\n",
       "      <td>50</td>\n",
       "      <td>27.0</td>\n",
       "      <td>160.02</td>\n",
       "      <td>S</td>\n",
       "    </tr>\n",
       "    <tr>\n",
       "      <th>6</th>\n",
       "      <td>53</td>\n",
       "      <td>65.0</td>\n",
       "      <td>160.02</td>\n",
       "      <td>M</td>\n",
       "    </tr>\n",
       "    <tr>\n",
       "      <th>7</th>\n",
       "      <td>51</td>\n",
       "      <td>33.0</td>\n",
       "      <td>160.02</td>\n",
       "      <td>XXS</td>\n",
       "    </tr>\n",
       "    <tr>\n",
       "      <th>8</th>\n",
       "      <td>54</td>\n",
       "      <td>26.0</td>\n",
       "      <td>167.64</td>\n",
       "      <td>M</td>\n",
       "    </tr>\n",
       "    <tr>\n",
       "      <th>9</th>\n",
       "      <td>53</td>\n",
       "      <td>32.0</td>\n",
       "      <td>165.10</td>\n",
       "      <td>S</td>\n",
       "    </tr>\n",
       "    <tr>\n",
       "      <th>10</th>\n",
       "      <td>63</td>\n",
       "      <td>30.0</td>\n",
       "      <td>170.18</td>\n",
       "      <td>XXXL</td>\n",
       "    </tr>\n",
       "  </tbody>\n",
       "</table>\n",
       "</div>"
      ],
      "text/plain": [
       "    weight   age  height  size\n",
       "0       62  28.0  172.72    XL\n",
       "1       59  36.0  167.64     L\n",
       "2       61  34.0  165.10     M\n",
       "3       65  27.0  175.26     L\n",
       "4       62  45.0  172.72     M\n",
       "5       50  27.0  160.02     S\n",
       "6       53  65.0  160.02     M\n",
       "7       51  33.0  160.02   XXS\n",
       "8       54  26.0  167.64     M\n",
       "9       53  32.0  165.10     S\n",
       "10      63  30.0  170.18  XXXL"
      ]
     },
     "execution_count": 22,
     "metadata": {},
     "output_type": "execute_result"
    }
   ],
   "source": [
    "#Latihan(10)\n",
    "#Tampilkan data dari \"cloth_data\" mulai dari indeks 0 (nol) sampai dengan indeks 10 (sepuluh)\n",
    "\n",
    "df.iloc[0:11]\n"
   ]
  },
  {
   "cell_type": "markdown",
   "metadata": {
    "id": "mZ5PLXHxBQrZ"
   },
   "source": [
    "# Latihan (11)\n",
    "\n",
    "Tampilkan data dari \"cloth_data\" untuk kolom age dan size"
   ]
  },
  {
   "cell_type": "code",
   "execution_count": null,
   "metadata": {
    "colab": {
     "base_uri": "https://localhost:8080/",
     "height": 1000
    },
    "id": "Tn8raSgjBQrZ",
    "outputId": "eb5f970e-5024-4c0d-beb0-82b3a47ba7e1"
   },
   "outputs": [
    {
     "data": {
      "text/html": [
       "<div>\n",
       "<style scoped>\n",
       "    .dataframe tbody tr th:only-of-type {\n",
       "        vertical-align: middle;\n",
       "    }\n",
       "\n",
       "    .dataframe tbody tr th {\n",
       "        vertical-align: top;\n",
       "    }\n",
       "\n",
       "    .dataframe thead th {\n",
       "        text-align: right;\n",
       "    }\n",
       "</style>\n",
       "<table border=\"1\" class=\"dataframe\">\n",
       "  <thead>\n",
       "    <tr style=\"text-align: right;\">\n",
       "      <th></th>\n",
       "      <th>age</th>\n",
       "      <th>size</th>\n",
       "    </tr>\n",
       "  </thead>\n",
       "  <tbody>\n",
       "    <tr>\n",
       "      <th>0</th>\n",
       "      <td>28.0</td>\n",
       "      <td>XL</td>\n",
       "    </tr>\n",
       "    <tr>\n",
       "      <th>1</th>\n",
       "      <td>36.0</td>\n",
       "      <td>L</td>\n",
       "    </tr>\n",
       "    <tr>\n",
       "      <th>2</th>\n",
       "      <td>34.0</td>\n",
       "      <td>M</td>\n",
       "    </tr>\n",
       "    <tr>\n",
       "      <th>3</th>\n",
       "      <td>27.0</td>\n",
       "      <td>L</td>\n",
       "    </tr>\n",
       "    <tr>\n",
       "      <th>4</th>\n",
       "      <td>45.0</td>\n",
       "      <td>M</td>\n",
       "    </tr>\n",
       "    <tr>\n",
       "      <th>5</th>\n",
       "      <td>27.0</td>\n",
       "      <td>S</td>\n",
       "    </tr>\n",
       "    <tr>\n",
       "      <th>6</th>\n",
       "      <td>65.0</td>\n",
       "      <td>M</td>\n",
       "    </tr>\n",
       "    <tr>\n",
       "      <th>7</th>\n",
       "      <td>33.0</td>\n",
       "      <td>XXS</td>\n",
       "    </tr>\n",
       "    <tr>\n",
       "      <th>8</th>\n",
       "      <td>26.0</td>\n",
       "      <td>M</td>\n",
       "    </tr>\n",
       "    <tr>\n",
       "      <th>9</th>\n",
       "      <td>32.0</td>\n",
       "      <td>S</td>\n",
       "    </tr>\n",
       "    <tr>\n",
       "      <th>10</th>\n",
       "      <td>30.0</td>\n",
       "      <td>XXXL</td>\n",
       "    </tr>\n",
       "    <tr>\n",
       "      <th>11</th>\n",
       "      <td>35.0</td>\n",
       "      <td>XXXL</td>\n",
       "    </tr>\n",
       "    <tr>\n",
       "      <th>12</th>\n",
       "      <td>26.0</td>\n",
       "      <td>L</td>\n",
       "    </tr>\n",
       "    <tr>\n",
       "      <th>13</th>\n",
       "      <td>28.0</td>\n",
       "      <td>M</td>\n",
       "    </tr>\n",
       "    <tr>\n",
       "      <th>14</th>\n",
       "      <td>33.0</td>\n",
       "      <td>L</td>\n",
       "    </tr>\n",
       "    <tr>\n",
       "      <th>15</th>\n",
       "      <td>30.0</td>\n",
       "      <td>L</td>\n",
       "    </tr>\n",
       "    <tr>\n",
       "      <th>16</th>\n",
       "      <td>21.0</td>\n",
       "      <td>XXS</td>\n",
       "    </tr>\n",
       "    <tr>\n",
       "      <th>17</th>\n",
       "      <td>27.0</td>\n",
       "      <td>M</td>\n",
       "    </tr>\n",
       "    <tr>\n",
       "      <th>18</th>\n",
       "      <td>30.0</td>\n",
       "      <td>M</td>\n",
       "    </tr>\n",
       "    <tr>\n",
       "      <th>19</th>\n",
       "      <td>20.0</td>\n",
       "      <td>S</td>\n",
       "    </tr>\n",
       "    <tr>\n",
       "      <th>20</th>\n",
       "      <td>32.0</td>\n",
       "      <td>S</td>\n",
       "    </tr>\n",
       "    <tr>\n",
       "      <th>21</th>\n",
       "      <td>37.0</td>\n",
       "      <td>M</td>\n",
       "    </tr>\n",
       "    <tr>\n",
       "      <th>22</th>\n",
       "      <td>50.0</td>\n",
       "      <td>S</td>\n",
       "    </tr>\n",
       "    <tr>\n",
       "      <th>23</th>\n",
       "      <td>43.0</td>\n",
       "      <td>M</td>\n",
       "    </tr>\n",
       "    <tr>\n",
       "      <th>24</th>\n",
       "      <td>29.0</td>\n",
       "      <td>XL</td>\n",
       "    </tr>\n",
       "    <tr>\n",
       "      <th>25</th>\n",
       "      <td>32.0</td>\n",
       "      <td>XL</td>\n",
       "    </tr>\n",
       "    <tr>\n",
       "      <th>26</th>\n",
       "      <td>29.0</td>\n",
       "      <td>XXS</td>\n",
       "    </tr>\n",
       "    <tr>\n",
       "      <th>27</th>\n",
       "      <td>47.0</td>\n",
       "      <td>M</td>\n",
       "    </tr>\n",
       "    <tr>\n",
       "      <th>28</th>\n",
       "      <td>31.0</td>\n",
       "      <td>XL</td>\n",
       "    </tr>\n",
       "    <tr>\n",
       "      <th>29</th>\n",
       "      <td>27.0</td>\n",
       "      <td>L</td>\n",
       "    </tr>\n",
       "    <tr>\n",
       "      <th>30</th>\n",
       "      <td>43.0</td>\n",
       "      <td>S</td>\n",
       "    </tr>\n",
       "    <tr>\n",
       "      <th>31</th>\n",
       "      <td>27.0</td>\n",
       "      <td>M</td>\n",
       "    </tr>\n",
       "    <tr>\n",
       "      <th>32</th>\n",
       "      <td>29.0</td>\n",
       "      <td>M</td>\n",
       "    </tr>\n",
       "    <tr>\n",
       "      <th>33</th>\n",
       "      <td>48.0</td>\n",
       "      <td>XXXL</td>\n",
       "    </tr>\n",
       "    <tr>\n",
       "      <th>34</th>\n",
       "      <td>36.0</td>\n",
       "      <td>XL</td>\n",
       "    </tr>\n",
       "    <tr>\n",
       "      <th>35</th>\n",
       "      <td>27.0</td>\n",
       "      <td>L</td>\n",
       "    </tr>\n",
       "    <tr>\n",
       "      <th>36</th>\n",
       "      <td>34.0</td>\n",
       "      <td>L</td>\n",
       "    </tr>\n",
       "    <tr>\n",
       "      <th>37</th>\n",
       "      <td>40.0</td>\n",
       "      <td>M</td>\n",
       "    </tr>\n",
       "    <tr>\n",
       "      <th>38</th>\n",
       "      <td>45.0</td>\n",
       "      <td>M</td>\n",
       "    </tr>\n",
       "    <tr>\n",
       "      <th>39</th>\n",
       "      <td>30.0</td>\n",
       "      <td>S</td>\n",
       "    </tr>\n",
       "    <tr>\n",
       "      <th>40</th>\n",
       "      <td>52.0</td>\n",
       "      <td>XXXL</td>\n",
       "    </tr>\n",
       "    <tr>\n",
       "      <th>41</th>\n",
       "      <td>37.0</td>\n",
       "      <td>XXXL</td>\n",
       "    </tr>\n",
       "    <tr>\n",
       "      <th>42</th>\n",
       "      <td>34.0</td>\n",
       "      <td>L</td>\n",
       "    </tr>\n",
       "    <tr>\n",
       "      <th>43</th>\n",
       "      <td>24.0</td>\n",
       "      <td>S</td>\n",
       "    </tr>\n",
       "    <tr>\n",
       "      <th>44</th>\n",
       "      <td>28.0</td>\n",
       "      <td>M</td>\n",
       "    </tr>\n",
       "    <tr>\n",
       "      <th>45</th>\n",
       "      <td>34.0</td>\n",
       "      <td>XXXL</td>\n",
       "    </tr>\n",
       "    <tr>\n",
       "      <th>46</th>\n",
       "      <td>25.0</td>\n",
       "      <td>S</td>\n",
       "    </tr>\n",
       "    <tr>\n",
       "      <th>47</th>\n",
       "      <td>32.0</td>\n",
       "      <td>M</td>\n",
       "    </tr>\n",
       "    <tr>\n",
       "      <th>48</th>\n",
       "      <td>27.0</td>\n",
       "      <td>S</td>\n",
       "    </tr>\n",
       "    <tr>\n",
       "      <th>49</th>\n",
       "      <td>29.0</td>\n",
       "      <td>XXXL</td>\n",
       "    </tr>\n",
       "  </tbody>\n",
       "</table>\n",
       "</div>"
      ],
      "text/plain": [
       "     age  size\n",
       "0   28.0    XL\n",
       "1   36.0     L\n",
       "2   34.0     M\n",
       "3   27.0     L\n",
       "4   45.0     M\n",
       "5   27.0     S\n",
       "6   65.0     M\n",
       "7   33.0   XXS\n",
       "8   26.0     M\n",
       "9   32.0     S\n",
       "10  30.0  XXXL\n",
       "11  35.0  XXXL\n",
       "12  26.0     L\n",
       "13  28.0     M\n",
       "14  33.0     L\n",
       "15  30.0     L\n",
       "16  21.0   XXS\n",
       "17  27.0     M\n",
       "18  30.0     M\n",
       "19  20.0     S\n",
       "20  32.0     S\n",
       "21  37.0     M\n",
       "22  50.0     S\n",
       "23  43.0     M\n",
       "24  29.0    XL\n",
       "25  32.0    XL\n",
       "26  29.0   XXS\n",
       "27  47.0     M\n",
       "28  31.0    XL\n",
       "29  27.0     L\n",
       "30  43.0     S\n",
       "31  27.0     M\n",
       "32  29.0     M\n",
       "33  48.0  XXXL\n",
       "34  36.0    XL\n",
       "35  27.0     L\n",
       "36  34.0     L\n",
       "37  40.0     M\n",
       "38  45.0     M\n",
       "39  30.0     S\n",
       "40  52.0  XXXL\n",
       "41  37.0  XXXL\n",
       "42  34.0     L\n",
       "43  24.0     S\n",
       "44  28.0     M\n",
       "45  34.0  XXXL\n",
       "46  25.0     S\n",
       "47  32.0     M\n",
       "48  27.0     S\n",
       "49  29.0  XXXL"
      ]
     },
     "execution_count": 23,
     "metadata": {},
     "output_type": "execute_result"
    }
   ],
   "source": [
    "#Latihan(11)\n",
    "#Tampilkan data dari \"cloth_data\" untuk kolom age dan size\n",
    "\n",
    "df.loc[:,[\"age\",\"size\"]]"
   ]
  },
  {
   "cell_type": "markdown",
   "metadata": {
    "id": "RjcEC0SRBQrZ"
   },
   "source": [
    "# Latihan (12)\n",
    "\n",
    "Tampilkan data dari \"cloth_data\" untuk kolom age dan size, mulai dari indeks 0 (nol) sampai dengan indeks 10 (sepuluh)"
   ]
  },
  {
   "cell_type": "code",
   "execution_count": null,
   "metadata": {
    "colab": {
     "base_uri": "https://localhost:8080/",
     "height": 388
    },
    "id": "P09gObm5BQra",
    "outputId": "e671bad5-db1b-4ef6-e25b-2a746f74f5b8"
   },
   "outputs": [
    {
     "data": {
      "text/html": [
       "<div>\n",
       "<style scoped>\n",
       "    .dataframe tbody tr th:only-of-type {\n",
       "        vertical-align: middle;\n",
       "    }\n",
       "\n",
       "    .dataframe tbody tr th {\n",
       "        vertical-align: top;\n",
       "    }\n",
       "\n",
       "    .dataframe thead th {\n",
       "        text-align: right;\n",
       "    }\n",
       "</style>\n",
       "<table border=\"1\" class=\"dataframe\">\n",
       "  <thead>\n",
       "    <tr style=\"text-align: right;\">\n",
       "      <th></th>\n",
       "      <th>age</th>\n",
       "      <th>size</th>\n",
       "    </tr>\n",
       "  </thead>\n",
       "  <tbody>\n",
       "    <tr>\n",
       "      <th>0</th>\n",
       "      <td>28.0</td>\n",
       "      <td>XL</td>\n",
       "    </tr>\n",
       "    <tr>\n",
       "      <th>1</th>\n",
       "      <td>36.0</td>\n",
       "      <td>L</td>\n",
       "    </tr>\n",
       "    <tr>\n",
       "      <th>2</th>\n",
       "      <td>34.0</td>\n",
       "      <td>M</td>\n",
       "    </tr>\n",
       "    <tr>\n",
       "      <th>3</th>\n",
       "      <td>27.0</td>\n",
       "      <td>L</td>\n",
       "    </tr>\n",
       "    <tr>\n",
       "      <th>4</th>\n",
       "      <td>45.0</td>\n",
       "      <td>M</td>\n",
       "    </tr>\n",
       "    <tr>\n",
       "      <th>5</th>\n",
       "      <td>27.0</td>\n",
       "      <td>S</td>\n",
       "    </tr>\n",
       "    <tr>\n",
       "      <th>6</th>\n",
       "      <td>65.0</td>\n",
       "      <td>M</td>\n",
       "    </tr>\n",
       "    <tr>\n",
       "      <th>7</th>\n",
       "      <td>33.0</td>\n",
       "      <td>XXS</td>\n",
       "    </tr>\n",
       "    <tr>\n",
       "      <th>8</th>\n",
       "      <td>26.0</td>\n",
       "      <td>M</td>\n",
       "    </tr>\n",
       "    <tr>\n",
       "      <th>9</th>\n",
       "      <td>32.0</td>\n",
       "      <td>S</td>\n",
       "    </tr>\n",
       "    <tr>\n",
       "      <th>10</th>\n",
       "      <td>30.0</td>\n",
       "      <td>XXXL</td>\n",
       "    </tr>\n",
       "  </tbody>\n",
       "</table>\n",
       "</div>"
      ],
      "text/plain": [
       "     age  size\n",
       "0   28.0    XL\n",
       "1   36.0     L\n",
       "2   34.0     M\n",
       "3   27.0     L\n",
       "4   45.0     M\n",
       "5   27.0     S\n",
       "6   65.0     M\n",
       "7   33.0   XXS\n",
       "8   26.0     M\n",
       "9   32.0     S\n",
       "10  30.0  XXXL"
      ]
     },
     "execution_count": 24,
     "metadata": {},
     "output_type": "execute_result"
    }
   ],
   "source": [
    "#Latihan(12)\n",
    "#Tampilkan data dari \"cloth_data\" untuk kolom age dan size, mulai dari indeks 0 (nol) sampai dengan indeks 10 (sepuluh)\n",
    "\n",
    "df.iloc[0:11, [1,3]]"
   ]
  },
  {
   "cell_type": "markdown",
   "metadata": {
    "id": "XFSIwJAmBQra"
   },
   "source": [
    "# Penggunaan Library Matplotlib"
   ]
  },
  {
   "cell_type": "markdown",
   "metadata": {
    "id": "m0B6sq-3BQra"
   },
   "source": [
    "# Latihan (13)\n",
    "\n",
    "Lakukan import Library Matplotlib"
   ]
  },
  {
   "cell_type": "code",
   "execution_count": null,
   "metadata": {
    "id": "wZGXVfZtBQra"
   },
   "outputs": [],
   "source": [
    "#Latihan(13)\n",
    "#Import Library Matplotlib\n",
    "\n",
    "import matplotlib.pyplot as plt"
   ]
  },
  {
   "cell_type": "markdown",
   "metadata": {
    "id": "FLDVsIWLBQrb"
   },
   "source": [
    "# Latihan (14)\n",
    "\n",
    "Buatlah visualisasi dalam bentuk histogram pada data \"cloth_data\" untuk kolom size"
   ]
  },
  {
   "cell_type": "code",
   "execution_count": null,
   "metadata": {
    "colab": {
     "base_uri": "https://localhost:8080/",
     "height": 281
    },
    "id": "NMMtlInMBQrb",
    "outputId": "c4521152-a361-4f23-efa0-18bc45ac44c4"
   },
   "outputs": [
    {
     "data": {
      "image/png": "[encoded data removed]",
      "text/plain": [
       "<Figure size 432x288 with 1 Axes>"
      ]
     },
     "metadata": {
      "needs_background": "light"
     },
     "output_type": "display_data"
    }
   ],
   "source": [
    "#Latihan(14)\n",
    "#Buat histogram untuk kolom size\n",
    "\n",
    "plt.hist(df[\"size\"])\n",
    "plt.title('Histogram Size')\n",
    "plt.show()"
   ]
  },
  {
   "cell_type": "markdown",
   "metadata": {
    "id": "goh5h2RyBQrc"
   },
   "source": [
    "# Latihan (15)\n",
    "\n",
    "Buatlah visualisasi dalam bentuk grafik (plot) pada data \"cloth_data\" untuk kolom age dan kolom size"
   ]
  },
  {
   "cell_type": "code",
   "execution_count": null,
   "metadata": {
    "colab": {
     "base_uri": "https://localhost:8080/",
     "height": 279
    },
    "id": "802ui2c3BQrc",
    "outputId": "e5c56b48-dfc4-48cf-c534-4abc16ae394f"
   },
   "outputs": [
    {
     "data": {
      "image/png": "[encoded data removed]",
      "text/plain": [
       "<Figure size 432x288 with 1 Axes>"
      ]
     },
     "metadata": {
      "needs_background": "light"
     },
     "output_type": "display_data"
    }
   ],
   "source": [
    "#Latihan(15)\n",
    "#Visualisasi dalam bentuk grafik (plot) pada data \"cloth_data\" untuk kolom age dan kolom size\n",
    "\n",
    "plt.plot(df[\"age\"],df[\"size\"])\n",
    "plt.xlabel(\"Age\")\n",
    "plt.ylabel(\"Size\")\n",
    "plt.show()"
   ]
  },
  {
   "cell_type": "markdown",
   "metadata": {
    "id": "FsJXEVrqBQrc"
   },
   "source": [
    "# Latihan (16)\n",
    "\n",
    "Buatlah visualisasi dalam bentuk grafik (plot) pada data \"cloth_data\" untuk kolom size dan kolom age"
   ]
  },
  {
   "cell_type": "code",
   "execution_count": null,
   "metadata": {
    "colab": {
     "base_uri": "https://localhost:8080/",
     "height": 279
    },
    "id": "KHF0Gjs8BQrc",
    "outputId": "46f4c29f-e1d1-49c5-c484-ea326b39adaa"
   },
   "outputs": [
    {
     "data": {
      "image/png": "[encoded data removed]",
      "text/plain": [
       "<Figure size 432x288 with 1 Axes>"
      ]
     },
     "metadata": {
      "needs_background": "light"
     },
     "output_type": "display_data"
    }
   ],
   "source": [
    "#Latihan(16)\n",
    "#Visualisasi dalam bentuk grafik (plot) pada data \"cloth_data\" untuk kolom size dan kolom age\n",
    "\n",
    "plt.plot(df[\"size\"], df[\"age\"])\n",
    "plt.xlabel(\"Size\")\n",
    "plt.ylabel(\"Age\")\n",
    "plt.show()"
   ]
  },
  {
   "cell_type": "markdown",
   "metadata": {
    "id": "oftLWeZxBQrd"
   },
   "source": [
    "# Latihan (17)\n",
    "\n",
    "Import library seaborn"
   ]
  },
  {
   "cell_type": "code",
   "execution_count": null,
   "metadata": {
    "id": "7XKd-kcIBQrd"
   },
   "outputs": [],
   "source": [
    "#Latihan(17)\n",
    "#Import library seaborn\n",
    "\n",
    "import seaborn as sns"
   ]
  },
  {
   "cell_type": "markdown",
   "metadata": {
    "id": "FJZPMubVBQrd"
   },
   "source": [
    "# Latihan (18)\n",
    "\n",
    "Buatlah visualisasi dalam bentuk scatterplot pada data \"cloth_data\" untuk kolom age dan kolom size"
   ]
  },
  {
   "cell_type": "code",
   "execution_count": null,
   "metadata": {
    "colab": {
     "base_uri": "https://localhost:8080/",
     "height": 296
    },
    "id": "538UTt03BQrd",
    "outputId": "fa7679e2-dd2e-4c88-873c-f7de75c694ae"
   },
   "outputs": [
    {
     "data": {
      "text/plain": [
       "<matplotlib.axes._subplots.AxesSubplot at 0x7fbe5fd62250>"
      ]
     },
     "execution_count": 30,
     "metadata": {},
     "output_type": "execute_result"
    },
    {
     "data": {
      "image/png": "[encoded data removed]",
      "text/plain": [
       "<Figure size 432x288 with 1 Axes>"
      ]
     },
     "metadata": {
      "needs_background": "light"
     },
     "output_type": "display_data"
    }
   ],
   "source": [
    "#latihan(18)\n",
    "#Buat scatterplot dengan kolom age dan size\n",
    "\n",
    "sns.scatterplot(x=df[\"age\"], y=df[\"size\"])"
   ]
  },
  {
   "cell_type": "markdown",
   "metadata": {
    "id": "QQMCWN5IBQrd"
   },
   "source": [
    "# Latihan (19)\n",
    "\n",
    "Buatlah visualisasi dalam bentuk scatterplot pada data \"cloth_data\" untuk kolom size dan kolom age"
   ]
  },
  {
   "cell_type": "code",
   "execution_count": null,
   "metadata": {
    "colab": {
     "base_uri": "https://localhost:8080/",
     "height": 296
    },
    "id": "TtwOyOIhBQrd",
    "outputId": "8434dba0-f95d-49e2-9cce-61d2d033c222"
   },
   "outputs": [
    {
     "data": {
      "text/plain": [
       "<matplotlib.axes._subplots.AxesSubplot at 0x7fbe5e2c2910>"
      ]
     },
     "execution_count": 31,
     "metadata": {},
     "output_type": "execute_result"
    },
    {
     "data": {
      "image/png": "[encoded data removed]",
      "text/plain": [
       "<Figure size 432x288 with 1 Axes>"
      ]
     },
     "metadata": {
      "needs_background": "light"
     },
     "output_type": "display_data"
    }
   ],
   "source": [
    "#latihan(19)\n",
    "#Buat scatterplot dengan kolom size dan age\n",
    "\n",
    "sns.scatterplot(x=df[\"size\"], y=df[\"age\"])\n"
   ]
  },
  {
   "cell_type": "markdown",
   "metadata": {
    "id": "vXu8wUE4BQre"
   },
   "source": [
    "# Latihan (20)\n",
    "\n",
    "Buatlah visualisasi dalam bentuk histogram pada data \"cloth_data\" untuk kolom age"
   ]
  },
  {
   "cell_type": "code",
   "execution_count": null,
   "metadata": {
    "colab": {
     "base_uri": "https://localhost:8080/",
     "height": 296
    },
    "id": "nzWq-PRIBQre",
    "outputId": "6b47681a-cd52-4d0b-e350-5fe1a31ee415"
   },
   "outputs": [
    {
     "data": {
      "text/plain": [
       "<matplotlib.axes._subplots.AxesSubplot at 0x7fbe5e2ab510>"
      ]
     },
     "execution_count": 32,
     "metadata": {},
     "output_type": "execute_result"
    },
    {
     "data": {
      "image/png": "[encoded data removed]",
      "text/plain": [
       "<Figure size 432x288 with 1 Axes>"
      ]
     },
     "metadata": {
      "needs_background": "light"
     },
     "output_type": "display_data"
    }
   ],
   "source": [
    "#Latihan(20)\n",
    "#Buat histogram untuk kolom size\n",
    "\n",
    "sns.histplot(df[\"age\"])"
   ]
  }
 ],
 "metadata": {
  "colab": {
   "name": "Tugas Mandiri Pertemuan 4_Muh. Yusuf Syam_ITB.ipynb",
   "provenance": []
  },
  "kernelspec": {
   "display_name": "Python 3 (ipykernel)",
   "language": "python",
   "name": "python3"
  },
  "language_info": {
   "codemirror_mode": {
    "name": "ipython",
    "version": 3
   },
   "file_extension": ".py",
   "mimetype": "text/x-python",
   "name": "python",
   "nbconvert_exporter": "python",
   "pygments_lexer": "ipython3",
   "version": "3.7.7"
  }
 },
 "nbformat": 4,
 "nbformat_minor": 1
}
