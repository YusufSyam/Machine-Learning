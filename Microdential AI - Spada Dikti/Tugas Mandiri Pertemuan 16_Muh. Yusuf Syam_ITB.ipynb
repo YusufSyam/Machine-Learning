{
 "cells": [
  {
   "cell_type": "markdown",
   "metadata": {
    "id": "Anop8ZP3JzLI"
   },
   "source": [
    "# Hands-On\n",
    "---\n",
    "\n",
    "Hands-On ini digunakan pada kegiatan Microcredential Associate Data Scientist 2021"
   ]
  },
  {
   "cell_type": "markdown",
   "metadata": {
    "id": "-2FBL_OmJzLK"
   },
   "source": [
    "# Tugas Mandiri Pertemuan 16\n",
    "---\n",
    "Pertemuan 16 (enambelas) pada Microcredential Associate Data Scientist 2021 menyampaikan materi mengenai Membangun model: Evaluasi. silakan Anda kerjakan Latihan 1 s/d 5. Output yang anda lihat merupakan panduan yang dapat Anda ikuti dalam penulisan code :)"
   ]
  },
  {
   "cell_type": "markdown",
   "metadata": {
    "id": "PrQVcF-ldGWQ"
   },
   "source": [
    "<h1> Soal 1: Pemahaman Tentang Model Evaluasi</h1>\n",
    "\n",
    "Jawab pertanyaan di bawah ini dengan bahasa masing-masing?\n",
    "\n",
    "1. Apa perbedaan antara data latih, data validasi, dan data test?\n",
    "2. Bagaimana cara kita menilai performa suatu model?\n",
    "3. Apa itu Confusion Matrix? Jelaskan secara lengkap!\n",
    "4. Apa itu Classification Report dari sklearn?"
   ]
  },
  {
   "cell_type": "markdown",
   "metadata": {
    "id": "sr6D5UIhgpwO"
   },
   "source": [
    "\n",
    " <p style=\"color:#FF0000\">Jawab:</p>\n",
    "\n"
   ]
  },
  {
   "cell_type": "markdown",
   "metadata": {
    "id": "uY-s7-KDgrkV"
   },
   "source": [
    "---"
   ]
  },
  {
   "cell_type": "markdown",
   "metadata": {
    "id": "3B7LpfL2dAYS"
   },
   "source": [
    "1. \n",
    "  - Data Latih : Data yang digunakan untuk membangun model algoritma dalam pembelajarn mesin.\n",
    "  - Data Validasi : Data yang digunakan sebagai input data baru ke dalam model yang belum dievaluasi sebelumnya, data validasi memberikan tes pertama dengan data yang tidak terlihat\n",
    "  - Data test : Data yang digunakan untuk pengujian kembali untuk memvalidasi bahwa model yang dibuat dapat membuat prediksi yang akurat.\n",
    "\n",
    "2.  Untuk model klasifikasi (classification metrics): accuracy, precision, recall, F1-score, ROC, AUC, dan lainnya. Untuk model regresi (regression metrics) : MSE, MAE, dan lainnya. Untuk model klastering (clustering metrics): Silhouette Coefficient, Davies-Bouldin Index, Dunn Index, dan lainnya.\n",
    "\n",
    "\n",
    "3. Confusion Matrix adalah pengukuran performa untuk masalah klasifikasi machine learning dimana keluaran dapat berupa dua kelas atau lebih.  Confusion Matrix adalah tabel dengan 4 kombinasi berbeda dari nilai prediksi dan nilai aktual. Ada empat istilah yang merupakan representasi hasil proses klasifikasi pada confusion matrix yaitu True Positif, True Negatif, False Positif, dan False Negatif.\n",
    "\n",
    "| TP | FP |\n",
    "-----|-----\n",
    "| FN | TN |\n",
    "\n",
    "Keterangan :\n",
    "- True Positive (TP): nilai sesungguhnya adalah positif dan diprediksi positif\n",
    "- False Positive (FP): nilai sesungguhnya adalah negatif namun diprediksi positif\n",
    "- True Negative (TN): nilai sesungguhnya adalah negatif dan diprediksi negatif, dan\n",
    "- False Negative (FN): nilai sesungguhnya adalah positif namun diprediksi negatif.\n",
    "\n",
    "4.  Classification Report digunakan untuk mengukur kualitas prediksi dari algoritma klasifikasi. Metrik precision digunakan untuk menghitung persentase akurasi model. Metrik recall digunakan untuk menghitung persentase kasus positif model. Metrik f1 score digunakan untuk menghitung prediksi positif yang benar.\n"
   ]
  },
  {
   "cell_type": "markdown",
   "metadata": {
    "id": "Fv2TVsgAdGWY"
   },
   "source": [
    "<h1>Soal 2: Aplikasi Model Evaluasi</h1>\n",
    "\n",
    "Kali ini kita akan menggunakan data untuk memprediksi kelangsungan hidup pasien yang telah mengalami operasi payudara. Dengan informasi yang dimiliki terkait pasien, kita akan membuat model untuk memprediksi apakah pasien akan bertahan hidup dalam waktu lebih dari 5 tahun atau tidak.\n",
    "\n",
    "Lebih Lengkapnya kalian bisa membaca informasi tentang dataset di link berikut: https://raw.githubusercontent.com/jbrownlee/Datasets/master/haberman.names\n",
    "\n",
    "Buat model Klasifikasi (Model/Algoritma Bebas) untuk memprediksi status pasien dengan ketentuan sebagai berikut:\n",
    "\n",
    "1. Bagi kedua data ini menjadi data training dan data test dengan test_size=0.25.\n",
    "3. Pelajar tentang metrics roc_auc_score kemudian buatlah model dan evaluasi dengan menggunakan teknik cross-validation dengan scoring 'roc_auc'. Baca https://scikit-learn.org/stable/modules/generated/sklearn.model_selection.cross_val_score.html untuk menggunakan metric roc_auc saat cross-validation.\n",
    "3. Berapa score rata2 dari model dengan teknik cross-validation tersebut?\n",
    "4. Prediksi data test dengan model yang telah kalian buat!\n",
    "5. Bagaimana hasil confusion matrix dari hasil prediksi tersebut?\n",
    "6. Bagaimana classification report dari hasil prediksi tersebut?\n",
    "5. Seberapa baik model anda dalam memprediksi seorang pasien mempunyai status positive?\n",
    "6. Seberapa baik model anda dalam memprediksi seorang pasien mempunyai status negatif?"
   ]
  },
  {
   "cell_type": "markdown",
   "metadata": {
    "id": "e-Zt9snUJzLU"
   },
   "source": [
    "### Load Dataset "
   ]
  },
  {
   "cell_type": "code",
   "execution_count": 1,
   "metadata": {
    "executionInfo": {
     "elapsed": 1060,
     "status": "ok",
     "timestamp": 1639052793742,
     "user": {
      "displayName": "Richard Enrico",
      "photoUrl": "https://lh3.googleusercontent.com/a-/AOh14Gimgm4FbT6Wtue2-dVzWOFlRCjsbUl_rJJVm4X5BQ=s64",
      "userId": "17517833725718032826"
     },
     "user_tz": -480
    },
    "id": "l_zK8Mqb-9Z6"
   },
   "outputs": [],
   "source": [
    "# import library pandas\n",
    "import pandas as pd\n",
    "\n",
    "# Load Dataset\n",
    "url = 'https://raw.githubusercontent.com/jbrownlee/Datasets/master/haberman.csv'\n",
    "list_cols = ['Age', \"Patient's Years\", \"N_positive_ax\", \"survival_status\"]\n",
    "df = pd.read_csv(url, names=list_cols)"
   ]
  },
  {
   "cell_type": "code",
   "execution_count": 2,
   "metadata": {
    "colab": {
     "base_uri": "https://localhost:8080/",
     "height": 206
    },
    "executionInfo": {
     "elapsed": 38,
     "status": "ok",
     "timestamp": 1639052795028,
     "user": {
      "displayName": "Richard Enrico",
      "photoUrl": "https://lh3.googleusercontent.com/a-/AOh14Gimgm4FbT6Wtue2-dVzWOFlRCjsbUl_rJJVm4X5BQ=s64",
      "userId": "17517833725718032826"
     },
     "user_tz": -480
    },
    "id": "YrbPNGtHdGXV",
    "outputId": "17eea6d8-6fa1-4f3f-b3df-160637d7c766"
   },
   "outputs": [
    {
     "data": {
      "text/html": [
       "<div>\n",
       "<style scoped>\n",
       "    .dataframe tbody tr th:only-of-type {\n",
       "        vertical-align: middle;\n",
       "    }\n",
       "\n",
       "    .dataframe tbody tr th {\n",
       "        vertical-align: top;\n",
       "    }\n",
       "\n",
       "    .dataframe thead th {\n",
       "        text-align: right;\n",
       "    }\n",
       "</style>\n",
       "<table border=\"1\" class=\"dataframe\">\n",
       "  <thead>\n",
       "    <tr style=\"text-align: right;\">\n",
       "      <th></th>\n",
       "      <th>Age</th>\n",
       "      <th>Patient's Years</th>\n",
       "      <th>N_positive_ax</th>\n",
       "      <th>survival_status</th>\n",
       "    </tr>\n",
       "  </thead>\n",
       "  <tbody>\n",
       "    <tr>\n",
       "      <th>0</th>\n",
       "      <td>30</td>\n",
       "      <td>64</td>\n",
       "      <td>1</td>\n",
       "      <td>1</td>\n",
       "    </tr>\n",
       "    <tr>\n",
       "      <th>1</th>\n",
       "      <td>30</td>\n",
       "      <td>62</td>\n",
       "      <td>3</td>\n",
       "      <td>1</td>\n",
       "    </tr>\n",
       "    <tr>\n",
       "      <th>2</th>\n",
       "      <td>30</td>\n",
       "      <td>65</td>\n",
       "      <td>0</td>\n",
       "      <td>1</td>\n",
       "    </tr>\n",
       "    <tr>\n",
       "      <th>3</th>\n",
       "      <td>31</td>\n",
       "      <td>59</td>\n",
       "      <td>2</td>\n",
       "      <td>1</td>\n",
       "    </tr>\n",
       "    <tr>\n",
       "      <th>4</th>\n",
       "      <td>31</td>\n",
       "      <td>65</td>\n",
       "      <td>4</td>\n",
       "      <td>1</td>\n",
       "    </tr>\n",
       "  </tbody>\n",
       "</table>\n",
       "</div>"
      ],
      "text/plain": [
       "   Age  Patient's Years  N_positive_ax  survival_status\n",
       "0   30               64              1                1\n",
       "1   30               62              3                1\n",
       "2   30               65              0                1\n",
       "3   31               59              2                1\n",
       "4   31               65              4                1"
      ]
     },
     "execution_count": 2,
     "metadata": {},
     "output_type": "execute_result"
    }
   ],
   "source": [
    "# tampilkan 5 baris awal dataset dengan function head()\n",
    "df.head()"
   ]
  },
  {
   "cell_type": "code",
   "execution_count": 3,
   "metadata": {
    "colab": {
     "base_uri": "https://localhost:8080/"
    },
    "executionInfo": {
     "elapsed": 550,
     "status": "ok",
     "timestamp": 1639052798132,
     "user": {
      "displayName": "Richard Enrico",
      "photoUrl": "https://lh3.googleusercontent.com/a-/AOh14Gimgm4FbT6Wtue2-dVzWOFlRCjsbUl_rJJVm4X5BQ=s64",
      "userId": "17517833725718032826"
     },
     "user_tz": -480
    },
    "id": "-dxYNPg7dGX4",
    "outputId": "47305810-bed1-4fe6-af98-dfbed1be106a"
   },
   "outputs": [
    {
     "data": {
      "text/plain": [
       "1    225\n",
       "2     81\n",
       "Name: survival_status, dtype: int64"
      ]
     },
     "execution_count": 3,
     "metadata": {},
     "output_type": "execute_result"
    }
   ],
   "source": [
    "# hitung jumlah masing\" data pada kolom survival_status\n",
    "df['survival_status'].value_counts()"
   ]
  },
  {
   "cell_type": "markdown",
   "metadata": {
    "id": "OK8hS0oUJzLg"
   },
   "source": [
    "### Build Model"
   ]
  },
  {
   "cell_type": "code",
   "execution_count": 4,
   "metadata": {
    "executionInfo": {
     "elapsed": 659,
     "status": "ok",
     "timestamp": 1639052800784,
     "user": {
      "displayName": "Richard Enrico",
      "photoUrl": "https://lh3.googleusercontent.com/a-/AOh14Gimgm4FbT6Wtue2-dVzWOFlRCjsbUl_rJJVm4X5BQ=s64",
      "userId": "17517833725718032826"
     },
     "user_tz": -480
    },
    "id": "8W2amvZgdGYX"
   },
   "outputs": [],
   "source": [
    "#import library train test split dan cross val\n",
    "from sklearn.model_selection import train_test_split, cross_val_score\n",
    "\n",
    "#import library Logistic regression\n",
    "from sklearn.linear_model import LogisticRegression\n",
    "\n",
    "#import library roc auc score\n",
    "from sklearn.metrics import roc_auc_score\n",
    "\n",
    "#import library scale\n",
    "from sklearn.preprocessing import scale\n",
    "\n",
    "#import library numpy\n",
    "import numpy as np"
   ]
  },
  {
   "cell_type": "code",
   "execution_count": 5,
   "metadata": {
    "executionInfo": {
     "elapsed": 541,
     "status": "ok",
     "timestamp": 1639052804067,
     "user": {
      "displayName": "Richard Enrico",
      "photoUrl": "https://lh3.googleusercontent.com/a-/AOh14Gimgm4FbT6Wtue2-dVzWOFlRCjsbUl_rJJVm4X5BQ=s64",
      "userId": "17517833725718032826"
     },
     "user_tz": -480
    },
    "id": "6_s3eKawJzLh"
   },
   "outputs": [],
   "source": [
    "## pemisahan feature dan target (data target : 'survival_status')\n",
    "X = df.drop('survival_status', axis = 1)\n",
    "Xs = scale(X)\n",
    "y = df['survival_status']"
   ]
  },
  {
   "cell_type": "markdown",
   "metadata": {
    "id": "ec6it7AsJzLi"
   },
   "source": [
    "#### NO 1"
   ]
  },
  {
   "cell_type": "code",
   "execution_count": 6,
   "metadata": {
    "executionInfo": {
     "elapsed": 529,
     "status": "ok",
     "timestamp": 1639052861871,
     "user": {
      "displayName": "Richard Enrico",
      "photoUrl": "https://lh3.googleusercontent.com/a-/AOh14Gimgm4FbT6Wtue2-dVzWOFlRCjsbUl_rJJVm4X5BQ=s64",
      "userId": "17517833725718032826"
     },
     "user_tz": -480
    },
    "id": "Njsw10neJzLj"
   },
   "outputs": [],
   "source": [
    "## pemisahan variabel test dan train dari data Xs dan y\n",
    "# test size= 25%, random state = 42, dan stratify = y\n",
    "X_train, X_test, y_train, y_test = train_test_split(Xs, y, test_size=0.25, random_state=42, stratify=y)"
   ]
  },
  {
   "cell_type": "code",
   "execution_count": 8,
   "metadata": {
    "executionInfo": {
     "elapsed": 613,
     "status": "ok",
     "timestamp": 1639052898651,
     "user": {
      "displayName": "Richard Enrico",
      "photoUrl": "https://lh3.googleusercontent.com/a-/AOh14Gimgm4FbT6Wtue2-dVzWOFlRCjsbUl_rJJVm4X5BQ=s64",
      "userId": "17517833725718032826"
     },
     "user_tz": -480
    },
    "id": "EhbqzFAOJzLj"
   },
   "outputs": [],
   "source": [
    "## pembuatan objek model\n",
    "model_logReg = LogisticRegression(random_state = 42)\n",
    "\n",
    "## latih model\n",
    "model_logReg.fit(X_train, y_train)\n",
    "\n",
    "## prediksi.\n",
    "y_predict = model_logReg.predict(X_test)"
   ]
  },
  {
   "cell_type": "markdown",
   "metadata": {
    "id": "Q17KWU-rJzLk"
   },
   "source": [
    "#### NO 2"
   ]
  },
  {
   "cell_type": "code",
   "execution_count": 14,
   "metadata": {
    "colab": {
     "base_uri": "https://localhost:8080/"
    },
    "executionInfo": {
     "elapsed": 868,
     "status": "ok",
     "timestamp": 1639058811514,
     "user": {
      "displayName": "Richard Enrico",
      "photoUrl": "https://lh3.googleusercontent.com/a-/AOh14Gimgm4FbT6Wtue2-dVzWOFlRCjsbUl_rJJVm4X5BQ=s64",
      "userId": "17517833725718032826"
     },
     "user_tz": -480
    },
    "id": "BTq0GJj4JzLk",
    "outputId": "ba7a74dd-967f-4287-9a23-34e2388ef16b"
   },
   "outputs": [
    {
     "name": "stdout",
     "output_type": "stream",
     "text": [
      "[0.44021739 0.80978261 0.67391304 0.69021739 0.70380435 0.79292929\n",
      " 0.875      0.62784091 0.67613636 0.61363636]\n"
     ]
    }
   ],
   "source": [
    "## menghitung cross_val_score dengan scoring = 'roc_auc'\n",
    "## parameter cv = 10 \n",
    "score = cross_val_score(model_logReg, X, y, scoring = 'roc_auc', cv = 10)\n",
    "print(score)"
   ]
  },
  {
   "cell_type": "markdown",
   "metadata": {
    "id": "MeQ_j6p1JzLl"
   },
   "source": [
    "#### NO 3"
   ]
  },
  {
   "cell_type": "code",
   "execution_count": 15,
   "metadata": {
    "colab": {
     "base_uri": "https://localhost:8080/"
    },
    "executionInfo": {
     "elapsed": 654,
     "status": "ok",
     "timestamp": 1639058826339,
     "user": {
      "displayName": "Richard Enrico",
      "photoUrl": "https://lh3.googleusercontent.com/a-/AOh14Gimgm4FbT6Wtue2-dVzWOFlRCjsbUl_rJJVm4X5BQ=s64",
      "userId": "17517833725718032826"
     },
     "user_tz": -480
    },
    "id": "LedKNcvNeQqt",
    "outputId": "5e0f7430-e345-4dbd-ca59-efc16eb8ebf4"
   },
   "outputs": [
    {
     "data": {
      "text/plain": [
       "0.6903477711901624"
      ]
     },
     "execution_count": 15,
     "metadata": {},
     "output_type": "execute_result"
    }
   ],
   "source": [
    "# cetak rata-rata nilai rata-rata auc score\n",
    "score.mean()"
   ]
  },
  {
   "cell_type": "markdown",
   "metadata": {
    "id": "zI0iuPHuJzLm"
   },
   "source": [
    "#### NO 4"
   ]
  },
  {
   "cell_type": "code",
   "execution_count": 16,
   "metadata": {
    "colab": {
     "base_uri": "https://localhost:8080/"
    },
    "executionInfo": {
     "elapsed": 693,
     "status": "ok",
     "timestamp": 1639058837601,
     "user": {
      "displayName": "Richard Enrico",
      "photoUrl": "https://lh3.googleusercontent.com/a-/AOh14Gimgm4FbT6Wtue2-dVzWOFlRCjsbUl_rJJVm4X5BQ=s64",
      "userId": "17517833725718032826"
     },
     "user_tz": -480
    },
    "id": "sgIgntc9eTh5",
    "outputId": "ae77f427-248d-4c1d-cde0-05daf56a679e",
    "scrolled": true
   },
   "outputs": [
    {
     "data": {
      "text/plain": [
       "0.5399122807017543"
      ]
     },
     "execution_count": 16,
     "metadata": {},
     "output_type": "execute_result"
    }
   ],
   "source": [
    "# Prediksi data test dengan model yang telah kalian buat \n",
    "auc_score = roc_auc_score(y_test, y_predict)\n",
    "auc_score"
   ]
  },
  {
   "cell_type": "markdown",
   "metadata": {
    "id": "kerlVVEGJzLn"
   },
   "source": [
    "#### NO 5"
   ]
  },
  {
   "cell_type": "code",
   "execution_count": 17,
   "metadata": {
    "executionInfo": {
     "elapsed": 671,
     "status": "ok",
     "timestamp": 1639058849419,
     "user": {
      "displayName": "Richard Enrico",
      "photoUrl": "https://lh3.googleusercontent.com/a-/AOh14Gimgm4FbT6Wtue2-dVzWOFlRCjsbUl_rJJVm4X5BQ=s64",
      "userId": "17517833725718032826"
     },
     "user_tz": -480
    },
    "id": "e23bVSGteUQV"
   },
   "outputs": [],
   "source": [
    "# import library confusion matrix dan classification report\n",
    "from sklearn.metrics import confusion_matrix, classification_report"
   ]
  },
  {
   "cell_type": "code",
   "execution_count": 18,
   "metadata": {
    "colab": {
     "base_uri": "https://localhost:8080/"
    },
    "executionInfo": {
     "elapsed": 696,
     "status": "ok",
     "timestamp": 1639058859628,
     "user": {
      "displayName": "Richard Enrico",
      "photoUrl": "https://lh3.googleusercontent.com/a-/AOh14Gimgm4FbT6Wtue2-dVzWOFlRCjsbUl_rJJVm4X5BQ=s64",
      "userId": "17517833725718032826"
     },
     "user_tz": -480
    },
    "id": "rDqvvhZUeai_",
    "outputId": "fbd5860b-803c-4f41-bac0-23a796e64f47"
   },
   "outputs": [
    {
     "data": {
      "text/plain": [
       "array([[53,  4],\n",
       "       [17,  3]])"
      ]
     },
     "execution_count": 18,
     "metadata": {},
     "output_type": "execute_result"
    }
   ],
   "source": [
    "# apply confusion matrix dan cetak nilai confusion matrix\n",
    "cm = confusion_matrix(y_test, y_predict, labels = (1,2))\n",
    "cm"
   ]
  },
  {
   "cell_type": "code",
   "execution_count": 19,
   "metadata": {
    "colab": {
     "base_uri": "https://localhost:8080/",
     "height": 282
    },
    "executionInfo": {
     "elapsed": 606,
     "status": "ok",
     "timestamp": 1639058872783,
     "user": {
      "displayName": "Richard Enrico",
      "photoUrl": "https://lh3.googleusercontent.com/a-/AOh14Gimgm4FbT6Wtue2-dVzWOFlRCjsbUl_rJJVm4X5BQ=s64",
      "userId": "17517833725718032826"
     },
     "user_tz": -480
    },
    "id": "qqlQlBgMJzLp",
    "outputId": "6d32953e-33b7-47d2-f1d9-ac2d4a960e3c"
   },
   "outputs": [
    {
     "data": {
      "text/plain": [
       "<matplotlib.axes._subplots.AxesSubplot at 0x7f1ef50899d0>"
      ]
     },
     "execution_count": 19,
     "metadata": {},
     "output_type": "execute_result"
    },
    {
     "data": {
      "image/png": "[encoded data removed]",
      "text/plain": [
       "<Figure size 432x288 with 2 Axes>"
      ]
     },
     "metadata": {
      "needs_background": "light"
     },
     "output_type": "display_data"
    }
   ],
   "source": [
    "# visualisasikan nilai confusion matrix ke dalam diagram heatmap\n",
    "import seaborn as sns\n",
    "sns.heatmap(cm, annot=True)"
   ]
  },
  {
   "cell_type": "markdown",
   "metadata": {
    "id": "hT_Fx5TUJzLq"
   },
   "source": [
    "#### NO 6"
   ]
  },
  {
   "cell_type": "code",
   "execution_count": 20,
   "metadata": {
    "colab": {
     "base_uri": "https://localhost:8080/"
    },
    "executionInfo": {
     "elapsed": 693,
     "status": "ok",
     "timestamp": 1639058885642,
     "user": {
      "displayName": "Richard Enrico",
      "photoUrl": "https://lh3.googleusercontent.com/a-/AOh14Gimgm4FbT6Wtue2-dVzWOFlRCjsbUl_rJJVm4X5BQ=s64",
      "userId": "17517833725718032826"
     },
     "user_tz": -480
    },
    "id": "gTrzFq28ehP1",
    "outputId": "da5bc209-8fb1-4047-83e5-41f5838c0e0e"
   },
   "outputs": [
    {
     "name": "stdout",
     "output_type": "stream",
     "text": [
      "              precision    recall  f1-score   support\n",
      "\n",
      "           1       0.76      0.93      0.83        57\n",
      "           2       0.43      0.15      0.22        20\n",
      "\n",
      "    accuracy                           0.73        77\n",
      "   macro avg       0.59      0.54      0.53        77\n",
      "weighted avg       0.67      0.73      0.68        77\n",
      "\n"
     ]
    }
   ],
   "source": [
    "# cetak nilai classification_report\n",
    "print(classification_report(y_test, y_predict))"
   ]
  },
  {
   "cell_type": "markdown",
   "metadata": {
    "id": "N7_uOPJ6JzLr"
   },
   "source": [
    "#### NO 7"
   ]
  },
  {
   "cell_type": "markdown",
   "metadata": {
    "id": "1rm8SxlrenkO"
   },
   "source": [
    "- Bagaimana hasil confusion matrix dari hasil prediksi tersebut? <br>\n",
    "Hasilnya ialah sebagai berikut :\n",
    "1. TP (True Positive) atau data positif yang diprediksi benar sebanyal 52\n",
    "2. FP (False Positive) atau data negative namun diprediksi sebagai data positif sebanyak 5\n",
    "3. FN (False Negative) atau data positif namun diprediksi negatif sebanyak 17\n",
    "4. TN (True Negative) data negatif yang diprediksi benar 3 \n",
    "<br>\n",
    "<br>\n",
    " \n",
    " \n",
    " \n",
    "- Bagaimana classification report dari hasil prediksi tersebut? <br>\n",
    "Hasilnya ialah :\n",
    "1. Presisi (Persentasi prediksi data yang benar) :\n",
    "  - class 1 = 75%, \n",
    "  - class 2 = 38%\n",
    "2. Recall (Persentasi dari kasus positif benar yang didapat): \n",
    "  - class 1 : 91%\n",
    "  - class 2 : 15%\n",
    "3. f1-Score (Persentasi dari prediksi positif yang benar)⁉\n",
    "  - class 1 : 83%\n",
    "  - class 2 : 21%\n",
    "4. support (Jumlah kemunculan kelas dalam kumpulan data) : \n",
    "  - class 1 : 57\n",
    "  - class 2 : 20\n",
    "5. Akurasi dengan f1-score ialah 0.7\n",
    "<br><br>\n",
    "\n",
    "\n",
    "- Seberapa baik model anda dalam memprediksi seorang pasien mempunyai status positive? dari hasil classification_report diatas <br>\n",
    "Untuk status positif model prediksi cukup baik dapat dilihati dari tingginya nilai recall dan f1-score yang tinggi\n",
    "<br><br>\n",
    "\n",
    "\n",
    " \n",
    " \n",
    "- Seberapa baik model anda dalam memprediksi seorang pasien mempunyai status negatif? dari hasil classification_report diatas<br>\n",
    "Untuk status negatif model prediksi memiki performa yang kurang baik dapat dilihat dari nilai recall dan f1-scorenya, hal ini mungkin dapat disebabkan data yang unbalanced\n"
   ]
  },
  {
   "cell_type": "markdown",
   "metadata": {
    "id": "I6v_dgoN-7wL"
   },
   "source": [
    "---"
   ]
  },
  {
   "cell_type": "markdown",
   "metadata": {
    "id": "teekoyIw--g2"
   },
   "source": [
    "<h1> Soal 3: Pemahaman Tentang Model Selection</h1>\n",
    "\n",
    "Jelaskan dengan bahasa sendiri!\n",
    "\n",
    "1. Apa itu Bias dan Variance?\n",
    "2. Apa itu Overfitting dan Underfitting?\n",
    "3. Apa yang bisa kita lakukan untuk mengatur kompleksitas dari model?\n",
    "4. Bagaimana model yang baik?\n",
    "5. Kapan kita menggunakan GridSearchcv dan kapan menggunakan RandomizedSearchCV?"
   ]
  },
  {
   "cell_type": "markdown",
   "metadata": {
    "id": "4a1l4RNf_FcU"
   },
   "source": [
    "\n",
    " <p style=\"color:#FF0000\">Jawab</p>\n",
    "\n",
    "\n"
   ]
  },
  {
   "cell_type": "markdown",
   "metadata": {
    "id": "Svj_cgxF_IZv"
   },
   "source": [
    "---"
   ]
  },
  {
   "cell_type": "markdown",
   "metadata": {
    "id": "rT-U74B-K86u"
   },
   "source": [
    "\n",
    "\n",
    "1.   Bias adalah perbedaan antara rata rata hasil prediksi dari model ML yang kita develop dengan data nilai yang sebenarnya. Variance adalah variabel dari prediksi model untuk data tertentu dimana memberikan kita informasi perserbaran data kita.\n",
    "2.   Overfitting terjadi karena model yang dibuat terlalu fokus pada training dataset tertentu, hingga tidak bisa melakukan prediksi dengan tepat jika diberikan dataset lain yang serupa. Underfitting adalah keadaan dimana model pelatihan data yang dibuat tidak mewakilkan keseluruhan data yang akan digunakan nantinya. Sehingga menghasilkan performa yang buruk dalam pelatihan data.\n",
    "3.  Dengan mengurangi fitur data dapat mengurangi kompleksitas model. Sedangkan untuk menambah kompleksitas model dapat dilakukan dengan cara meningkatkan jumlah dan ukuran *layer* yang digunakan dalam model *neural network*, atau jumlah dan kedalaman *tree* yang digunakan dalam model *random forest*.\n",
    "4.  Model ML harus memberikan prediksi akurat dan dapat mengeneralisir data uji yang selalu baru dan berubah.\n",
    "5.  Jika memiliki kombinasi parameter yang kecil, kemungkinan value besar, dan model yang memakan waktu pemrosesan lama, sebaiknya menggunakan RandomSearchCV. Jika kombinasi parameter besar, kemungkinan value kecil, dan waktu pemrosesan model cepat, maka gunakan GridSearchCV. Jika waktu latih model cepat, dan memiliki gambaran nilai optimal, maka dapat menggunakan GridSearchCV.\n",
    "\n"
   ]
  },
  {
   "cell_type": "markdown",
   "metadata": {
    "id": "Hkh-PeRL_LZp"
   },
   "source": [
    "<h1> Soal 4: Aplikasi Model Selection</h1>\n",
    "\n",
    "1. Bagi kedua data berikut ini menjadi data training dan data test dengan test_size=0.25.\n",
    "2. Import library KNN dan GridSearchCV.\n",
    "3. Gunakan algoritma KNN dan fungsi GridSearchCV untuk hyperparameter tuning dan model selection.\n",
    "4. jumlah fold bebas!, gunakan scoring 'roc_auc'\n",
    "5. Definisikan kombinasi hyperparameter untuk model selection dengan GridSearchCV. kombinasi Hyperparameter bebas, baca lagi dokumentasi KNN di link berikut https://scikit-learn.org/stable/modules/generated/sklearn.neighbors.KNeighborsClassifier.html untuk memahami lagi jenis2 hyperparameter di algorithma KNN.\n",
    "6. Latih model terhadap data training.\n",
    "7. Apa hyperparameter terbaik untuk kombinasi hyperparameter kalian?\n",
    "8. Berapa score validasi terbaik dari model tersebut?\n",
    "9. Prediksi probabilitasi output dari model yang telah di buat terhadap data test. note : gunakan method .predict_proba() untuk menghasilkan output probabilitas\n",
    "\n",
    "10. Berapa nilai score roc_auc untuk data test? (y_predict)\n",
    "11. Apakah model anda termasuk baik, overtting, atau underfitting?\n"
   ]
  },
  {
   "cell_type": "markdown",
   "metadata": {
    "id": "C0nVz-zfJzLu"
   },
   "source": [
    "### Load Dataset "
   ]
  },
  {
   "cell_type": "code",
   "execution_count": 35,
   "metadata": {
    "executionInfo": {
     "elapsed": 609,
     "status": "ok",
     "timestamp": 1639059243500,
     "user": {
      "displayName": "Richard Enrico",
      "photoUrl": "https://lh3.googleusercontent.com/a-/AOh14Gimgm4FbT6Wtue2-dVzWOFlRCjsbUl_rJJVm4X5BQ=s64",
      "userId": "17517833725718032826"
     },
     "user_tz": -480
    },
    "id": "pEpUGx3xJzLv"
   },
   "outputs": [],
   "source": [
    "# import library pandas\n",
    "import pandas as pd\n",
    "\n",
    "# Load Dataset\n",
    "url = 'https://raw.githubusercontent.com/jbrownlee/Datasets/master/haberman.csv'\n",
    "list_cols = ['Age', \"Patient's Years\", \"N_positive_ax\", \"survival_status\"]\n",
    "df2 = pd.read_csv(url, names=list_cols)"
   ]
  },
  {
   "cell_type": "code",
   "execution_count": 36,
   "metadata": {
    "colab": {
     "base_uri": "https://localhost:8080/",
     "height": 206
    },
    "executionInfo": {
     "elapsed": 30,
     "status": "ok",
     "timestamp": 1639059244081,
     "user": {
      "displayName": "Richard Enrico",
      "photoUrl": "https://lh3.googleusercontent.com/a-/AOh14Gimgm4FbT6Wtue2-dVzWOFlRCjsbUl_rJJVm4X5BQ=s64",
      "userId": "17517833725718032826"
     },
     "user_tz": -480
    },
    "id": "qb-AD43R_V_d",
    "outputId": "08b4d7ea-bad2-460e-97ce-e79c01900228"
   },
   "outputs": [
    {
     "data": {
      "text/html": [
       "<div>\n",
       "<style scoped>\n",
       "    .dataframe tbody tr th:only-of-type {\n",
       "        vertical-align: middle;\n",
       "    }\n",
       "\n",
       "    .dataframe tbody tr th {\n",
       "        vertical-align: top;\n",
       "    }\n",
       "\n",
       "    .dataframe thead th {\n",
       "        text-align: right;\n",
       "    }\n",
       "</style>\n",
       "<table border=\"1\" class=\"dataframe\">\n",
       "  <thead>\n",
       "    <tr style=\"text-align: right;\">\n",
       "      <th></th>\n",
       "      <th>Age</th>\n",
       "      <th>Patient's Years</th>\n",
       "      <th>N_positive_ax</th>\n",
       "      <th>survival_status</th>\n",
       "    </tr>\n",
       "  </thead>\n",
       "  <tbody>\n",
       "    <tr>\n",
       "      <th>0</th>\n",
       "      <td>30</td>\n",
       "      <td>64</td>\n",
       "      <td>1</td>\n",
       "      <td>1</td>\n",
       "    </tr>\n",
       "    <tr>\n",
       "      <th>1</th>\n",
       "      <td>30</td>\n",
       "      <td>62</td>\n",
       "      <td>3</td>\n",
       "      <td>1</td>\n",
       "    </tr>\n",
       "    <tr>\n",
       "      <th>2</th>\n",
       "      <td>30</td>\n",
       "      <td>65</td>\n",
       "      <td>0</td>\n",
       "      <td>1</td>\n",
       "    </tr>\n",
       "    <tr>\n",
       "      <th>3</th>\n",
       "      <td>31</td>\n",
       "      <td>59</td>\n",
       "      <td>2</td>\n",
       "      <td>1</td>\n",
       "    </tr>\n",
       "    <tr>\n",
       "      <th>4</th>\n",
       "      <td>31</td>\n",
       "      <td>65</td>\n",
       "      <td>4</td>\n",
       "      <td>1</td>\n",
       "    </tr>\n",
       "  </tbody>\n",
       "</table>\n",
       "</div>"
      ],
      "text/plain": [
       "   Age  Patient's Years  N_positive_ax  survival_status\n",
       "0   30               64              1                1\n",
       "1   30               62              3                1\n",
       "2   30               65              0                1\n",
       "3   31               59              2                1\n",
       "4   31               65              4                1"
      ]
     },
     "execution_count": 36,
     "metadata": {},
     "output_type": "execute_result"
    }
   ],
   "source": [
    "# tampilkan 5 baris awal dataset dengan function head()\n",
    "df2.head()"
   ]
  },
  {
   "cell_type": "code",
   "execution_count": 37,
   "metadata": {
    "colab": {
     "base_uri": "https://localhost:8080/"
    },
    "executionInfo": {
     "elapsed": 26,
     "status": "ok",
     "timestamp": 1639059244084,
     "user": {
      "displayName": "Richard Enrico",
      "photoUrl": "https://lh3.googleusercontent.com/a-/AOh14Gimgm4FbT6Wtue2-dVzWOFlRCjsbUl_rJJVm4X5BQ=s64",
      "userId": "17517833725718032826"
     },
     "user_tz": -480
    },
    "id": "znc1dEGO_XU2",
    "outputId": "9b485e08-7bcd-4aae-ab3b-853b89557431"
   },
   "outputs": [
    {
     "data": {
      "text/plain": [
       "1    225\n",
       "2     81\n",
       "Name: survival_status, dtype: int64"
      ]
     },
     "execution_count": 37,
     "metadata": {},
     "output_type": "execute_result"
    }
   ],
   "source": [
    "# hitung jumlah masing\" data pada kolom survival_status\n",
    "df2['survival_status'].value_counts()"
   ]
  },
  {
   "cell_type": "markdown",
   "metadata": {
    "id": "WxtNlIJWJzLx"
   },
   "source": [
    "#### NO 1"
   ]
  },
  {
   "cell_type": "code",
   "execution_count": 38,
   "metadata": {
    "executionInfo": {
     "elapsed": 23,
     "status": "ok",
     "timestamp": 1639059244087,
     "user": {
      "displayName": "Richard Enrico",
      "photoUrl": "https://lh3.googleusercontent.com/a-/AOh14Gimgm4FbT6Wtue2-dVzWOFlRCjsbUl_rJJVm4X5BQ=s64",
      "userId": "17517833725718032826"
     },
     "user_tz": -480
    },
    "id": "RZmjEbcie33S"
   },
   "outputs": [],
   "source": [
    "# 1. pembagian variabel train dan test\n",
    "# test size= 25%, random state = 42, dan stratify = y\n",
    "X = df2.drop('survival_status', axis = 1)\n",
    "y = df2['survival_status']\n",
    "\n",
    "X_train, X_test, y_train, y_test = train_test_split(X, y, test_size=0.25, random_state=42, stratify=y)"
   ]
  },
  {
   "cell_type": "markdown",
   "metadata": {
    "id": "kZDCfx0LJzLy"
   },
   "source": [
    "#### NO 2"
   ]
  },
  {
   "cell_type": "code",
   "execution_count": 39,
   "metadata": {
    "executionInfo": {
     "elapsed": 24,
     "status": "ok",
     "timestamp": 1639059244089,
     "user": {
      "displayName": "Richard Enrico",
      "photoUrl": "https://lh3.googleusercontent.com/a-/AOh14Gimgm4FbT6Wtue2-dVzWOFlRCjsbUl_rJJVm4X5BQ=s64",
      "userId": "17517833725718032826"
     },
     "user_tz": -480
    },
    "id": "3uWlk8JLfFVE"
   },
   "outputs": [],
   "source": [
    "# 2. import library KNN dan GridSearchCv\n",
    "from sklearn.neighbors import KNeighborsClassifier\n",
    "from sklearn.model_selection import GridSearchCV"
   ]
  },
  {
   "cell_type": "markdown",
   "metadata": {
    "id": "7p9rwF0OJzLy"
   },
   "source": [
    "#### NO 3 - 6"
   ]
  },
  {
   "cell_type": "code",
   "execution_count": 40,
   "metadata": {
    "colab": {
     "base_uri": "https://localhost:8080/"
    },
    "executionInfo": {
     "elapsed": 6915,
     "status": "ok",
     "timestamp": 1639059250981,
     "user": {
      "displayName": "Richard Enrico",
      "photoUrl": "https://lh3.googleusercontent.com/a-/AOh14Gimgm4FbT6Wtue2-dVzWOFlRCjsbUl_rJJVm4X5BQ=s64",
      "userId": "17517833725718032826"
     },
     "user_tz": -480
    },
    "id": "VNqpbE6cfJO_",
    "outputId": "34749c06-1c3c-4da6-a282-49fa4fc37298"
   },
   "outputs": [
    {
     "data": {
      "text/plain": [
       "GridSearchCV(cv=10, estimator=KNeighborsClassifier(),\n",
       "             param_grid={'n_neighbors': array([ 3,  4,  5,  6,  7,  8,  9, 10, 11, 12, 13, 14, 15, 16, 17, 18, 19,\n",
       "       20, 21, 22, 23, 24, 25, 26, 27, 28, 29, 30, 31, 32, 33, 34, 35, 36,\n",
       "       37, 38, 39, 40, 41, 42, 43, 44, 45, 46, 47, 48, 49, 50]),\n",
       "                         'weights': ['uniform', 'distance']},\n",
       "             scoring='roc_auc')"
      ]
     },
     "execution_count": 40,
     "metadata": {},
     "output_type": "execute_result"
    }
   ],
   "source": [
    "# 3. tuning hyperparameter dengan GridSearchCV (parameter cv=10)\n",
    "## build model KNN\n",
    "model_knn = KNeighborsClassifier()\n",
    "param_grid = {'n_neighbors' : np.arange(3,51), 'weights' : ['uniform','distance']}\n",
    "gscv = GridSearchCV(model_knn, param_grid, scoring='roc_auc', cv = 10)\n",
    "gscv.fit(X_train, y_train)"
   ]
  },
  {
   "cell_type": "markdown",
   "metadata": {
    "id": "srCJu1tIJzLz"
   },
   "source": [
    "#### NO 7"
   ]
  },
  {
   "cell_type": "code",
   "execution_count": 41,
   "metadata": {
    "colab": {
     "base_uri": "https://localhost:8080/"
    },
    "executionInfo": {
     "elapsed": 76,
     "status": "ok",
     "timestamp": 1639059250983,
     "user": {
      "displayName": "Richard Enrico",
      "photoUrl": "https://lh3.googleusercontent.com/a-/AOh14Gimgm4FbT6Wtue2-dVzWOFlRCjsbUl_rJJVm4X5BQ=s64",
      "userId": "17517833725718032826"
     },
     "user_tz": -480
    },
    "id": "MSfTj3VGfL6R",
    "outputId": "953149b1-3440-4bf0-b409-ec592837f11a"
   },
   "outputs": [
    {
     "data": {
      "text/plain": [
       "{'n_neighbors': 44, 'weights': 'distance'}"
      ]
     },
     "execution_count": 41,
     "metadata": {},
     "output_type": "execute_result"
    }
   ],
   "source": [
    "# 7. parameter terbaik\n",
    "gscv.best_params_"
   ]
  },
  {
   "cell_type": "markdown",
   "metadata": {
    "id": "RUjMVdB6JzL0"
   },
   "source": [
    "#### NO 8"
   ]
  },
  {
   "cell_type": "code",
   "execution_count": 42,
   "metadata": {
    "colab": {
     "base_uri": "https://localhost:8080/"
    },
    "executionInfo": {
     "elapsed": 72,
     "status": "ok",
     "timestamp": 1639059250984,
     "user": {
      "displayName": "Richard Enrico",
      "photoUrl": "https://lh3.googleusercontent.com/a-/AOh14Gimgm4FbT6Wtue2-dVzWOFlRCjsbUl_rJJVm4X5BQ=s64",
      "userId": "17517833725718032826"
     },
     "user_tz": -480
    },
    "id": "xhqfzxUffQBY",
    "outputId": "18405310-3c30-4be8-e731-0446ec332351"
   },
   "outputs": [
    {
     "data": {
      "text/plain": [
       "0.7328256302521009"
      ]
     },
     "execution_count": 42,
     "metadata": {},
     "output_type": "execute_result"
    }
   ],
   "source": [
    "# 8. score validasi terbaik\n",
    "gscv.best_score_"
   ]
  },
  {
   "cell_type": "markdown",
   "metadata": {
    "id": "-Od3V-5ZJzL1"
   },
   "source": [
    "#### NO 9"
   ]
  },
  {
   "cell_type": "code",
   "execution_count": 43,
   "metadata": {
    "colab": {
     "base_uri": "https://localhost:8080/"
    },
    "executionInfo": {
     "elapsed": 64,
     "status": "ok",
     "timestamp": 1639059250985,
     "user": {
      "displayName": "Richard Enrico",
      "photoUrl": "https://lh3.googleusercontent.com/a-/AOh14Gimgm4FbT6Wtue2-dVzWOFlRCjsbUl_rJJVm4X5BQ=s64",
      "userId": "17517833725718032826"
     },
     "user_tz": -480
    },
    "id": "X5tQh4IufRpF",
    "outputId": "4cb7ae25-e7f5-436c-e8cf-cd2e13201cff",
    "scrolled": true
   },
   "outputs": [
    {
     "data": {
      "text/plain": [
       "array([[0.83243084, 0.16756916],\n",
       "       [0.82948389, 0.17051611],\n",
       "       [0.83654015, 0.16345985],\n",
       "       [0.88637563, 0.11362437],\n",
       "       [0.79353081, 0.20646919],\n",
       "       [0.85764058, 0.14235942],\n",
       "       [1.        , 0.        ],\n",
       "       [0.91059345, 0.08940655],\n",
       "       [1.        , 0.        ],\n",
       "       [0.40791879, 0.59208121],\n",
       "       [0.74847637, 0.25152363],\n",
       "       [0.85851565, 0.14148435],\n",
       "       [0.74381719, 0.25618281],\n",
       "       [0.39343436, 0.60656564],\n",
       "       [0.87592463, 0.12407537],\n",
       "       [0.83027157, 0.16972843],\n",
       "       [0.81891568, 0.18108432],\n",
       "       [0.84789266, 0.15210734],\n",
       "       [0.81972569, 0.18027431],\n",
       "       [0.54389078, 0.45610922],\n",
       "       [0.75882428, 0.24117572],\n",
       "       [0.81902643, 0.18097357],\n",
       "       [1.        , 0.        ],\n",
       "       [0.876866  , 0.123134  ],\n",
       "       [0.48249566, 0.51750434],\n",
       "       [0.45003424, 0.54996576],\n",
       "       [0.57543564, 0.42456436],\n",
       "       [1.        , 0.        ],\n",
       "       [0.81528165, 0.18471835],\n",
       "       [0.91817378, 0.08182622],\n",
       "       [1.        , 0.        ],\n",
       "       [0.87592463, 0.12407537],\n",
       "       [1.        , 0.        ],\n",
       "       [0.67634355, 0.32365645],\n",
       "       [0.81489874, 0.18510126],\n",
       "       [1.        , 0.        ],\n",
       "       [0.91401356, 0.08598644],\n",
       "       [0.83700137, 0.16299863],\n",
       "       [0.65450277, 0.34549723],\n",
       "       [0.71600536, 0.28399464],\n",
       "       [0.86429849, 0.13570151],\n",
       "       [0.67185   , 0.32815   ],\n",
       "       [0.70729854, 0.29270146],\n",
       "       [0.32659927, 0.67340073],\n",
       "       [0.85152043, 0.14847957],\n",
       "       [0.87526755, 0.12473245],\n",
       "       [0.8657768 , 0.1342232 ],\n",
       "       [1.        , 0.        ],\n",
       "       [0.85587677, 0.14412323],\n",
       "       [0.81470662, 0.18529338],\n",
       "       [0.        , 1.        ],\n",
       "       [0.58630218, 0.41369782],\n",
       "       [0.78465635, 0.21534365],\n",
       "       [0.8273538 , 0.1726462 ],\n",
       "       [0.93065293, 0.06934707],\n",
       "       [0.78771332, 0.21228668],\n",
       "       [0.59771908, 0.40228092],\n",
       "       [0.85819935, 0.14180065],\n",
       "       [0.86802918, 0.13197082],\n",
       "       [0.85712324, 0.14287676],\n",
       "       [0.79150349, 0.20849651],\n",
       "       [0.81972569, 0.18027431],\n",
       "       [0.84895854, 0.15104146],\n",
       "       [0.87651676, 0.12348324],\n",
       "       [0.80510937, 0.19489063],\n",
       "       [1.        , 0.        ],\n",
       "       [0.61065018, 0.38934982],\n",
       "       [0.7790642 , 0.2209358 ],\n",
       "       [0.39894921, 0.60105079],\n",
       "       [0.74452557, 0.25547443],\n",
       "       [0.86842977, 0.13157023],\n",
       "       [0.65017413, 0.34982587],\n",
       "       [0.78410585, 0.21589415],\n",
       "       [0.9144802 , 0.0855198 ],\n",
       "       [0.77803863, 0.22196137],\n",
       "       [0.76783574, 0.23216426],\n",
       "       [0.86016996, 0.13983004]])"
      ]
     },
     "execution_count": 43,
     "metadata": {},
     "output_type": "execute_result"
    }
   ],
   "source": [
    "# 9. prediksikan probabilitas masing-masing data test\n",
    "y_predict = gscv.predict_proba(X_test)\n",
    "y_predict"
   ]
  },
  {
   "cell_type": "code",
   "execution_count": 44,
   "metadata": {
    "colab": {
     "base_uri": "https://localhost:8080/"
    },
    "executionInfo": {
     "elapsed": 60,
     "status": "ok",
     "timestamp": 1639059250987,
     "user": {
      "displayName": "Richard Enrico",
      "photoUrl": "https://lh3.googleusercontent.com/a-/AOh14Gimgm4FbT6Wtue2-dVzWOFlRCjsbUl_rJJVm4X5BQ=s64",
      "userId": "17517833725718032826"
     },
     "user_tz": -480
    },
    "id": "J0TM31CiJzL2",
    "outputId": "71d22675-53a6-440c-9e9e-ffec36641947"
   },
   "outputs": [
    {
     "data": {
      "text/plain": [
       "0.5"
      ]
     },
     "execution_count": 44,
     "metadata": {},
     "output_type": "execute_result"
    }
   ],
   "source": [
    "# nilai rata-rata probabilitas data test\n",
    "y_predict.mean()"
   ]
  },
  {
   "cell_type": "markdown",
   "metadata": {
    "id": "5oasxvpeJzL2"
   },
   "source": [
    "#### NO 10"
   ]
  },
  {
   "cell_type": "code",
   "execution_count": 45,
   "metadata": {
    "colab": {
     "base_uri": "https://localhost:8080/"
    },
    "executionInfo": {
     "elapsed": 49,
     "status": "ok",
     "timestamp": 1639059250987,
     "user": {
      "displayName": "Richard Enrico",
      "photoUrl": "https://lh3.googleusercontent.com/a-/AOh14Gimgm4FbT6Wtue2-dVzWOFlRCjsbUl_rJJVm4X5BQ=s64",
      "userId": "17517833725718032826"
     },
     "user_tz": -480
    },
    "id": "sUMrtvGUfWcn",
    "outputId": "b088f917-cf26-42e9-ac27-9add7bf5f4b5"
   },
   "outputs": [
    {
     "name": "stdout",
     "output_type": "stream",
     "text": [
      "[0.16756916 0.17051611 0.16345985 0.11362437 0.20646919 0.14235942\n",
      " 0.         0.08940655 0.         0.59208121 0.25152363 0.14148435\n",
      " 0.25618281 0.60656564 0.12407537 0.16972843 0.18108432 0.15210734\n",
      " 0.18027431 0.45610922 0.24117572 0.18097357 0.         0.123134\n",
      " 0.51750434 0.54996576 0.42456436 0.         0.18471835 0.08182622\n",
      " 0.         0.12407537 0.         0.32365645 0.18510126 0.\n",
      " 0.08598644 0.16299863 0.34549723 0.28399464 0.13570151 0.32815\n",
      " 0.29270146 0.67340073 0.14847957 0.12473245 0.1342232  0.\n",
      " 0.14412323 0.18529338 1.         0.41369782 0.21534365 0.1726462\n",
      " 0.06934707 0.21228668 0.40228092 0.14180065 0.13197082 0.14287676\n",
      " 0.20849651 0.18027431 0.15104146 0.12348324 0.19489063 0.\n",
      " 0.38934982 0.2209358  0.60105079 0.25547443 0.13157023 0.34982587\n",
      " 0.21589415 0.0855198  0.22196137 0.23216426 0.13983004]\n"
     ]
    }
   ],
   "source": [
    "# 10. nilai score roc_auc \n",
    "kurang_5th = y_predict[:,1]\n",
    "print(kurang_5th)"
   ]
  },
  {
   "cell_type": "markdown",
   "metadata": {
    "id": "AIiwalG2JzL3"
   },
   "source": [
    "#### NO 11 "
   ]
  },
  {
   "cell_type": "code",
   "execution_count": 46,
   "metadata": {
    "colab": {
     "base_uri": "https://localhost:8080/"
    },
    "executionInfo": {
     "elapsed": 44,
     "status": "ok",
     "timestamp": 1639059250988,
     "user": {
      "displayName": "Richard Enrico",
      "photoUrl": "https://lh3.googleusercontent.com/a-/AOh14Gimgm4FbT6Wtue2-dVzWOFlRCjsbUl_rJJVm4X5BQ=s64",
      "userId": "17517833725718032826"
     },
     "user_tz": -480
    },
    "id": "0KXlBnc_iMP8",
    "outputId": "11d320fe-a034-4ded-9c43-99f31d70ab2f"
   },
   "outputs": [
    {
     "data": {
      "text/plain": [
       "{'fit_time': array([0.00476003, 0.00242162, 0.00251698, 0.00233078, 0.00236988]),\n",
       " 'score_time': array([0.0034647 , 0.00294065, 0.00311852, 0.00469446, 0.002882  ]),\n",
       " 'test_score': array([0.74193548, 0.7704918 , 0.73770492, 0.78688525, 0.73770492]),\n",
       " 'train_score': array([0.9795082 , 0.98367347, 0.97959184, 0.97959184, 0.98367347])}"
      ]
     },
     "execution_count": 46,
     "metadata": {},
     "output_type": "execute_result"
    }
   ],
   "source": [
    "from sklearn.model_selection import cross_validate\n",
    "\n",
    "knn = KNeighborsClassifier(n_neighbors= 44, weights=\"distance\")\n",
    "knn.fit(X_train, y_train)\n",
    "\n",
    "cv_dict = cross_validate(knn, X, y, return_train_score=True)\n",
    "cv_dict"
   ]
  },
  {
   "cell_type": "markdown",
   "metadata": {
    "id": "mHjZmxFyfejG"
   },
   "source": [
    " <p style=\"color:#FF0000\">Jawab</p>\n",
    " Dari hasil cross validation di atas, model yang dibuat termasuk baik.\n"
   ]
  },
  {
   "cell_type": "markdown",
   "metadata": {
    "id": "iC1BY0X8JzL4"
   },
   "source": [
    "<h1> Soal 5: </h1>\n",
    "\n",
    "\n",
    "1. Ulangi tahap di atas (soal 4, no 1 - 8) namun kali ini menggunakan algoritma DecisionTreeClassifier dan kalian bisa menggunakan RandomizedSearchCV apabila process training lama. pelajari algoritma DecisionTreeClassifier di linkberikut: https://scikit-learn.org/stable/modules/generated/sklearn.tree.DecisionTreeClassifier.html?highlight=decisiontreeclassifier#sklearn.tree.DecisionTreeClassifier\n",
    "2. Bandingkan scorenya dengan Algoritma KNN, mana yang lebih baik?\n",
    "\n",
    "Note : Data Science adalah experiment, sangat di dimungkinkan memerlukan beberapa kali percobaan untuk mendapatkan hasil yang terbaik! Happy Coding :)"
   ]
  },
  {
   "cell_type": "markdown",
   "metadata": {
    "id": "G3SRgyfyJzL5"
   },
   "source": [
    "#### NO 1"
   ]
  },
  {
   "cell_type": "code",
   "execution_count": 54,
   "metadata": {
    "executionInfo": {
     "elapsed": 686,
     "status": "ok",
     "timestamp": 1639059287940,
     "user": {
      "displayName": "Richard Enrico",
      "photoUrl": "https://lh3.googleusercontent.com/a-/AOh14Gimgm4FbT6Wtue2-dVzWOFlRCjsbUl_rJJVm4X5BQ=s64",
      "userId": "17517833725718032826"
     },
     "user_tz": -480
    },
    "id": "E4E6YlWOfYwm"
   },
   "outputs": [],
   "source": [
    "# 1. import algoritma DecisionTreeClassifier\n",
    "from sklearn.tree import DecisionTreeClassifier\n"
   ]
  },
  {
   "cell_type": "code",
   "execution_count": 55,
   "metadata": {
    "colab": {
     "base_uri": "https://localhost:8080/"
    },
    "executionInfo": {
     "elapsed": 11238,
     "status": "ok",
     "timestamp": 1639059301660,
     "user": {
      "displayName": "Richard Enrico",
      "photoUrl": "https://lh3.googleusercontent.com/a-/AOh14Gimgm4FbT6Wtue2-dVzWOFlRCjsbUl_rJJVm4X5BQ=s64",
      "userId": "17517833725718032826"
     },
     "user_tz": -480
    },
    "id": "n6AOPaK8fo6e",
    "outputId": "f9644b05-34e8-431f-940a-818536194d6f"
   },
   "outputs": [
    {
     "data": {
      "text/plain": [
       "GridSearchCV(cv=10, estimator=DecisionTreeClassifier(),\n",
       "             param_grid={'criterion': ['entropy', 'gini'],\n",
       "                         'min_samples_split': array([ 2,  3,  4,  5,  6,  7,  8,  9, 10, 11, 12, 13, 14, 15, 16, 17, 18,\n",
       "       19, 20, 21, 22, 23, 24, 25, 26, 27, 28, 29, 30, 31, 32, 33, 34, 35,\n",
       "       36, 37, 38, 39, 40, 41, 42, 43, 44, 45, 46, 47, 48, 49]),\n",
       "                         'splitter': ['best', 'random']},\n",
       "             scoring='roc_auc')"
      ]
     },
     "execution_count": 55,
     "metadata": {},
     "output_type": "execute_result"
    }
   ],
   "source": [
    "# Build model decision tree classifier \n",
    "model_tree = DecisionTreeClassifier()\n",
    "params = {'criterion' : ['entropy','gini'], 'splitter' : ['best', 'random'],\n",
    "         'min_samples_split' : np.arange(2,50)}\n",
    "gscv = GridSearchCV(model_tree, param_grid = params, cv = 10, scoring = \"roc_auc\")\n",
    "gscv.fit(X_train, y_train)"
   ]
  },
  {
   "cell_type": "code",
   "execution_count": 56,
   "metadata": {
    "colab": {
     "base_uri": "https://localhost:8080/"
    },
    "executionInfo": {
     "elapsed": 11,
     "status": "ok",
     "timestamp": 1639059303523,
     "user": {
      "displayName": "Richard Enrico",
      "photoUrl": "https://lh3.googleusercontent.com/a-/AOh14Gimgm4FbT6Wtue2-dVzWOFlRCjsbUl_rJJVm4X5BQ=s64",
      "userId": "17517833725718032826"
     },
     "user_tz": -480
    },
    "id": "bf-n20APfrnd",
    "outputId": "6698c509-ce23-4648-9082-c3d9fc7107b4"
   },
   "outputs": [
    {
     "data": {
      "text/plain": [
       "{'criterion': 'gini', 'min_samples_split': 38, 'splitter': 'random'}"
      ]
     },
     "execution_count": 56,
     "metadata": {},
     "output_type": "execute_result"
    }
   ],
   "source": [
    "# parameter terbaik\n",
    "gscv.best_params_"
   ]
  },
  {
   "cell_type": "code",
   "execution_count": 57,
   "metadata": {
    "colab": {
     "base_uri": "https://localhost:8080/"
    },
    "executionInfo": {
     "elapsed": 11,
     "status": "ok",
     "timestamp": 1639059305915,
     "user": {
      "displayName": "Richard Enrico",
      "photoUrl": "https://lh3.googleusercontent.com/a-/AOh14Gimgm4FbT6Wtue2-dVzWOFlRCjsbUl_rJJVm4X5BQ=s64",
      "userId": "17517833725718032826"
     },
     "user_tz": -480
    },
    "id": "oghdg_0yfx7l",
    "outputId": "7a9631b1-42d4-43d9-d45a-2229153df4a7"
   },
   "outputs": [
    {
     "data": {
      "text/plain": [
       "0.7451855742296918"
      ]
     },
     "execution_count": 57,
     "metadata": {},
     "output_type": "execute_result"
    }
   ],
   "source": [
    "# score validasi terbaik\n",
    "gscv.best_score_"
   ]
  },
  {
   "cell_type": "markdown",
   "metadata": {
    "id": "pQp4KbyVJzMH"
   },
   "source": [
    "#### NO 2"
   ]
  },
  {
   "cell_type": "markdown",
   "metadata": {
    "id": "mF4C599vf5c-"
   },
   "source": [
    " <p style=\"color:#FF0000\">Jawab</p>\n"
   ]
  },
  {
   "cell_type": "code",
   "execution_count": 77,
   "metadata": {
    "colab": {
     "base_uri": "https://localhost:8080/"
    },
    "executionInfo": {
     "elapsed": 7,
     "status": "ok",
     "timestamp": 1639059454409,
     "user": {
      "displayName": "Richard Enrico",
      "photoUrl": "https://lh3.googleusercontent.com/a-/AOh14Gimgm4FbT6Wtue2-dVzWOFlRCjsbUl_rJJVm4X5BQ=s64",
      "userId": "17517833725718032826"
     },
     "user_tz": -480
    },
    "id": "JK10YOm7a-AG",
    "outputId": "52fb8272-f6b1-418c-e9f0-d22ab49a2e3a"
   },
   "outputs": [
    {
     "data": {
      "text/plain": [
       "DecisionTreeClassifier(min_samples_split=39, splitter='random')"
      ]
     },
     "execution_count": 77,
     "metadata": {},
     "output_type": "execute_result"
    }
   ],
   "source": [
    "tree = DecisionTreeClassifier(criterion=\"gini\",min_samples_split=39, splitter=\"random\")\n",
    "tree.fit(X_train, y_train)"
   ]
  },
  {
   "cell_type": "code",
   "execution_count": 78,
   "metadata": {
    "executionInfo": {
     "elapsed": 6,
     "status": "ok",
     "timestamp": 1639059455838,
     "user": {
      "displayName": "Richard Enrico",
      "photoUrl": "https://lh3.googleusercontent.com/a-/AOh14Gimgm4FbT6Wtue2-dVzWOFlRCjsbUl_rJJVm4X5BQ=s64",
      "userId": "17517833725718032826"
     },
     "user_tz": -480
    },
    "id": "Gmx27MdtaB9a"
   },
   "outputs": [],
   "source": [
    "score_knn = cross_val_score(knn, X, y, scoring = 'roc_auc', cv = 10)\n",
    "score_gscv = cross_val_score(tree, X, y, scoring = 'roc_auc', cv = 10)"
   ]
  },
  {
   "cell_type": "code",
   "execution_count": 79,
   "metadata": {
    "colab": {
     "base_uri": "https://localhost:8080/"
    },
    "executionInfo": {
     "elapsed": 11,
     "status": "ok",
     "timestamp": 1639059457726,
     "user": {
      "displayName": "Richard Enrico",
      "photoUrl": "https://lh3.googleusercontent.com/a-/AOh14Gimgm4FbT6Wtue2-dVzWOFlRCjsbUl_rJJVm4X5BQ=s64",
      "userId": "17517833725718032826"
     },
     "user_tz": -480
    },
    "id": "OWj9wD6IbLC6",
    "outputId": "c58521ce-15e8-48a7-953f-1949aab96dca"
   },
   "outputs": [
    {
     "name": "stdout",
     "output_type": "stream",
     "text": [
      "0.7029795234958278 0.682887296881862\n"
     ]
    }
   ],
   "source": [
    "print(score_knn.mean(), score_gscv.mean())"
   ]
  },
  {
   "cell_type": "markdown",
   "metadata": {
    "id": "xcAjDD7BjPJ6"
   },
   "source": [
    "Pada kasus ini, score model KNN sedikit lebih baik dibandingkan model Descision Tree."
   ]
  }
 ],
 "metadata": {
  "colab": {
   "collapsed_sections": [],
   "name": "Tugas Mandiri Pertemuan 16_Richard Enrico Sulieanto_Universitas Hasanuddin.ipynb",
   "provenance": [
    {
     "file_id": "1-2IhnXZGXA3Ppbuh7mSemwacuuC7Rns7",
     "timestamp": 1639052697648
    }
   ]
  },
  "kernelspec": {
   "display_name": "Python 3 (ipykernel)",
   "language": "python",
   "name": "python3"
  },
  "language_info": {
   "codemirror_mode": {
    "name": "ipython",
    "version": 3
   },
   "file_extension": ".py",
   "mimetype": "text/x-python",
   "name": "python",
   "nbconvert_exporter": "python",
   "pygments_lexer": "ipython3",
   "version": "3.7.7"
  }
 },
 "nbformat": 4,
 "nbformat_minor": 1
}
